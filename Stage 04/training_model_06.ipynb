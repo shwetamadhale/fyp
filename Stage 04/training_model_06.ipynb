{
 "cells": [
  {
   "cell_type": "markdown",
   "id": "bb6ec919",
   "metadata": {},
   "source": [
    "# Libraries"
   ]
  },
  {
   "cell_type": "code",
   "execution_count": 1,
   "id": "d79b9c38",
   "metadata": {},
   "outputs": [],
   "source": [
    "from keras.layers import Dense, Flatten, Conv2D, MaxPool2D, Dropout\n",
    "from keras.callbacks import ReduceLROnPlateau, EarlyStopping\n",
    "from tensorflow.keras.optimizers import SGD, Adam\n",
    "from sklearn.model_selection import train_test_split\n",
    "from keras.utils.np_utils import to_categorical\n",
    "from keras.models import Sequential\n",
    "from tqdm import tqdm_notebook\n",
    "from keras.datasets import mnist\n",
    "from sklearn.utils import shuffle\n",
    "from keras.utils import np_utils\n",
    "import matplotlib.pyplot as plt\n",
    "import numpy as np\n",
    "import pandas as pd\n",
    "import cv2\n"
   ]
  },
  {
   "cell_type": "markdown",
   "id": "a911e707",
   "metadata": {},
   "source": [
    "### Reading data from prepared dataset "
   ]
  },
  {
   "cell_type": "code",
   "execution_count": 2,
   "id": "3f04a18d",
   "metadata": {},
   "outputs": [],
   "source": [
    "data = pd.read_csv('C:/Users/madha/Downloads/Last Stage/dataset.csv').astype('float32')"
   ]
  },
  {
   "cell_type": "code",
   "execution_count": 3,
   "id": "d5bc91ad",
   "metadata": {},
   "outputs": [
    {
     "data": {
      "text/html": [
       "<div>\n",
       "<style scoped>\n",
       "    .dataframe tbody tr th:only-of-type {\n",
       "        vertical-align: middle;\n",
       "    }\n",
       "\n",
       "    .dataframe tbody tr th {\n",
       "        vertical-align: top;\n",
       "    }\n",
       "\n",
       "    .dataframe thead th {\n",
       "        text-align: right;\n",
       "    }\n",
       "</style>\n",
       "<table border=\"1\" class=\"dataframe\">\n",
       "  <thead>\n",
       "    <tr style=\"text-align: right;\">\n",
       "      <th></th>\n",
       "      <th>0</th>\n",
       "      <th>255</th>\n",
       "      <th>255.1</th>\n",
       "      <th>255.2</th>\n",
       "      <th>255.3</th>\n",
       "      <th>255.4</th>\n",
       "      <th>255.5</th>\n",
       "      <th>255.6</th>\n",
       "      <th>255.7</th>\n",
       "      <th>255.8</th>\n",
       "      <th>...</th>\n",
       "      <th>255.641</th>\n",
       "      <th>255.642</th>\n",
       "      <th>255.643</th>\n",
       "      <th>255.644</th>\n",
       "      <th>255.645</th>\n",
       "      <th>255.646</th>\n",
       "      <th>255.647</th>\n",
       "      <th>255.648</th>\n",
       "      <th>255.649</th>\n",
       "      <th>255.650</th>\n",
       "    </tr>\n",
       "  </thead>\n",
       "  <tbody>\n",
       "    <tr>\n",
       "      <th>0</th>\n",
       "      <td>0.0</td>\n",
       "      <td>255.0</td>\n",
       "      <td>255.0</td>\n",
       "      <td>255.0</td>\n",
       "      <td>255.0</td>\n",
       "      <td>255.0</td>\n",
       "      <td>255.0</td>\n",
       "      <td>255.0</td>\n",
       "      <td>255.0</td>\n",
       "      <td>255.0</td>\n",
       "      <td>...</td>\n",
       "      <td>255.0</td>\n",
       "      <td>255.0</td>\n",
       "      <td>255.0</td>\n",
       "      <td>255.0</td>\n",
       "      <td>255.0</td>\n",
       "      <td>255.0</td>\n",
       "      <td>255.0</td>\n",
       "      <td>255.0</td>\n",
       "      <td>255.0</td>\n",
       "      <td>255.0</td>\n",
       "    </tr>\n",
       "    <tr>\n",
       "      <th>1</th>\n",
       "      <td>0.0</td>\n",
       "      <td>255.0</td>\n",
       "      <td>255.0</td>\n",
       "      <td>255.0</td>\n",
       "      <td>255.0</td>\n",
       "      <td>255.0</td>\n",
       "      <td>255.0</td>\n",
       "      <td>255.0</td>\n",
       "      <td>255.0</td>\n",
       "      <td>255.0</td>\n",
       "      <td>...</td>\n",
       "      <td>255.0</td>\n",
       "      <td>255.0</td>\n",
       "      <td>255.0</td>\n",
       "      <td>255.0</td>\n",
       "      <td>255.0</td>\n",
       "      <td>255.0</td>\n",
       "      <td>255.0</td>\n",
       "      <td>255.0</td>\n",
       "      <td>255.0</td>\n",
       "      <td>255.0</td>\n",
       "    </tr>\n",
       "    <tr>\n",
       "      <th>2</th>\n",
       "      <td>0.0</td>\n",
       "      <td>255.0</td>\n",
       "      <td>255.0</td>\n",
       "      <td>255.0</td>\n",
       "      <td>255.0</td>\n",
       "      <td>255.0</td>\n",
       "      <td>255.0</td>\n",
       "      <td>255.0</td>\n",
       "      <td>255.0</td>\n",
       "      <td>255.0</td>\n",
       "      <td>...</td>\n",
       "      <td>255.0</td>\n",
       "      <td>255.0</td>\n",
       "      <td>255.0</td>\n",
       "      <td>255.0</td>\n",
       "      <td>255.0</td>\n",
       "      <td>255.0</td>\n",
       "      <td>255.0</td>\n",
       "      <td>255.0</td>\n",
       "      <td>255.0</td>\n",
       "      <td>255.0</td>\n",
       "    </tr>\n",
       "    <tr>\n",
       "      <th>3</th>\n",
       "      <td>0.0</td>\n",
       "      <td>255.0</td>\n",
       "      <td>255.0</td>\n",
       "      <td>255.0</td>\n",
       "      <td>255.0</td>\n",
       "      <td>255.0</td>\n",
       "      <td>255.0</td>\n",
       "      <td>255.0</td>\n",
       "      <td>255.0</td>\n",
       "      <td>255.0</td>\n",
       "      <td>...</td>\n",
       "      <td>255.0</td>\n",
       "      <td>255.0</td>\n",
       "      <td>255.0</td>\n",
       "      <td>255.0</td>\n",
       "      <td>255.0</td>\n",
       "      <td>255.0</td>\n",
       "      <td>255.0</td>\n",
       "      <td>255.0</td>\n",
       "      <td>255.0</td>\n",
       "      <td>255.0</td>\n",
       "    </tr>\n",
       "    <tr>\n",
       "      <th>4</th>\n",
       "      <td>0.0</td>\n",
       "      <td>255.0</td>\n",
       "      <td>255.0</td>\n",
       "      <td>255.0</td>\n",
       "      <td>255.0</td>\n",
       "      <td>255.0</td>\n",
       "      <td>255.0</td>\n",
       "      <td>255.0</td>\n",
       "      <td>255.0</td>\n",
       "      <td>255.0</td>\n",
       "      <td>...</td>\n",
       "      <td>255.0</td>\n",
       "      <td>254.0</td>\n",
       "      <td>252.0</td>\n",
       "      <td>252.0</td>\n",
       "      <td>252.0</td>\n",
       "      <td>254.0</td>\n",
       "      <td>255.0</td>\n",
       "      <td>255.0</td>\n",
       "      <td>255.0</td>\n",
       "      <td>255.0</td>\n",
       "    </tr>\n",
       "    <tr>\n",
       "      <th>...</th>\n",
       "      <td>...</td>\n",
       "      <td>...</td>\n",
       "      <td>...</td>\n",
       "      <td>...</td>\n",
       "      <td>...</td>\n",
       "      <td>...</td>\n",
       "      <td>...</td>\n",
       "      <td>...</td>\n",
       "      <td>...</td>\n",
       "      <td>...</td>\n",
       "      <td>...</td>\n",
       "      <td>...</td>\n",
       "      <td>...</td>\n",
       "      <td>...</td>\n",
       "      <td>...</td>\n",
       "      <td>...</td>\n",
       "      <td>...</td>\n",
       "      <td>...</td>\n",
       "      <td>...</td>\n",
       "      <td>...</td>\n",
       "      <td>...</td>\n",
       "    </tr>\n",
       "    <tr>\n",
       "      <th>137204</th>\n",
       "      <td>134.0</td>\n",
       "      <td>255.0</td>\n",
       "      <td>255.0</td>\n",
       "      <td>255.0</td>\n",
       "      <td>255.0</td>\n",
       "      <td>255.0</td>\n",
       "      <td>255.0</td>\n",
       "      <td>254.0</td>\n",
       "      <td>252.0</td>\n",
       "      <td>247.0</td>\n",
       "      <td>...</td>\n",
       "      <td>255.0</td>\n",
       "      <td>255.0</td>\n",
       "      <td>255.0</td>\n",
       "      <td>255.0</td>\n",
       "      <td>255.0</td>\n",
       "      <td>255.0</td>\n",
       "      <td>255.0</td>\n",
       "      <td>255.0</td>\n",
       "      <td>255.0</td>\n",
       "      <td>255.0</td>\n",
       "    </tr>\n",
       "    <tr>\n",
       "      <th>137205</th>\n",
       "      <td>134.0</td>\n",
       "      <td>255.0</td>\n",
       "      <td>255.0</td>\n",
       "      <td>255.0</td>\n",
       "      <td>255.0</td>\n",
       "      <td>255.0</td>\n",
       "      <td>254.0</td>\n",
       "      <td>254.0</td>\n",
       "      <td>253.0</td>\n",
       "      <td>252.0</td>\n",
       "      <td>...</td>\n",
       "      <td>204.0</td>\n",
       "      <td>179.0</td>\n",
       "      <td>167.0</td>\n",
       "      <td>170.0</td>\n",
       "      <td>191.0</td>\n",
       "      <td>214.0</td>\n",
       "      <td>234.0</td>\n",
       "      <td>247.0</td>\n",
       "      <td>253.0</td>\n",
       "      <td>255.0</td>\n",
       "    </tr>\n",
       "    <tr>\n",
       "      <th>137206</th>\n",
       "      <td>134.0</td>\n",
       "      <td>233.0</td>\n",
       "      <td>236.0</td>\n",
       "      <td>242.0</td>\n",
       "      <td>249.0</td>\n",
       "      <td>252.0</td>\n",
       "      <td>254.0</td>\n",
       "      <td>255.0</td>\n",
       "      <td>255.0</td>\n",
       "      <td>255.0</td>\n",
       "      <td>...</td>\n",
       "      <td>240.0</td>\n",
       "      <td>239.0</td>\n",
       "      <td>240.0</td>\n",
       "      <td>242.0</td>\n",
       "      <td>246.0</td>\n",
       "      <td>249.0</td>\n",
       "      <td>252.0</td>\n",
       "      <td>254.0</td>\n",
       "      <td>255.0</td>\n",
       "      <td>255.0</td>\n",
       "    </tr>\n",
       "    <tr>\n",
       "      <th>137207</th>\n",
       "      <td>134.0</td>\n",
       "      <td>255.0</td>\n",
       "      <td>255.0</td>\n",
       "      <td>255.0</td>\n",
       "      <td>255.0</td>\n",
       "      <td>255.0</td>\n",
       "      <td>255.0</td>\n",
       "      <td>255.0</td>\n",
       "      <td>255.0</td>\n",
       "      <td>255.0</td>\n",
       "      <td>...</td>\n",
       "      <td>249.0</td>\n",
       "      <td>252.0</td>\n",
       "      <td>254.0</td>\n",
       "      <td>255.0</td>\n",
       "      <td>255.0</td>\n",
       "      <td>255.0</td>\n",
       "      <td>255.0</td>\n",
       "      <td>255.0</td>\n",
       "      <td>255.0</td>\n",
       "      <td>255.0</td>\n",
       "    </tr>\n",
       "    <tr>\n",
       "      <th>137208</th>\n",
       "      <td>134.0</td>\n",
       "      <td>237.0</td>\n",
       "      <td>239.0</td>\n",
       "      <td>245.0</td>\n",
       "      <td>250.0</td>\n",
       "      <td>253.0</td>\n",
       "      <td>255.0</td>\n",
       "      <td>255.0</td>\n",
       "      <td>255.0</td>\n",
       "      <td>255.0</td>\n",
       "      <td>...</td>\n",
       "      <td>254.0</td>\n",
       "      <td>255.0</td>\n",
       "      <td>255.0</td>\n",
       "      <td>255.0</td>\n",
       "      <td>255.0</td>\n",
       "      <td>255.0</td>\n",
       "      <td>255.0</td>\n",
       "      <td>255.0</td>\n",
       "      <td>255.0</td>\n",
       "      <td>255.0</td>\n",
       "    </tr>\n",
       "  </tbody>\n",
       "</table>\n",
       "<p>137209 rows × 785 columns</p>\n",
       "</div>"
      ],
      "text/plain": [
       "            0    255  255.1  255.2  255.3  255.4  255.5  255.6  255.7  255.8  \\\n",
       "0         0.0  255.0  255.0  255.0  255.0  255.0  255.0  255.0  255.0  255.0   \n",
       "1         0.0  255.0  255.0  255.0  255.0  255.0  255.0  255.0  255.0  255.0   \n",
       "2         0.0  255.0  255.0  255.0  255.0  255.0  255.0  255.0  255.0  255.0   \n",
       "3         0.0  255.0  255.0  255.0  255.0  255.0  255.0  255.0  255.0  255.0   \n",
       "4         0.0  255.0  255.0  255.0  255.0  255.0  255.0  255.0  255.0  255.0   \n",
       "...       ...    ...    ...    ...    ...    ...    ...    ...    ...    ...   \n",
       "137204  134.0  255.0  255.0  255.0  255.0  255.0  255.0  254.0  252.0  247.0   \n",
       "137205  134.0  255.0  255.0  255.0  255.0  255.0  254.0  254.0  253.0  252.0   \n",
       "137206  134.0  233.0  236.0  242.0  249.0  252.0  254.0  255.0  255.0  255.0   \n",
       "137207  134.0  255.0  255.0  255.0  255.0  255.0  255.0  255.0  255.0  255.0   \n",
       "137208  134.0  237.0  239.0  245.0  250.0  253.0  255.0  255.0  255.0  255.0   \n",
       "\n",
       "        ...  255.641  255.642  255.643  255.644  255.645  255.646  255.647  \\\n",
       "0       ...    255.0    255.0    255.0    255.0    255.0    255.0    255.0   \n",
       "1       ...    255.0    255.0    255.0    255.0    255.0    255.0    255.0   \n",
       "2       ...    255.0    255.0    255.0    255.0    255.0    255.0    255.0   \n",
       "3       ...    255.0    255.0    255.0    255.0    255.0    255.0    255.0   \n",
       "4       ...    255.0    254.0    252.0    252.0    252.0    254.0    255.0   \n",
       "...     ...      ...      ...      ...      ...      ...      ...      ...   \n",
       "137204  ...    255.0    255.0    255.0    255.0    255.0    255.0    255.0   \n",
       "137205  ...    204.0    179.0    167.0    170.0    191.0    214.0    234.0   \n",
       "137206  ...    240.0    239.0    240.0    242.0    246.0    249.0    252.0   \n",
       "137207  ...    249.0    252.0    254.0    255.0    255.0    255.0    255.0   \n",
       "137208  ...    254.0    255.0    255.0    255.0    255.0    255.0    255.0   \n",
       "\n",
       "        255.648  255.649  255.650  \n",
       "0         255.0    255.0    255.0  \n",
       "1         255.0    255.0    255.0  \n",
       "2         255.0    255.0    255.0  \n",
       "3         255.0    255.0    255.0  \n",
       "4         255.0    255.0    255.0  \n",
       "...         ...      ...      ...  \n",
       "137204    255.0    255.0    255.0  \n",
       "137205    247.0    253.0    255.0  \n",
       "137206    254.0    255.0    255.0  \n",
       "137207    255.0    255.0    255.0  \n",
       "137208    255.0    255.0    255.0  \n",
       "\n",
       "[137209 rows x 785 columns]"
      ]
     },
     "execution_count": 3,
     "metadata": {},
     "output_type": "execute_result"
    }
   ],
   "source": [
    "data"
   ]
  },
  {
   "cell_type": "markdown",
   "id": "00db8639",
   "metadata": {},
   "source": [
    "# Data Splitting "
   ]
  },
  {
   "cell_type": "markdown",
   "id": "9293e4c9",
   "metadata": {},
   "source": [
    "### Data is split into images and respective labels"
   ]
  },
  {
   "cell_type": "code",
   "execution_count": 4,
   "id": "3f38a860",
   "metadata": {},
   "outputs": [],
   "source": [
    "X = data.drop('0',axis = 1)\n",
    "y = data['0']"
   ]
  },
  {
   "cell_type": "code",
   "execution_count": 5,
   "id": "ff89ea9d",
   "metadata": {},
   "outputs": [
    {
     "name": "stdout",
     "output_type": "stream",
     "text": [
      "137209\n"
     ]
    }
   ],
   "source": [
    "print(len(X))"
   ]
  },
  {
   "cell_type": "code",
   "execution_count": 6,
   "id": "5acdf433",
   "metadata": {},
   "outputs": [
    {
     "name": "stdout",
     "output_type": "stream",
     "text": [
      "137209\n"
     ]
    }
   ],
   "source": [
    "print(len(y))"
   ]
  },
  {
   "cell_type": "code",
   "execution_count": 7,
   "id": "0763e008",
   "metadata": {},
   "outputs": [],
   "source": [
    "train_x, test_x, train_y, test_y = train_test_split(X, y, test_size = 0.14285)\n"
   ]
  },
  {
   "cell_type": "code",
   "execution_count": 8,
   "id": "a6abdb58",
   "metadata": {},
   "outputs": [
    {
     "name": "stdout",
     "output_type": "stream",
     "text": [
      "117608\n"
     ]
    }
   ],
   "source": [
    "print(len(train_x))"
   ]
  },
  {
   "cell_type": "code",
   "execution_count": 9,
   "id": "77fef8fe",
   "metadata": {},
   "outputs": [
    {
     "name": "stdout",
     "output_type": "stream",
     "text": [
      "19601\n"
     ]
    }
   ],
   "source": [
    "print(len(test_x))"
   ]
  },
  {
   "cell_type": "markdown",
   "id": "9113d102",
   "metadata": {},
   "source": [
    "### Reshaping data to form an image "
   ]
  },
  {
   "cell_type": "code",
   "execution_count": 11,
   "id": "6f7033df",
   "metadata": {},
   "outputs": [],
   "source": [
    "train_x = np.reshape(train_x.values, (train_x.shape[0], 28,28))\n",
    "test_x = np.reshape(test_x.values, (test_x.shape[0], 28,28))"
   ]
  },
  {
   "cell_type": "code",
   "execution_count": 12,
   "id": "14d0fe59",
   "metadata": {},
   "outputs": [
    {
     "name": "stdout",
     "output_type": "stream",
     "text": [
      "Train data shape:  (117608, 28, 28)\n",
      "Test data shape:  (19601, 28, 28)\n"
     ]
    }
   ],
   "source": [
    "print(\"Train data shape: \", train_x.shape)\n",
    "print(\"Test data shape: \", test_x.shape)"
   ]
  },
  {
   "cell_type": "markdown",
   "id": "fdc576d7",
   "metadata": {},
   "source": [
    "### Creating a dictionary to map integer values to specific characters "
   ]
  },
  {
   "cell_type": "code",
   "execution_count": 13,
   "id": "2ee92c6f",
   "metadata": {},
   "outputs": [],
   "source": [
    "# Dictionary for getting characters from index values...\n",
    "symdict =  {0:'0',\n",
    "                    1:'1',\n",
    "                     2:'2',\n",
    "                     3:'3',\n",
    "                     4:'4',\n",
    "                     5:'5',\n",
    "                     6:'6',\n",
    "                     7:'7',\n",
    "                     8:'8',\n",
    "                     9:'9',\n",
    "                     10:'+',\n",
    "                     11:'-',\n",
    "                     12:'x',\n",
    "                     13:'÷',\n",
    "                     14:'(',\n",
    "                     15:')',\n",
    "                     16:'[',\n",
    "                     17:']',\n",
    "                     18:'{',\n",
    "                     19:'}',\n",
    "                     20:'a',\n",
    "                     21:'b',\n",
    "                     22:'c',\n",
    "                     23:'d', \n",
    "                     24:'e',\n",
    "                     25:'f',\n",
    "                     26:'g',\n",
    "                     27:'h',\n",
    "                     28:'i',\n",
    "                     29:'j',\n",
    "                     30:'k',\n",
    "                     31:'l',\n",
    "                     32:'m',\n",
    "                     33:'n',\n",
    "                     34:'o',\n",
    "                     35:'p',\n",
    "                     36:'q',\n",
    "                     37:'r',\n",
    "                     38:'s',\n",
    "                     39:'t',\n",
    "                     40:'u',\n",
    "                     41:'v',\n",
    "                     42:'w',\n",
    "                     43:'x', \n",
    "                     44:'y',\n",
    "                     45:'z',\n",
    "                     46:'A',\n",
    "                     47:'B',\n",
    "                     48:'C', \n",
    "                     49:'D',\n",
    "                     50:'E',\n",
    "                     51:'F',\n",
    "                     52:'G',\n",
    "                     53:'H',\n",
    "                     54:'I',\n",
    "                     55:'J',\n",
    "                     56:'K',\n",
    "                     57:'L',\n",
    "                     58:'M',\n",
    "                     59:'N',\n",
    "                     60:'O',\n",
    "                     61:'P',\n",
    "                     62:'Q',\n",
    "                     63:'R',\n",
    "                     64:'S',\n",
    "                     65:'T',\n",
    "                     66:'U',\n",
    "                     67:'V',\n",
    "                     68:'W',\n",
    "                     69:'X',\n",
    "                     70:'Y',\n",
    "                     71:'Z',\n",
    "                     72:'=',\n",
    "                     73:'≠', \n",
    "                     74:'>',\n",
    "                     75:'<',\n",
    "                     76:'≥',\n",
    "                     77:'≤',\n",
    "                     78:'&',\n",
    "                     79:'`',\n",
    "                     80:':',\n",
    "                     81:',',\n",
    "                     82:'.',\n",
    "                     83:'$',\n",
    "                     84:'!',\n",
    "                     85:'∃',\n",
    "                     86:'@',\n",
    "                     87:'∀',\n",
    "                     88:'#',\n",
    "                     89:'in',\n",
    "                     90:'∞',\n",
    "                     91:'∫',\n",
    "                     92:'lim',\n",
    "                     93:'log', \n",
    "                     94:'%',\n",
    "                     95:'±',\n",
    "                     96:'π',\n",
    "                     97:'′',\n",
    "                     98:'?',\n",
    "                     99:'\"\"',\n",
    "                     100:'^',\n",
    "                     101:'→',\n",
    "                     102:'/',\n",
    "                     103:'√',\n",
    "                     104:'*',\n",
    "                     105:'∑',\n",
    "                     106:'~',\n",
    "                     107:'_',\n",
    "                     108:'sin',\n",
    "                     109:'cos',\n",
    "                     110:'tan',\n",
    "                     111:'𝛂',\n",
    "                     112:'β',\n",
    "                     113:'𝛾', \n",
    "                     114:'δ',\n",
    "                     115:'ε',\n",
    "                     116:'ζ',\n",
    "                     117:'𝜂',\n",
    "                     118:'θ',\n",
    "                     119:'λ', \n",
    "                     120:'μ',\n",
    "                     121:'𝜈',\n",
    "                     122:'π',\n",
    "                     123:'ρ',\n",
    "                     124:'σ',\n",
    "                     125:'𝛕',\n",
    "                     126:'Φ',\n",
    "                     127:'ψ',\n",
    "                     128:'ω',\n",
    "                     129:'Ꭓ',\n",
    "                     130:'ɩ',\n",
    "                     131:'Κ',\n",
    "                     132:'Ο',\n",
    "                     133:'Ʊ',\n",
    "                     134:'ξ'\n",
    "            }"
   ]
  },
  {
   "cell_type": "markdown",
   "id": "709d63bf",
   "metadata": {},
   "source": [
    "### Visualizing character count in the prepared dataset "
   ]
  },
  {
   "cell_type": "code",
   "execution_count": 14,
   "id": "20232ca7",
   "metadata": {},
   "outputs": [
    {
     "name": "stderr",
     "output_type": "stream",
     "text": [
      "C:\\ProgramData\\Anaconda3\\lib\\site-packages\\matplotlib\\backends\\backend_agg.py:240: RuntimeWarning: Glyph 120514 missing from current font.\n",
      "  font.set_text(s, 0.0, flags=flags)\n",
      "C:\\ProgramData\\Anaconda3\\lib\\site-packages\\matplotlib\\backends\\backend_agg.py:240: RuntimeWarning: Glyph 120574 missing from current font.\n",
      "  font.set_text(s, 0.0, flags=flags)\n",
      "C:\\ProgramData\\Anaconda3\\lib\\site-packages\\matplotlib\\backends\\backend_agg.py:240: RuntimeWarning: Glyph 120578 missing from current font.\n",
      "  font.set_text(s, 0.0, flags=flags)\n",
      "C:\\ProgramData\\Anaconda3\\lib\\site-packages\\matplotlib\\backends\\backend_agg.py:240: RuntimeWarning: Glyph 120584 missing from current font.\n",
      "  font.set_text(s, 0.0, flags=flags)\n",
      "C:\\ProgramData\\Anaconda3\\lib\\site-packages\\matplotlib\\backends\\backend_agg.py:240: RuntimeWarning: Glyph 120533 missing from current font.\n",
      "  font.set_text(s, 0.0, flags=flags)\n",
      "C:\\ProgramData\\Anaconda3\\lib\\site-packages\\matplotlib\\backends\\backend_agg.py:240: RuntimeWarning: Glyph 42931 missing from current font.\n",
      "  font.set_text(s, 0.0, flags=flags)\n",
      "C:\\ProgramData\\Anaconda3\\lib\\site-packages\\matplotlib\\backends\\backend_agg.py:203: RuntimeWarning: Glyph 120514 missing from current font.\n",
      "  font.set_text(s, 0, flags=flags)\n",
      "C:\\ProgramData\\Anaconda3\\lib\\site-packages\\matplotlib\\backends\\backend_agg.py:203: RuntimeWarning: Glyph 120574 missing from current font.\n",
      "  font.set_text(s, 0, flags=flags)\n",
      "C:\\ProgramData\\Anaconda3\\lib\\site-packages\\matplotlib\\backends\\backend_agg.py:203: RuntimeWarning: Glyph 120578 missing from current font.\n",
      "  font.set_text(s, 0, flags=flags)\n",
      "C:\\ProgramData\\Anaconda3\\lib\\site-packages\\matplotlib\\backends\\backend_agg.py:203: RuntimeWarning: Glyph 120584 missing from current font.\n",
      "  font.set_text(s, 0, flags=flags)\n",
      "C:\\ProgramData\\Anaconda3\\lib\\site-packages\\matplotlib\\backends\\backend_agg.py:203: RuntimeWarning: Glyph 120533 missing from current font.\n",
      "  font.set_text(s, 0, flags=flags)\n",
      "C:\\ProgramData\\Anaconda3\\lib\\site-packages\\matplotlib\\backends\\backend_agg.py:203: RuntimeWarning: Glyph 42931 missing from current font.\n",
      "  font.set_text(s, 0, flags=flags)\n"
     ]
    },
    {
     "data": {
      "image/png": "[encoded data removed]",
      "text/plain": [
       "<Figure size 720x2880 with 1 Axes>"
      ]
     },
     "metadata": {
      "needs_background": "light"
     },
     "output_type": "display_data"
    }
   ],
   "source": [
    "train_yint = np.int0(y)\n",
    "count = np.zeros(135, dtype='int')\n",
    "for i in train_yint:\n",
    "    count[i] +=1\n",
    "\n",
    "characters = []\n",
    "for i in symdict.values():\n",
    "    characters.append(i)\n",
    "\n",
    "fig, ax = plt.subplots(1,1, figsize=(10,40))\n",
    "ax.barh(characters, count)\n",
    "\n",
    "plt.xlabel(\"Number of elements \")\n",
    "plt.ylabel(\"Characters\")\n",
    "plt.grid()\n",
    "plt.show()"
   ]
  },
  {
   "cell_type": "markdown",
   "id": "9a66ba31",
   "metadata": {},
   "source": [
    "# Data Shuffling "
   ]
  },
  {
   "cell_type": "code",
   "execution_count": 15,
   "id": "3097e159",
   "metadata": {},
   "outputs": [
    {
     "data": {
      "image/png": "[encoded data removed]",
      "text/plain": [
       "<Figure size 720x720 with 9 Axes>"
      ]
     },
     "metadata": {
      "needs_background": "light"
     },
     "output_type": "display_data"
    }
   ],
   "source": [
    "shuff = shuffle(train_x[:100])\n",
    "fig, ax = plt.subplots(3,3, figsize = (10,10))\n",
    "axes = ax.flatten()\n",
    "\n",
    "for i in range(9):\n",
    "    axes[i].imshow(np.reshape(shuff[i], (28,28)), cmap=\"Greys\")\n",
    "plt.show()"
   ]
  },
  {
   "cell_type": "markdown",
   "id": "169f3943",
   "metadata": {},
   "source": [
    "# Reshaping Data"
   ]
  },
  {
   "cell_type": "code",
   "execution_count": 16,
   "id": "e7a09bb7",
   "metadata": {},
   "outputs": [
    {
     "name": "stdout",
     "output_type": "stream",
     "text": [
      "New shape of train data:  (117608, 28, 28, 1)\n",
      "New shape of train data:  (19601, 28, 28, 1)\n"
     ]
    }
   ],
   "source": [
    "train_X = train_x.reshape(train_x.shape[0],train_x.shape[1],train_x.shape[2],1)\n",
    "print(\"New shape of train data: \", train_X.shape)\n",
    "\n",
    "test_X = test_x.reshape(test_x.shape[0], test_x.shape[1], test_x.shape[2],1)\n",
    "print(\"New shape of train data: \", test_X.shape)"
   ]
  },
  {
   "cell_type": "code",
   "execution_count": 17,
   "id": "5ded07c8",
   "metadata": {},
   "outputs": [
    {
     "name": "stdout",
     "output_type": "stream",
     "text": [
      "New shape of train labels:  (117608, 135)\n",
      "New shape of test labels:  (19601, 135)\n"
     ]
    }
   ],
   "source": [
    "trainr_y = to_categorical(train_y, num_classes = 135, dtype='int')\n",
    "print(\"New shape of train labels: \", trainr_y.shape)\n",
    "\n",
    "testr_y = to_categorical(test_y, num_classes = 135, dtype='int')\n",
    "print(\"New shape of test labels: \", testr_y.shape)"
   ]
  },
  {
   "cell_type": "markdown",
   "id": "2bc1f316",
   "metadata": {},
   "source": [
    "# CNN Model"
   ]
  },
  {
   "cell_type": "code",
   "execution_count": 18,
   "id": "19358aea",
   "metadata": {},
   "outputs": [],
   "source": [
    "model = Sequential()\n",
    "################################################################\n",
    "\n",
    "#First Convolutional Layer\n",
    "model.add(Conv2D(filters=32, kernel_size=(3, 3), activation='relu', input_shape=(28,28,1)))\n",
    "\n",
    "#First Max Pooling\n",
    "model.add(MaxPool2D(pool_size=(2, 2), strides=2))\n",
    "################################################################\n",
    "\n",
    "#Second Convolutional Layer\n",
    "model.add(Conv2D(filters=64, kernel_size=(3, 3), activation='relu', padding = 'same'))\n",
    "\n",
    "#Second Max Pooling\n",
    "model.add(MaxPool2D(pool_size=(2, 2), strides=2))\n",
    "################################################################\n",
    "\n",
    "#Third Convolutional Layer\n",
    "model.add(Conv2D(filters=128, kernel_size=(3, 3), activation='relu', padding = 'valid'))\n",
    "#Third Max Pooling\n",
    "model.add(MaxPool2D(pool_size=(2, 2), strides=2))\n",
    "################################################################\n",
    "\n",
    "model.add(Flatten())\n",
    "################################################################\n",
    "\n",
    "model.add(Dense(32,activation =\"relu\"))\n",
    "model.add(Dense(64,activation =\"relu\"))\n",
    "model.add(Dense(135,activation =\"softmax\"))\n",
    "\n"
   ]
  },
  {
   "cell_type": "markdown",
   "id": "378a8064",
   "metadata": {},
   "source": [
    "# Model Compilation"
   ]
  },
  {
   "cell_type": "code",
   "execution_count": 19,
   "id": "55f22469",
   "metadata": {},
   "outputs": [],
   "source": [
    "model.compile(optimizer = Adam(), loss='categorical_crossentropy', metrics=['accuracy'])\n",
    "reduce_lr = ReduceLROnPlateau(monitor='val_loss', factor=0.14, patience=1, min_lr=0.0001)\n",
    "early_stop = EarlyStopping(monitor='val_loss', min_delta=0, patience=2, verbose=0, mode='auto')\n"
   ]
  },
  {
   "cell_type": "markdown",
   "id": "457ceb91",
   "metadata": {},
   "source": [
    "# Model Fitting"
   ]
  },
  {
   "cell_type": "code",
   "execution_count": 20,
   "id": "e1154992",
   "metadata": {},
   "outputs": [
    {
     "name": "stdout",
     "output_type": "stream",
     "text": [
      "Epoch 1/10\n",
      "3676/3676 [==============================] - 78s 21ms/step - loss: 2.3808 - accuracy: 0.3606 - val_loss: 1.8072 - val_accuracy: 0.5049 - lr: 0.0010\n",
      "Epoch 2/10\n",
      "3676/3676 [==============================] - 79s 22ms/step - loss: 1.3312 - accuracy: 0.6021 - val_loss: 1.1825 - val_accuracy: 0.6448 - lr: 0.0010\n",
      "Epoch 3/10\n",
      "3676/3676 [==============================] - 87s 24ms/step - loss: 1.0614 - accuracy: 0.6735 - val_loss: 0.9391 - val_accuracy: 0.7120 - lr: 0.0010\n",
      "Epoch 4/10\n",
      "3676/3676 [==============================] - 86s 23ms/step - loss: 0.8107 - accuracy: 0.7453 - val_loss: 0.8887 - val_accuracy: 0.7254 - lr: 0.0010\n",
      "Epoch 5/10\n",
      "3676/3676 [==============================] - 83s 23ms/step - loss: 0.6674 - accuracy: 0.7862 - val_loss: 0.6596 - val_accuracy: 0.7933 - lr: 0.0010\n",
      "Epoch 6/10\n",
      "3676/3676 [==============================] - 89s 24ms/step - loss: 0.5795 - accuracy: 0.8101 - val_loss: 0.6715 - val_accuracy: 0.7982 - lr: 0.0010\n",
      "Epoch 7/10\n",
      "3676/3676 [==============================] - 91s 25ms/step - loss: 0.4010 - accuracy: 0.8654 - val_loss: 0.4681 - val_accuracy: 0.8524 - lr: 1.4000e-04\n",
      "Epoch 8/10\n",
      "3676/3676 [==============================] - 101s 27ms/step - loss: 0.3582 - accuracy: 0.8782 - val_loss: 0.4658 - val_accuracy: 0.8543 - lr: 1.4000e-04\n",
      "Epoch 9/10\n",
      "3676/3676 [==============================] - 92s 25ms/step - loss: 0.3338 - accuracy: 0.8864 - val_loss: 0.4497 - val_accuracy: 0.8601 - lr: 1.4000e-04\n",
      "Epoch 10/10\n",
      "3676/3676 [==============================] - 92s 25ms/step - loss: 0.3142 - accuracy: 0.8929 - val_loss: 0.4533 - val_accuracy: 0.8608 - lr: 1.4000e-04\n"
     ]
    }
   ],
   "source": [
    "history = model.fit(train_X, trainr_y, epochs=10, callbacks=[reduce_lr, early_stop],  validation_data = (test_X,testr_y))"
   ]
  },
  {
   "cell_type": "markdown",
   "id": "94deebbe",
   "metadata": {},
   "source": [
    "# Model Summary"
   ]
  },
  {
   "cell_type": "code",
   "execution_count": 21,
   "id": "f63a71d7",
   "metadata": {},
   "outputs": [
    {
     "name": "stdout",
     "output_type": "stream",
     "text": [
      "Model: \"sequential\"\n",
      "_________________________________________________________________\n",
      " Layer (type)                Output Shape              Param #   \n",
      "=================================================================\n",
      " conv2d (Conv2D)             (None, 26, 26, 32)        320       \n",
      "                                                                 \n",
      " max_pooling2d (MaxPooling2D  (None, 13, 13, 32)       0         \n",
      " )                                                               \n",
      "                                                                 \n",
      " conv2d_1 (Conv2D)           (None, 13, 13, 64)        18496     \n",
      "                                                                 \n",
      " max_pooling2d_1 (MaxPooling  (None, 6, 6, 64)         0         \n",
      " 2D)                                                             \n",
      "                                                                 \n",
      " conv2d_2 (Conv2D)           (None, 4, 4, 128)         73856     \n",
      "                                                                 \n",
      " max_pooling2d_2 (MaxPooling  (None, 2, 2, 128)        0         \n",
      " 2D)                                                             \n",
      "                                                                 \n",
      " flatten (Flatten)           (None, 512)               0         \n",
      "                                                                 \n",
      " dense (Dense)               (None, 32)                16416     \n",
      "                                                                 \n",
      " dense_1 (Dense)             (None, 64)                2112      \n",
      "                                                                 \n",
      " dense_2 (Dense)             (None, 135)               8775      \n",
      "                                                                 \n",
      "=================================================================\n",
      "Total params: 119,975\n",
      "Trainable params: 119,975\n",
      "Non-trainable params: 0\n",
      "_________________________________________________________________\n"
     ]
    }
   ],
   "source": [
    "model.summary()"
   ]
  },
  {
   "cell_type": "code",
   "execution_count": 22,
   "id": "1bd5167e",
   "metadata": {},
   "outputs": [],
   "source": [
    "model.save(r'model8.h5')"
   ]
  },
  {
   "cell_type": "markdown",
   "id": "05ca09d3",
   "metadata": {},
   "source": [
    "# Metrics"
   ]
  },
  {
   "cell_type": "code",
   "execution_count": 23,
   "id": "fff4e3b0",
   "metadata": {},
   "outputs": [
    {
     "name": "stdout",
     "output_type": "stream",
     "text": [
      "Validation accuracy : [0.50487220287323, 0.6448140144348145, 0.7120044827461243, 0.7254221439361572, 0.7933268547058105, 0.7981735467910767, 0.8524054884910583, 0.854293167591095, 0.8601091504096985, 0.860772430896759]\n",
      "Training accuracy : [0.36063873767852783, 0.6021358966827393, 0.6735256314277649, 0.745280921459198, 0.7861794829368591, 0.8101404905319214, 0.8654258251190186, 0.8781545758247375, 0.8864278197288513, 0.8929494619369507]\n",
      "Validation loss : [1.8072260618209839, 1.1825191974639893, 0.939145028591156, 0.8887473344802856, 0.6595923900604248, 0.671477198600769, 0.46810853481292725, 0.46577197313308716, 0.4496828317642212, 0.45327228307724]\n",
      "Training loss : [2.3807613849639893, 1.331242561340332, 1.0614075660705566, 0.8107076287269592, 0.6673906445503235, 0.579535186290741, 0.4009505808353424, 0.35823336243629456, 0.33378779888153076, 0.3142361342906952]\n"
     ]
    }
   ],
   "source": [
    "print(\"Validation accuracy :\", history.history['val_accuracy'])\n",
    "print(\"Training accuracy :\", history.history['accuracy'])\n",
    "print(\"Validation loss :\", history.history['val_loss'])\n",
    "print(\"Training loss :\", history.history['loss'])"
   ]
  },
  {
   "cell_type": "code",
   "execution_count": 24,
   "id": "1fb2b543",
   "metadata": {},
   "outputs": [
    {
     "data": {
      "text/plain": [
       "dict_keys(['loss', 'accuracy', 'val_loss', 'val_accuracy', 'lr'])"
      ]
     },
     "execution_count": 24,
     "metadata": {},
     "output_type": "execute_result"
    }
   ],
   "source": [
    "history.history.keys()"
   ]
  },
  {
   "cell_type": "code",
   "execution_count": 25,
   "id": "3d3144f5",
   "metadata": {},
   "outputs": [
    {
     "data": {
      "image/png": "[encoded data removed]",
      "text/plain": [
       "<Figure size 432x288 with 1 Axes>"
      ]
     },
     "metadata": {
      "needs_background": "light"
     },
     "output_type": "display_data"
    }
   ],
   "source": [
    "plt.plot(history.history['accuracy'])\n",
    "plt.plot(history.history['val_accuracy'])\n",
    "plt.title('Model accuracy')\n",
    "plt.ylabel('Accuracy')\n",
    "plt.xlabel('Epoch')\n",
    "plt.legend(['Train', 'Val'], loc='upper left')\n",
    "plt.show()"
   ]
  },
  {
   "cell_type": "code",
   "execution_count": 26,
   "id": "36e9da9e",
   "metadata": {},
   "outputs": [
    {
     "data": {
      "image/png": "[encoded data removed]",
      "text/plain": [
       "<Figure size 432x288 with 1 Axes>"
      ]
     },
     "metadata": {
      "needs_background": "light"
     },
     "output_type": "display_data"
    }
   ],
   "source": [
    "plt.plot(history.history['loss'])\n",
    "plt.plot(history.history['val_loss'])\n",
    "plt.title('Model Loss')\n",
    "plt.ylabel('Loss')\n",
    "plt.xlabel('Epoch')\n",
    "plt.legend(['Train', 'Val'], loc='upper left')\n",
    "plt.show()"
   ]
  },
  {
   "cell_type": "markdown",
   "id": "2c26ade5",
   "metadata": {},
   "source": [
    "# Predictions for testing data"
   ]
  },
  {
   "cell_type": "code",
   "execution_count": 27,
   "id": "03c709cd",
   "metadata": {},
   "outputs": [
    {
     "name": "stdout",
     "output_type": "stream",
     "text": [
      "(19601, 28, 28, 1)\n"
     ]
    }
   ],
   "source": [
    "pred = model.predict(test_X[:135])\n",
    "print(test_X.shape)"
   ]
  },
  {
   "cell_type": "code",
   "execution_count": 28,
   "id": "d7593eaf",
   "metadata": {},
   "outputs": [
    {
     "data": {
      "image/png": "[encoded data removed]",
      "text/plain": [
       "<Figure size 576x648 with 9 Axes>"
      ]
     },
     "metadata": {
      "needs_background": "light"
     },
     "output_type": "display_data"
    }
   ],
   "source": [
    "fig, axes = plt.subplots(3,3, figsize=(8,9))\n",
    "axes = axes.flatten()\n",
    "\n",
    "for i,ax in enumerate(axes):\n",
    "    img = np.reshape(test_X[i], (28,28))\n",
    "    ax.imshow(img, cmap=\"Greys\")\n",
    "    pred = symdict[np.argmax(testr_y[i])]\n",
    "    ax.set_title(\"Prediction: \"+pred)\n",
    "    ax.grid()"
   ]
  },
  {
   "cell_type": "markdown",
   "id": "93c70929",
   "metadata": {},
   "source": [
    "# Predictions for provided image"
   ]
  },
  {
   "cell_type": "code",
   "execution_count": 99,
   "id": "e52c5948",
   "metadata": {},
   "outputs": [
    {
     "name": "stdout",
     "output_type": "stream",
     "text": [
      "Image\n"
     ]
    },
    {
     "data": {
      "image/png": "[encoded data removed]",
      "text/plain": [
       "<Figure size 432x288 with 1 Axes>"
      ]
     },
     "metadata": {
      "needs_background": "light"
     },
     "output_type": "display_data"
    },
    {
     "name": "stdout",
     "output_type": "stream",
     "text": [
      "Contoured Image\n"
     ]
    },
    {
     "data": {
      "image/png": "[encoded data removed]",
      "text/plain": [
       "<Figure size 432x288 with 1 Axes>"
      ]
     },
     "metadata": {
      "needs_background": "light"
     },
     "output_type": "display_data"
    }
   ],
   "source": [
    "image = cv2.imread('try.png')\n",
    "gray = cv2.cvtColor(image.copy(), cv2.COLOR_BGR2GRAY)\n",
    "ret, thresh = cv2.threshold(gray.copy(), 127, 255, cv2.THRESH_BINARY_INV)\n",
    "\n",
    "contours, _ = cv2.findContours(thresh.copy(), cv2.RETR_EXTERNAL, cv2.CHAIN_APPROX_SIMPLE)\n",
    "print(\"Image\")\n",
    "plt.imshow(thresh, cmap=\"gray\")\n",
    "plt.show()\n",
    "preprocessed_symb = []\n",
    "for c in contours:\n",
    "    x,y,w,h = cv2.boundingRect(c)\n",
    "    \n",
    "    # Creating a rectangle around the character in the original image (for displaying the charaters fetched via contours)\n",
    "    cv2.rectangle(image, (x,y), (x+w, y+h), color=(0, 255, 0), thickness=1)\n",
    "    \n",
    "    # Cropping out the char from the image corresponding to the current contours in the for loop\n",
    "    symb = thresh[y:y+h, x:x+w]\n",
    "    \n",
    "    # Resizing that digit to (18, 18)\n",
    "    resized_symb = cv2.resize(symb, (16,16))\n",
    "    \n",
    "    # Padding the digit with 5 pixels of black color (zeros) in each side to finally produce the image of (28, 28)\n",
    "    padded_symb = np.pad(resized_symb, ((6,6),(6,6)), \"constant\", constant_values=0)\n",
    "    \n",
    "    # Adding the preprocessed digit to the list of preprocessed digits\n",
    "    preprocessed_symb.append(padded_symb)\n",
    "    \n",
    "print(\"Contoured Image\")\n",
    "plt.imshow(image, cmap=\"gray\")\n",
    "plt.show()\n",
    "# print(preprocessed_symb)    \n",
    "inp = np.array(preprocessed_symb)"
   ]
  },
  {
   "cell_type": "code",
   "execution_count": 100,
   "id": "ca34d167",
   "metadata": {},
   "outputs": [
    {
     "name": "stdout",
     "output_type": "stream",
     "text": [
      "Prediction: \n",
      "tzX"
     ]
    }
   ],
   "source": [
    "img_pred = []\n",
    "print(\"Prediction: \")\n",
    "for symb in inp:\n",
    "    img_pred = symdict[np.argmax(model.predict(symb.reshape(1, 28, 28, 1)))]\n",
    "    print(img_pred, end = '')\n",
    "    "
   ]
  },
  {
   "cell_type": "code",
   "execution_count": 101,
   "id": "57771c20",
   "metadata": {},
   "outputs": [
    {
     "data": {
      "image/png": "[encoded data removed]",
      "text/plain": [
       "<Figure size 432x288 with 1 Axes>"
      ]
     },
     "metadata": {
      "needs_background": "light"
     },
     "output_type": "display_data"
    },
    {
     "name": "stdout",
     "output_type": "stream",
     "text": [
      "Prediction:  t\n"
     ]
    },
    {
     "data": {
      "image/png": "[encoded data removed]",
      "text/plain": [
       "<Figure size 432x288 with 1 Axes>"
      ]
     },
     "metadata": {
      "needs_background": "light"
     },
     "output_type": "display_data"
    },
    {
     "name": "stdout",
     "output_type": "stream",
     "text": [
      "Prediction:  z\n"
     ]
    },
    {
     "data": {
      "image/png": "[encoded data removed]",
      "text/plain": [
       "<Figure size 432x288 with 1 Axes>"
      ]
     },
     "metadata": {
      "needs_background": "light"
     },
     "output_type": "display_data"
    },
    {
     "name": "stdout",
     "output_type": "stream",
     "text": [
      "Prediction:  X\n"
     ]
    }
   ],
   "source": [
    "img_pred = []\n",
    "for symb in inp:\n",
    "    img_pred = symdict[np.argmax(model.predict(symb.reshape(1, 28, 28, 1)))]\n",
    "    plt.imshow(symb.reshape(28, 28), cmap=\"gray\")\n",
    "    plt.show()\n",
    "    print(\"Prediction: \", img_pred)"
   ]
  },
  {
   "cell_type": "code",
   "execution_count": null,
   "id": "0405055b",
   "metadata": {},
   "outputs": [],
   "source": []
  }
 ],
 "metadata": {
  "kernelspec": {
   "display_name": "Python 3 (ipykernel)",
   "language": "python",
   "name": "python3"
  },
  "language_info": {
   "codemirror_mode": {
    "name": "ipython",
    "version": 3
   },
   "file_extension": ".py",
   "mimetype": "text/x-python",
   "name": "python",
   "nbconvert_exporter": "python",
   "pygments_lexer": "ipython3",
   "version": "3.9.7"
  }
 },
 "nbformat": 4,
 "nbformat_minor": 5
}
