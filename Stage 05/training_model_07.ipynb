{
 "cells": [
  {
   "cell_type": "markdown",
   "id": "bb6ec919",
   "metadata": {},
   "source": [
    "# Libraries"
   ]
  },
  {
   "cell_type": "code",
   "execution_count": 128,
   "id": "d79b9c38",
   "metadata": {},
   "outputs": [],
   "source": [
    "from keras.layers import Dense, Flatten, Conv2D, MaxPool2D, Dropout, LSTM, Bidirectional, BatchNormalization\n",
    "from keras.callbacks import ReduceLROnPlateau, EarlyStopping\n",
    "from tensorflow.keras.optimizers import SGD, Adam\n",
    "from sklearn.model_selection import train_test_split\n",
    "from keras.utils.np_utils import to_categorical\n",
    "from keras.models import Sequential\n",
    "from tqdm import tqdm_notebook\n",
    "from keras.datasets import mnist\n",
    "from sklearn.utils import shuffle\n",
    "from keras.utils import np_utils\n",
    "from tensorflow.keras import layers\n",
    "import matplotlib.pyplot as plt\n",
    "import numpy as np\n",
    "import pandas as pd\n",
    "import cv2\n"
   ]
  },
  {
   "cell_type": "markdown",
   "id": "a911e707",
   "metadata": {},
   "source": [
    "### Reading data from prepared dataset "
   ]
  },
  {
   "cell_type": "code",
   "execution_count": 129,
   "id": "3f04a18d",
   "metadata": {},
   "outputs": [],
   "source": [
    "data = pd.read_csv('C:/Users/madha/Downloads/Last Stage/dataset_new.csv').astype('float32')"
   ]
  },
  {
   "cell_type": "code",
   "execution_count": 130,
   "id": "d5bc91ad",
   "metadata": {},
   "outputs": [
    {
     "data": {
      "text/html": [
       "<div>\n",
       "<style scoped>\n",
       "    .dataframe tbody tr th:only-of-type {\n",
       "        vertical-align: middle;\n",
       "    }\n",
       "\n",
       "    .dataframe tbody tr th {\n",
       "        vertical-align: top;\n",
       "    }\n",
       "\n",
       "    .dataframe thead th {\n",
       "        text-align: right;\n",
       "    }\n",
       "</style>\n",
       "<table border=\"1\" class=\"dataframe\">\n",
       "  <thead>\n",
       "    <tr style=\"text-align: right;\">\n",
       "      <th></th>\n",
       "      <th>0</th>\n",
       "      <th>255</th>\n",
       "      <th>255.1</th>\n",
       "      <th>255.2</th>\n",
       "      <th>255.3</th>\n",
       "      <th>255.4</th>\n",
       "      <th>255.5</th>\n",
       "      <th>255.6</th>\n",
       "      <th>255.7</th>\n",
       "      <th>255.8</th>\n",
       "      <th>...</th>\n",
       "      <th>255.672</th>\n",
       "      <th>255.673</th>\n",
       "      <th>255.674</th>\n",
       "      <th>255.675</th>\n",
       "      <th>255.676</th>\n",
       "      <th>255.677</th>\n",
       "      <th>255.678</th>\n",
       "      <th>255.679</th>\n",
       "      <th>255.680</th>\n",
       "      <th>255.681</th>\n",
       "    </tr>\n",
       "  </thead>\n",
       "  <tbody>\n",
       "    <tr>\n",
       "      <th>0</th>\n",
       "      <td>0.0</td>\n",
       "      <td>255.0</td>\n",
       "      <td>255.0</td>\n",
       "      <td>255.0</td>\n",
       "      <td>255.0</td>\n",
       "      <td>255.0</td>\n",
       "      <td>255.0</td>\n",
       "      <td>255.0</td>\n",
       "      <td>255.0</td>\n",
       "      <td>255.0</td>\n",
       "      <td>...</td>\n",
       "      <td>255.0</td>\n",
       "      <td>255.0</td>\n",
       "      <td>255.0</td>\n",
       "      <td>255.0</td>\n",
       "      <td>255.0</td>\n",
       "      <td>255.0</td>\n",
       "      <td>255.0</td>\n",
       "      <td>255.0</td>\n",
       "      <td>255.0</td>\n",
       "      <td>255.0</td>\n",
       "    </tr>\n",
       "    <tr>\n",
       "      <th>1</th>\n",
       "      <td>0.0</td>\n",
       "      <td>255.0</td>\n",
       "      <td>255.0</td>\n",
       "      <td>255.0</td>\n",
       "      <td>255.0</td>\n",
       "      <td>255.0</td>\n",
       "      <td>255.0</td>\n",
       "      <td>255.0</td>\n",
       "      <td>255.0</td>\n",
       "      <td>255.0</td>\n",
       "      <td>...</td>\n",
       "      <td>255.0</td>\n",
       "      <td>255.0</td>\n",
       "      <td>255.0</td>\n",
       "      <td>255.0</td>\n",
       "      <td>255.0</td>\n",
       "      <td>255.0</td>\n",
       "      <td>255.0</td>\n",
       "      <td>255.0</td>\n",
       "      <td>255.0</td>\n",
       "      <td>255.0</td>\n",
       "    </tr>\n",
       "    <tr>\n",
       "      <th>2</th>\n",
       "      <td>0.0</td>\n",
       "      <td>255.0</td>\n",
       "      <td>255.0</td>\n",
       "      <td>255.0</td>\n",
       "      <td>255.0</td>\n",
       "      <td>255.0</td>\n",
       "      <td>255.0</td>\n",
       "      <td>255.0</td>\n",
       "      <td>255.0</td>\n",
       "      <td>255.0</td>\n",
       "      <td>...</td>\n",
       "      <td>255.0</td>\n",
       "      <td>255.0</td>\n",
       "      <td>255.0</td>\n",
       "      <td>255.0</td>\n",
       "      <td>255.0</td>\n",
       "      <td>255.0</td>\n",
       "      <td>255.0</td>\n",
       "      <td>255.0</td>\n",
       "      <td>255.0</td>\n",
       "      <td>255.0</td>\n",
       "    </tr>\n",
       "    <tr>\n",
       "      <th>3</th>\n",
       "      <td>0.0</td>\n",
       "      <td>255.0</td>\n",
       "      <td>255.0</td>\n",
       "      <td>255.0</td>\n",
       "      <td>255.0</td>\n",
       "      <td>255.0</td>\n",
       "      <td>255.0</td>\n",
       "      <td>255.0</td>\n",
       "      <td>255.0</td>\n",
       "      <td>255.0</td>\n",
       "      <td>...</td>\n",
       "      <td>255.0</td>\n",
       "      <td>255.0</td>\n",
       "      <td>255.0</td>\n",
       "      <td>255.0</td>\n",
       "      <td>255.0</td>\n",
       "      <td>255.0</td>\n",
       "      <td>255.0</td>\n",
       "      <td>255.0</td>\n",
       "      <td>255.0</td>\n",
       "      <td>255.0</td>\n",
       "    </tr>\n",
       "    <tr>\n",
       "      <th>4</th>\n",
       "      <td>0.0</td>\n",
       "      <td>255.0</td>\n",
       "      <td>255.0</td>\n",
       "      <td>255.0</td>\n",
       "      <td>255.0</td>\n",
       "      <td>255.0</td>\n",
       "      <td>255.0</td>\n",
       "      <td>255.0</td>\n",
       "      <td>255.0</td>\n",
       "      <td>255.0</td>\n",
       "      <td>...</td>\n",
       "      <td>255.0</td>\n",
       "      <td>255.0</td>\n",
       "      <td>255.0</td>\n",
       "      <td>255.0</td>\n",
       "      <td>255.0</td>\n",
       "      <td>255.0</td>\n",
       "      <td>255.0</td>\n",
       "      <td>255.0</td>\n",
       "      <td>255.0</td>\n",
       "      <td>255.0</td>\n",
       "    </tr>\n",
       "    <tr>\n",
       "      <th>...</th>\n",
       "      <td>...</td>\n",
       "      <td>...</td>\n",
       "      <td>...</td>\n",
       "      <td>...</td>\n",
       "      <td>...</td>\n",
       "      <td>...</td>\n",
       "      <td>...</td>\n",
       "      <td>...</td>\n",
       "      <td>...</td>\n",
       "      <td>...</td>\n",
       "      <td>...</td>\n",
       "      <td>...</td>\n",
       "      <td>...</td>\n",
       "      <td>...</td>\n",
       "      <td>...</td>\n",
       "      <td>...</td>\n",
       "      <td>...</td>\n",
       "      <td>...</td>\n",
       "      <td>...</td>\n",
       "      <td>...</td>\n",
       "      <td>...</td>\n",
       "    </tr>\n",
       "    <tr>\n",
       "      <th>137204</th>\n",
       "      <td>134.0</td>\n",
       "      <td>255.0</td>\n",
       "      <td>255.0</td>\n",
       "      <td>255.0</td>\n",
       "      <td>255.0</td>\n",
       "      <td>255.0</td>\n",
       "      <td>255.0</td>\n",
       "      <td>255.0</td>\n",
       "      <td>255.0</td>\n",
       "      <td>255.0</td>\n",
       "      <td>...</td>\n",
       "      <td>255.0</td>\n",
       "      <td>255.0</td>\n",
       "      <td>255.0</td>\n",
       "      <td>255.0</td>\n",
       "      <td>255.0</td>\n",
       "      <td>255.0</td>\n",
       "      <td>255.0</td>\n",
       "      <td>255.0</td>\n",
       "      <td>255.0</td>\n",
       "      <td>255.0</td>\n",
       "    </tr>\n",
       "    <tr>\n",
       "      <th>137205</th>\n",
       "      <td>134.0</td>\n",
       "      <td>255.0</td>\n",
       "      <td>255.0</td>\n",
       "      <td>255.0</td>\n",
       "      <td>255.0</td>\n",
       "      <td>255.0</td>\n",
       "      <td>255.0</td>\n",
       "      <td>255.0</td>\n",
       "      <td>255.0</td>\n",
       "      <td>255.0</td>\n",
       "      <td>...</td>\n",
       "      <td>255.0</td>\n",
       "      <td>255.0</td>\n",
       "      <td>110.0</td>\n",
       "      <td>6.0</td>\n",
       "      <td>153.0</td>\n",
       "      <td>255.0</td>\n",
       "      <td>255.0</td>\n",
       "      <td>255.0</td>\n",
       "      <td>255.0</td>\n",
       "      <td>255.0</td>\n",
       "    </tr>\n",
       "    <tr>\n",
       "      <th>137206</th>\n",
       "      <td>134.0</td>\n",
       "      <td>172.0</td>\n",
       "      <td>255.0</td>\n",
       "      <td>255.0</td>\n",
       "      <td>255.0</td>\n",
       "      <td>255.0</td>\n",
       "      <td>255.0</td>\n",
       "      <td>255.0</td>\n",
       "      <td>255.0</td>\n",
       "      <td>255.0</td>\n",
       "      <td>...</td>\n",
       "      <td>255.0</td>\n",
       "      <td>255.0</td>\n",
       "      <td>255.0</td>\n",
       "      <td>255.0</td>\n",
       "      <td>255.0</td>\n",
       "      <td>255.0</td>\n",
       "      <td>255.0</td>\n",
       "      <td>255.0</td>\n",
       "      <td>255.0</td>\n",
       "      <td>255.0</td>\n",
       "    </tr>\n",
       "    <tr>\n",
       "      <th>137207</th>\n",
       "      <td>134.0</td>\n",
       "      <td>255.0</td>\n",
       "      <td>255.0</td>\n",
       "      <td>255.0</td>\n",
       "      <td>255.0</td>\n",
       "      <td>255.0</td>\n",
       "      <td>255.0</td>\n",
       "      <td>255.0</td>\n",
       "      <td>255.0</td>\n",
       "      <td>255.0</td>\n",
       "      <td>...</td>\n",
       "      <td>255.0</td>\n",
       "      <td>255.0</td>\n",
       "      <td>255.0</td>\n",
       "      <td>255.0</td>\n",
       "      <td>255.0</td>\n",
       "      <td>255.0</td>\n",
       "      <td>255.0</td>\n",
       "      <td>255.0</td>\n",
       "      <td>255.0</td>\n",
       "      <td>255.0</td>\n",
       "    </tr>\n",
       "    <tr>\n",
       "      <th>137208</th>\n",
       "      <td>134.0</td>\n",
       "      <td>172.0</td>\n",
       "      <td>255.0</td>\n",
       "      <td>255.0</td>\n",
       "      <td>255.0</td>\n",
       "      <td>255.0</td>\n",
       "      <td>255.0</td>\n",
       "      <td>255.0</td>\n",
       "      <td>255.0</td>\n",
       "      <td>255.0</td>\n",
       "      <td>...</td>\n",
       "      <td>255.0</td>\n",
       "      <td>255.0</td>\n",
       "      <td>255.0</td>\n",
       "      <td>255.0</td>\n",
       "      <td>255.0</td>\n",
       "      <td>255.0</td>\n",
       "      <td>255.0</td>\n",
       "      <td>255.0</td>\n",
       "      <td>255.0</td>\n",
       "      <td>255.0</td>\n",
       "    </tr>\n",
       "  </tbody>\n",
       "</table>\n",
       "<p>137209 rows × 785 columns</p>\n",
       "</div>"
      ],
      "text/plain": [
       "            0    255  255.1  255.2  255.3  255.4  255.5  255.6  255.7  255.8  \\\n",
       "0         0.0  255.0  255.0  255.0  255.0  255.0  255.0  255.0  255.0  255.0   \n",
       "1         0.0  255.0  255.0  255.0  255.0  255.0  255.0  255.0  255.0  255.0   \n",
       "2         0.0  255.0  255.0  255.0  255.0  255.0  255.0  255.0  255.0  255.0   \n",
       "3         0.0  255.0  255.0  255.0  255.0  255.0  255.0  255.0  255.0  255.0   \n",
       "4         0.0  255.0  255.0  255.0  255.0  255.0  255.0  255.0  255.0  255.0   \n",
       "...       ...    ...    ...    ...    ...    ...    ...    ...    ...    ...   \n",
       "137204  134.0  255.0  255.0  255.0  255.0  255.0  255.0  255.0  255.0  255.0   \n",
       "137205  134.0  255.0  255.0  255.0  255.0  255.0  255.0  255.0  255.0  255.0   \n",
       "137206  134.0  172.0  255.0  255.0  255.0  255.0  255.0  255.0  255.0  255.0   \n",
       "137207  134.0  255.0  255.0  255.0  255.0  255.0  255.0  255.0  255.0  255.0   \n",
       "137208  134.0  172.0  255.0  255.0  255.0  255.0  255.0  255.0  255.0  255.0   \n",
       "\n",
       "        ...  255.672  255.673  255.674  255.675  255.676  255.677  255.678  \\\n",
       "0       ...    255.0    255.0    255.0    255.0    255.0    255.0    255.0   \n",
       "1       ...    255.0    255.0    255.0    255.0    255.0    255.0    255.0   \n",
       "2       ...    255.0    255.0    255.0    255.0    255.0    255.0    255.0   \n",
       "3       ...    255.0    255.0    255.0    255.0    255.0    255.0    255.0   \n",
       "4       ...    255.0    255.0    255.0    255.0    255.0    255.0    255.0   \n",
       "...     ...      ...      ...      ...      ...      ...      ...      ...   \n",
       "137204  ...    255.0    255.0    255.0    255.0    255.0    255.0    255.0   \n",
       "137205  ...    255.0    255.0    110.0      6.0    153.0    255.0    255.0   \n",
       "137206  ...    255.0    255.0    255.0    255.0    255.0    255.0    255.0   \n",
       "137207  ...    255.0    255.0    255.0    255.0    255.0    255.0    255.0   \n",
       "137208  ...    255.0    255.0    255.0    255.0    255.0    255.0    255.0   \n",
       "\n",
       "        255.679  255.680  255.681  \n",
       "0         255.0    255.0    255.0  \n",
       "1         255.0    255.0    255.0  \n",
       "2         255.0    255.0    255.0  \n",
       "3         255.0    255.0    255.0  \n",
       "4         255.0    255.0    255.0  \n",
       "...         ...      ...      ...  \n",
       "137204    255.0    255.0    255.0  \n",
       "137205    255.0    255.0    255.0  \n",
       "137206    255.0    255.0    255.0  \n",
       "137207    255.0    255.0    255.0  \n",
       "137208    255.0    255.0    255.0  \n",
       "\n",
       "[137209 rows x 785 columns]"
      ]
     },
     "execution_count": 130,
     "metadata": {},
     "output_type": "execute_result"
    }
   ],
   "source": [
    "data"
   ]
  },
  {
   "cell_type": "markdown",
   "id": "00db8639",
   "metadata": {},
   "source": [
    "# Data Splitting "
   ]
  },
  {
   "cell_type": "markdown",
   "id": "9293e4c9",
   "metadata": {},
   "source": [
    "### Data is split into images and respective labels"
   ]
  },
  {
   "cell_type": "code",
   "execution_count": 131,
   "id": "3f38a860",
   "metadata": {},
   "outputs": [],
   "source": [
    "X = data.drop('0',axis = 1)\n",
    "y = data['0']"
   ]
  },
  {
   "cell_type": "code",
   "execution_count": 132,
   "id": "736b1044",
   "metadata": {},
   "outputs": [
    {
     "name": "stdout",
     "output_type": "stream",
     "text": [
      "137209\n"
     ]
    }
   ],
   "source": [
    "print(len(X))"
   ]
  },
  {
   "cell_type": "code",
   "execution_count": 133,
   "id": "70244c23",
   "metadata": {},
   "outputs": [
    {
     "name": "stdout",
     "output_type": "stream",
     "text": [
      "137209\n"
     ]
    }
   ],
   "source": [
    "print(len(y))"
   ]
  },
  {
   "cell_type": "code",
   "execution_count": 134,
   "id": "0763e008",
   "metadata": {},
   "outputs": [],
   "source": [
    "train_x, test_x, train_y, test_y = train_test_split(X, y, test_size = 0.14285)\n"
   ]
  },
  {
   "cell_type": "code",
   "execution_count": 135,
   "id": "4769c21d",
   "metadata": {},
   "outputs": [
    {
     "name": "stdout",
     "output_type": "stream",
     "text": [
      "117608\n"
     ]
    }
   ],
   "source": [
    "print(len(train_x))"
   ]
  },
  {
   "cell_type": "code",
   "execution_count": 136,
   "id": "7c4836ef",
   "metadata": {},
   "outputs": [
    {
     "name": "stdout",
     "output_type": "stream",
     "text": [
      "19601\n"
     ]
    }
   ],
   "source": [
    "print(len(test_x))"
   ]
  },
  {
   "cell_type": "markdown",
   "id": "9113d102",
   "metadata": {},
   "source": [
    "### Reshaping data to form an image "
   ]
  },
  {
   "cell_type": "code",
   "execution_count": 137,
   "id": "6f7033df",
   "metadata": {},
   "outputs": [],
   "source": [
    "train_x = np.reshape(train_x.values, (train_x.shape[0], 28,28))\n",
    "test_x = np.reshape(test_x.values, (test_x.shape[0], 28,28))"
   ]
  },
  {
   "cell_type": "code",
   "execution_count": 138,
   "id": "14d0fe59",
   "metadata": {},
   "outputs": [
    {
     "name": "stdout",
     "output_type": "stream",
     "text": [
      "Train data shape:  (117608, 28, 28)\n",
      "Test data shape:  (19601, 28, 28)\n"
     ]
    }
   ],
   "source": [
    "print(\"Train data shape: \", train_x.shape)\n",
    "print(\"Test data shape: \", test_x.shape)"
   ]
  },
  {
   "cell_type": "markdown",
   "id": "fdc576d7",
   "metadata": {},
   "source": [
    "### Creating a dictionary to map integer values to specific characters "
   ]
  },
  {
   "cell_type": "code",
   "execution_count": 139,
   "id": "2ee92c6f",
   "metadata": {},
   "outputs": [],
   "source": [
    "# Dictionary for getting characters from index values...\n",
    "symdict =  {0:'0',\n",
    "                    1:'1',\n",
    "                     2:'2',\n",
    "                     3:'3',\n",
    "                     4:'4',\n",
    "                     5:'5',\n",
    "                     6:'6',\n",
    "                     7:'7',\n",
    "                     8:'8',\n",
    "                     9:'9',\n",
    "                     10:'+',\n",
    "                     11:'-',\n",
    "                     12:'x',\n",
    "                     13:'÷',\n",
    "                     14:'(',\n",
    "                     15:')',\n",
    "                     16:'[',\n",
    "                     17:']',\n",
    "                     18:'{',\n",
    "                     19:'}',\n",
    "                     20:'a',\n",
    "                     21:'b',\n",
    "                     22:'c',\n",
    "                     23:'d', \n",
    "                     24:'e',\n",
    "                     25:'f',\n",
    "                     26:'g',\n",
    "                     27:'h',\n",
    "                     28:'i',\n",
    "                     29:'j',\n",
    "                     30:'k',\n",
    "                     31:'l',\n",
    "                     32:'m',\n",
    "                     33:'n',\n",
    "                     34:'o',\n",
    "                     35:'p',\n",
    "                     36:'q',\n",
    "                     37:'r',\n",
    "                     38:'s',\n",
    "                     39:'t',\n",
    "                     40:'u',\n",
    "                     41:'v',\n",
    "                     42:'w',\n",
    "                     43:'x', \n",
    "                     44:'y',\n",
    "                     45:'z',\n",
    "                     46:'A',\n",
    "                     47:'B',\n",
    "                     48:'C', \n",
    "                     49:'D',\n",
    "                     50:'E',\n",
    "                     51:'F',\n",
    "                     52:'G',\n",
    "                     53:'H',\n",
    "                     54:'I',\n",
    "                     55:'J',\n",
    "                     56:'K',\n",
    "                     57:'L',\n",
    "                     58:'M',\n",
    "                     59:'N',\n",
    "                     60:'O',\n",
    "                     61:'P',\n",
    "                     62:'Q',\n",
    "                     63:'R',\n",
    "                     64:'S',\n",
    "                     65:'T',\n",
    "                     66:'U',\n",
    "                     67:'V',\n",
    "                     68:'W',\n",
    "                     69:'X',\n",
    "                     70:'Y',\n",
    "                     71:'Z',\n",
    "                     72:'=',\n",
    "                     73:'≠', \n",
    "                     74:'>',\n",
    "                     75:'<',\n",
    "                     76:'≥',\n",
    "                     77:'≤',\n",
    "                     78:'&',\n",
    "                     79:'`',\n",
    "                     80:':',\n",
    "                     81:',',\n",
    "                     82:'.',\n",
    "                     83:'$',\n",
    "                     84:'!',\n",
    "                     85:'∃',\n",
    "                     86:'@',\n",
    "                     87:'∀',\n",
    "                     88:'#',\n",
    "                     89:'in',\n",
    "                     90:'∞',\n",
    "                     91:'∫',\n",
    "                     92:'lim',\n",
    "                     93:'log', \n",
    "                     94:'%',\n",
    "                     95:'±',\n",
    "                     96:'π',\n",
    "                     97:'′',\n",
    "                     98:'?',\n",
    "                     99:'\"\"',\n",
    "                     100:'^',\n",
    "                     101:'→',\n",
    "                     102:'/',\n",
    "                     103:'√',\n",
    "                     104:'*',\n",
    "                     105:'∑',\n",
    "                     106:'~',\n",
    "                     107:'_',\n",
    "                     108:'sin',\n",
    "                     109:'cos',\n",
    "                     110:'tan',\n",
    "                     111:'𝛂',\n",
    "                     112:'β',\n",
    "                     113:'𝛾', \n",
    "                     114:'δ',\n",
    "                     115:'ε',\n",
    "                     116:'ζ',\n",
    "                     117:'𝜂',\n",
    "                     118:'θ',\n",
    "                     119:'λ', \n",
    "                     120:'μ',\n",
    "                     121:'𝜈',\n",
    "                     122:'π',\n",
    "                     123:'ρ',\n",
    "                     124:'σ',\n",
    "                     125:'𝛕',\n",
    "                     126:'Φ',\n",
    "                     127:'ψ',\n",
    "                     128:'ω',\n",
    "                     129:'Ꭓ',\n",
    "                     130:'ɩ',\n",
    "                     131:'Κ',\n",
    "                     132:'Ο',\n",
    "                     133:'Ʊ',\n",
    "                     134:'ξ'\n",
    "            }"
   ]
  },
  {
   "cell_type": "markdown",
   "id": "709d63bf",
   "metadata": {},
   "source": [
    "### Visualizing character count in the prepared dataset "
   ]
  },
  {
   "cell_type": "code",
   "execution_count": 140,
   "id": "20232ca7",
   "metadata": {},
   "outputs": [
    {
     "name": "stderr",
     "output_type": "stream",
     "text": [
      "C:\\ProgramData\\Anaconda3\\lib\\site-packages\\matplotlib\\backends\\backend_agg.py:240: RuntimeWarning: Glyph 120514 missing from current font.\n",
      "  font.set_text(s, 0.0, flags=flags)\n",
      "C:\\ProgramData\\Anaconda3\\lib\\site-packages\\matplotlib\\backends\\backend_agg.py:240: RuntimeWarning: Glyph 120574 missing from current font.\n",
      "  font.set_text(s, 0.0, flags=flags)\n",
      "C:\\ProgramData\\Anaconda3\\lib\\site-packages\\matplotlib\\backends\\backend_agg.py:240: RuntimeWarning: Glyph 120578 missing from current font.\n",
      "  font.set_text(s, 0.0, flags=flags)\n",
      "C:\\ProgramData\\Anaconda3\\lib\\site-packages\\matplotlib\\backends\\backend_agg.py:240: RuntimeWarning: Glyph 120584 missing from current font.\n",
      "  font.set_text(s, 0.0, flags=flags)\n",
      "C:\\ProgramData\\Anaconda3\\lib\\site-packages\\matplotlib\\backends\\backend_agg.py:240: RuntimeWarning: Glyph 120533 missing from current font.\n",
      "  font.set_text(s, 0.0, flags=flags)\n",
      "C:\\ProgramData\\Anaconda3\\lib\\site-packages\\matplotlib\\backends\\backend_agg.py:240: RuntimeWarning: Glyph 42931 missing from current font.\n",
      "  font.set_text(s, 0.0, flags=flags)\n",
      "C:\\ProgramData\\Anaconda3\\lib\\site-packages\\matplotlib\\backends\\backend_agg.py:203: RuntimeWarning: Glyph 120514 missing from current font.\n",
      "  font.set_text(s, 0, flags=flags)\n",
      "C:\\ProgramData\\Anaconda3\\lib\\site-packages\\matplotlib\\backends\\backend_agg.py:203: RuntimeWarning: Glyph 120574 missing from current font.\n",
      "  font.set_text(s, 0, flags=flags)\n",
      "C:\\ProgramData\\Anaconda3\\lib\\site-packages\\matplotlib\\backends\\backend_agg.py:203: RuntimeWarning: Glyph 120578 missing from current font.\n",
      "  font.set_text(s, 0, flags=flags)\n",
      "C:\\ProgramData\\Anaconda3\\lib\\site-packages\\matplotlib\\backends\\backend_agg.py:203: RuntimeWarning: Glyph 120584 missing from current font.\n",
      "  font.set_text(s, 0, flags=flags)\n",
      "C:\\ProgramData\\Anaconda3\\lib\\site-packages\\matplotlib\\backends\\backend_agg.py:203: RuntimeWarning: Glyph 120533 missing from current font.\n",
      "  font.set_text(s, 0, flags=flags)\n",
      "C:\\ProgramData\\Anaconda3\\lib\\site-packages\\matplotlib\\backends\\backend_agg.py:203: RuntimeWarning: Glyph 42931 missing from current font.\n",
      "  font.set_text(s, 0, flags=flags)\n"
     ]
    },
    {
     "data": {
      "image/png": "[encoded data removed]",
      "text/plain": [
       "<Figure size 720x2880 with 1 Axes>"
      ]
     },
     "metadata": {
      "needs_background": "light"
     },
     "output_type": "display_data"
    }
   ],
   "source": [
    "train_yint = np.int0(y)\n",
    "count = np.zeros(135, dtype='int')\n",
    "for i in train_yint:\n",
    "    count[i] +=1\n",
    "\n",
    "characters = []\n",
    "for i in symdict.values():\n",
    "    characters.append(i)\n",
    "\n",
    "fig, ax = plt.subplots(1,1, figsize=(10,40))\n",
    "ax.barh(characters, count)\n",
    "\n",
    "plt.xlabel(\"Number of elements \")\n",
    "plt.ylabel(\"Characters\")\n",
    "plt.grid()\n",
    "plt.show()"
   ]
  },
  {
   "cell_type": "markdown",
   "id": "9a66ba31",
   "metadata": {},
   "source": [
    "# Data Shuffling "
   ]
  },
  {
   "cell_type": "code",
   "execution_count": 141,
   "id": "3097e159",
   "metadata": {},
   "outputs": [
    {
     "data": {
      "image/png": "[encoded data removed]",
      "text/plain": [
       "<Figure size 720x720 with 9 Axes>"
      ]
     },
     "metadata": {
      "needs_background": "light"
     },
     "output_type": "display_data"
    }
   ],
   "source": [
    "shuff = shuffle(train_x[:100])\n",
    "fig, ax = plt.subplots(3,3, figsize = (10,10))\n",
    "axes = ax.flatten()\n",
    "\n",
    "for i in range(9):\n",
    "    axes[i].imshow(np.reshape(shuff[i], (28,28)), cmap=\"Greys\")\n",
    "plt.show()"
   ]
  },
  {
   "cell_type": "markdown",
   "id": "169f3943",
   "metadata": {},
   "source": [
    "# Reshaping Data"
   ]
  },
  {
   "cell_type": "code",
   "execution_count": 142,
   "id": "e7a09bb7",
   "metadata": {},
   "outputs": [
    {
     "name": "stdout",
     "output_type": "stream",
     "text": [
      "New shape of train data:  (117608, 28, 28, 1)\n",
      "New shape of train data:  (19601, 28, 28, 1)\n"
     ]
    }
   ],
   "source": [
    "train_X = train_x.reshape(train_x.shape[0],train_x.shape[1],train_x.shape[2],1)\n",
    "print(\"New shape of train data: \", train_X.shape)\n",
    "\n",
    "test_X = test_x.reshape(test_x.shape[0], test_x.shape[1], test_x.shape[2],1)\n",
    "print(\"New shape of train data: \", test_X.shape)"
   ]
  },
  {
   "cell_type": "code",
   "execution_count": 143,
   "id": "5ded07c8",
   "metadata": {},
   "outputs": [
    {
     "name": "stdout",
     "output_type": "stream",
     "text": [
      "New shape of train labels:  (117608, 135)\n",
      "New shape of test labels:  (19601, 135)\n"
     ]
    }
   ],
   "source": [
    "trainr_y = to_categorical(train_y, num_classes = 135, dtype='int')\n",
    "print(\"New shape of train labels: \", trainr_y.shape)\n",
    "\n",
    "testr_y = to_categorical(test_y, num_classes = 135, dtype='int')\n",
    "print(\"New shape of test labels: \", testr_y.shape)"
   ]
  },
  {
   "cell_type": "markdown",
   "id": "2bc1f316",
   "metadata": {},
   "source": [
    "# CNN Model"
   ]
  },
  {
   "cell_type": "code",
   "execution_count": 144,
   "id": "d3a529fd",
   "metadata": {},
   "outputs": [
    {
     "name": "stdout",
     "output_type": "stream",
     "text": [
      "Model: \"sequential_32\"\n",
      "_________________________________________________________________\n",
      " Layer (type)                Output Shape              Param #   \n",
      "=================================================================\n",
      " conv2d_143 (Conv2D)         (None, 26, 26, 64)        640       \n",
      "                                                                 \n",
      " conv2d_144 (Conv2D)         (None, 26, 26, 64)        36928     \n",
      "                                                                 \n",
      " max_pooling2d_92 (MaxPoolin  (None, 13, 13, 64)       0         \n",
      " g2D)                                                            \n",
      "                                                                 \n",
      " conv2d_145 (Conv2D)         (None, 13, 13, 128)       73856     \n",
      "                                                                 \n",
      " conv2d_146 (Conv2D)         (None, 13, 13, 128)       147584    \n",
      "                                                                 \n",
      " max_pooling2d_93 (MaxPoolin  (None, 6, 6, 128)        0         \n",
      " g2D)                                                            \n",
      "                                                                 \n",
      " conv2d_147 (Conv2D)         (None, 6, 6, 256)         295168    \n",
      "                                                                 \n",
      " conv2d_148 (Conv2D)         (None, 6, 6, 256)         590080    \n",
      "                                                                 \n",
      " max_pooling2d_94 (MaxPoolin  (None, 3, 3, 256)        0         \n",
      " g2D)                                                            \n",
      "                                                                 \n",
      "=================================================================\n",
      "Total params: 1,144,256\n",
      "Trainable params: 1,144,256\n",
      "Non-trainable params: 0\n",
      "_________________________________________________________________\n",
      "Model: \"sequential_32\"\n",
      "_________________________________________________________________\n",
      " Layer (type)                Output Shape              Param #   \n",
      "=================================================================\n",
      " conv2d_143 (Conv2D)         (None, 26, 26, 64)        640       \n",
      "                                                                 \n",
      " conv2d_144 (Conv2D)         (None, 26, 26, 64)        36928     \n",
      "                                                                 \n",
      " max_pooling2d_92 (MaxPoolin  (None, 13, 13, 64)       0         \n",
      " g2D)                                                            \n",
      "                                                                 \n",
      " conv2d_145 (Conv2D)         (None, 13, 13, 128)       73856     \n",
      "                                                                 \n",
      " conv2d_146 (Conv2D)         (None, 13, 13, 128)       147584    \n",
      "                                                                 \n",
      " max_pooling2d_93 (MaxPoolin  (None, 6, 6, 128)        0         \n",
      " g2D)                                                            \n",
      "                                                                 \n",
      " conv2d_147 (Conv2D)         (None, 6, 6, 256)         295168    \n",
      "                                                                 \n",
      " conv2d_148 (Conv2D)         (None, 6, 6, 256)         590080    \n",
      "                                                                 \n",
      " max_pooling2d_94 (MaxPoolin  (None, 3, 3, 256)        0         \n",
      " g2D)                                                            \n",
      "                                                                 \n",
      " reshape_4 (Reshape)         (None, 9, 256)            0         \n",
      "                                                                 \n",
      " lstm_22 (LSTM)              (None, 9, 256)            525312    \n",
      "                                                                 \n",
      "=================================================================\n",
      "Total params: 1,669,568\n",
      "Trainable params: 1,669,568\n",
      "Non-trainable params: 0\n",
      "_________________________________________________________________\n"
     ]
    }
   ],
   "source": [
    "model = Sequential()\n",
    "\n",
    "# 1st conv block\n",
    "model.add(Conv2D(filters=64, kernel_size=(3, 3), activation='relu', input_shape=(28,28,1)))\n",
    "BatchNormalization()\n",
    "model.add(Conv2D(filters=64, kernel_size=(3, 3), activation='relu', padding = 'same'))\n",
    "BatchNormalization()\n",
    "model.add(MaxPool2D(pool_size=(2, 2), strides=2))\n",
    "\n",
    "\n",
    "# 2nd conv block\n",
    "model.add(Conv2D(filters=128, kernel_size=(3, 3), activation='relu', padding = 'same'))\n",
    "BatchNormalization()\n",
    "model.add(Conv2D(filters=128, kernel_size=(3, 3), activation='relu', padding = 'same'))\n",
    "BatchNormalization()\n",
    "model.add(MaxPool2D(pool_size=(2, 2), strides=2))\n",
    "\n",
    "\n",
    "#3rd conv block\n",
    "model.add(Conv2D(filters=256, kernel_size=(3, 3), activation='relu', padding = 'same'))\n",
    "BatchNormalization()\n",
    "model.add(Conv2D(filters=256, kernel_size=(3, 3), activation='relu', padding = 'same'))\n",
    "BatchNormalization()\n",
    "model.add(MaxPool2D(pool_size=(2, 2), strides=2))\n",
    "model.summary()\n",
    "\n",
    "#model.add(Flatten())\n",
    "    \n",
    "# LSTM layer\n",
    "model.add(layers.Reshape((9, 256)))\n",
    "model.add(layers.LSTM(256, activation=\"relu\", return_sequences=True))\n",
    "model.summary()\n",
    "\n",
    "model.add(Flatten())\n",
    "model.add(Dense(32,activation =\"relu\"))\n",
    "model.add(Dense(64,activation =\"relu\"))\n",
    "model.add(Dense(135,activation =\"softmax\"))    "
   ]
  },
  {
   "cell_type": "markdown",
   "id": "378a8064",
   "metadata": {},
   "source": [
    "# Model Compilation"
   ]
  },
  {
   "cell_type": "code",
   "execution_count": 145,
   "id": "55f22469",
   "metadata": {},
   "outputs": [],
   "source": [
    "model.compile(optimizer = Adam(), loss='mean_squared_error', metrics=['accuracy'])\n",
    "reduce_lr = ReduceLROnPlateau(monitor='val_loss', factor=0.14, patience=1, min_lr=0.0001)\n",
    "early_stop = EarlyStopping(monitor='val_loss', min_delta=0, patience=2, verbose=0, mode='auto')\n"
   ]
  },
  {
   "cell_type": "markdown",
   "id": "457ceb91",
   "metadata": {},
   "source": [
    "# Model Fitting"
   ]
  },
  {
   "cell_type": "code",
   "execution_count": 146,
   "id": "e1154992",
   "metadata": {},
   "outputs": [
    {
     "name": "stdout",
     "output_type": "stream",
     "text": [
      "Epoch 1/10\n",
      "3676/3676 [==============================] - 745s 202ms/step - loss: 0.0042 - accuracy: 0.5126 - val_loss: 0.0025 - val_accuracy: 0.7335 - lr: 0.0010\n",
      "Epoch 2/10\n",
      "3676/3676 [==============================] - 816s 222ms/step - loss: 0.0021 - accuracy: 0.7849 - val_loss: 0.0019 - val_accuracy: 0.8144 - lr: 0.0010\n",
      "Epoch 3/10\n",
      "3676/3676 [==============================] - 803s 218ms/step - loss: 0.0017 - accuracy: 0.8393 - val_loss: 0.0017 - val_accuracy: 0.8362 - lr: 0.0010\n",
      "Epoch 4/10\n",
      "3676/3676 [==============================] - 805s 219ms/step - loss: 0.0014 - accuracy: 0.8613 - val_loss: 0.0014 - val_accuracy: 0.8616 - lr: 0.0010\n",
      "Epoch 5/10\n",
      "3676/3676 [==============================] - 811s 221ms/step - loss: 0.0013 - accuracy: 0.8734 - val_loss: 0.0014 - val_accuracy: 0.8643 - lr: 0.0010\n",
      "Epoch 6/10\n",
      "3676/3676 [==============================] - 809s 220ms/step - loss: 8.9282e-04 - accuracy: 0.9155 - val_loss: 0.0010 - val_accuracy: 0.9017 - lr: 1.4000e-04\n",
      "Epoch 7/10\n",
      "3676/3676 [==============================] - 817s 222ms/step - loss: 7.2462e-04 - accuracy: 0.9323 - val_loss: 0.0010 - val_accuracy: 0.9047 - lr: 1.4000e-04\n",
      "Epoch 8/10\n",
      "3676/3676 [==============================] - 812s 221ms/step - loss: 5.9756e-04 - accuracy: 0.9453 - val_loss: 9.7696e-04 - val_accuracy: 0.9087 - lr: 1.0000e-04\n",
      "Epoch 9/10\n",
      "3676/3676 [==============================] - 814s 222ms/step - loss: 5.1690e-04 - accuracy: 0.9535 - val_loss: 9.7368e-04 - val_accuracy: 0.9102 - lr: 1.0000e-04\n",
      "Epoch 10/10\n",
      "3676/3676 [==============================] - 798s 217ms/step - loss: 4.4847e-04 - accuracy: 0.9605 - val_loss: 9.9714e-04 - val_accuracy: 0.9098 - lr: 1.0000e-04\n"
     ]
    }
   ],
   "source": [
    "history = model.fit(train_X, trainr_y, epochs=10, callbacks=[reduce_lr, early_stop],  validation_data = (test_X,testr_y))"
   ]
  },
  {
   "cell_type": "markdown",
   "id": "94deebbe",
   "metadata": {},
   "source": [
    "# Model Summary"
   ]
  },
  {
   "cell_type": "code",
   "execution_count": 147,
   "id": "f63a71d7",
   "metadata": {},
   "outputs": [
    {
     "name": "stdout",
     "output_type": "stream",
     "text": [
      "Model: \"sequential_32\"\n",
      "_________________________________________________________________\n",
      " Layer (type)                Output Shape              Param #   \n",
      "=================================================================\n",
      " conv2d_143 (Conv2D)         (None, 26, 26, 64)        640       \n",
      "                                                                 \n",
      " conv2d_144 (Conv2D)         (None, 26, 26, 64)        36928     \n",
      "                                                                 \n",
      " max_pooling2d_92 (MaxPoolin  (None, 13, 13, 64)       0         \n",
      " g2D)                                                            \n",
      "                                                                 \n",
      " conv2d_145 (Conv2D)         (None, 13, 13, 128)       73856     \n",
      "                                                                 \n",
      " conv2d_146 (Conv2D)         (None, 13, 13, 128)       147584    \n",
      "                                                                 \n",
      " max_pooling2d_93 (MaxPoolin  (None, 6, 6, 128)        0         \n",
      " g2D)                                                            \n",
      "                                                                 \n",
      " conv2d_147 (Conv2D)         (None, 6, 6, 256)         295168    \n",
      "                                                                 \n",
      " conv2d_148 (Conv2D)         (None, 6, 6, 256)         590080    \n",
      "                                                                 \n",
      " max_pooling2d_94 (MaxPoolin  (None, 3, 3, 256)        0         \n",
      " g2D)                                                            \n",
      "                                                                 \n",
      " reshape_4 (Reshape)         (None, 9, 256)            0         \n",
      "                                                                 \n",
      " lstm_22 (LSTM)              (None, 9, 256)            525312    \n",
      "                                                                 \n",
      " flatten_11 (Flatten)        (None, 2304)              0         \n",
      "                                                                 \n",
      " dense_25 (Dense)            (None, 32)                73760     \n",
      "                                                                 \n",
      " dense_26 (Dense)            (None, 64)                2112      \n",
      "                                                                 \n",
      " dense_27 (Dense)            (None, 135)               8775      \n",
      "                                                                 \n",
      "=================================================================\n",
      "Total params: 1,754,215\n",
      "Trainable params: 1,754,215\n",
      "Non-trainable params: 0\n",
      "_________________________________________________________________\n"
     ]
    }
   ],
   "source": [
    "model.summary()"
   ]
  },
  {
   "cell_type": "code",
   "execution_count": 149,
   "id": "1bd5167e",
   "metadata": {},
   "outputs": [],
   "source": [
    "model.save(r'model_lstm.h5')"
   ]
  },
  {
   "cell_type": "markdown",
   "id": "05ca09d3",
   "metadata": {},
   "source": [
    "# Metrics"
   ]
  },
  {
   "cell_type": "code",
   "execution_count": 150,
   "id": "fff4e3b0",
   "metadata": {},
   "outputs": [
    {
     "name": "stdout",
     "output_type": "stream",
     "text": [
      "Validation accuracy : [0.7334829568862915, 0.8144482374191284, 0.8361818194389343, 0.861588716506958, 0.8643436431884766, 0.9017397165298462, 0.9046987295150757, 0.9086781144142151, 0.9102086424827576, 0.9098005294799805]\n",
      "Training accuracy : [0.5126181840896606, 0.7848870754241943, 0.8392796516418457, 0.8613019585609436, 0.8733844757080078, 0.9154564142227173, 0.9323090314865112, 0.9453268647193909, 0.953540563583374, 0.9604789018630981]\n",
      "Validation loss : [0.0025423720944672823, 0.0018841475248336792, 0.0017047144938260317, 0.0014380033826455474, 0.0014242565957829356, 0.001022064476273954, 0.00100098573602736, 0.0009769585449248552, 0.0009736773790791631, 0.000997138093225658]\n",
      "Training loss : [0.004184994380921125, 0.0021322285756468773, 0.001657351036556065, 0.001441722852177918, 0.00132299168035388, 0.000892824784386903, 0.000724622281268239, 0.000597558100707829, 0.0005169041105546057, 0.0004484696837607771]\n"
     ]
    }
   ],
   "source": [
    "print(\"Validation accuracy :\", history.history['val_accuracy'])\n",
    "print(\"Training accuracy :\", history.history['accuracy'])\n",
    "print(\"Validation loss :\", history.history['val_loss'])\n",
    "print(\"Training loss :\", history.history['loss'])"
   ]
  },
  {
   "cell_type": "code",
   "execution_count": 151,
   "id": "1fb2b543",
   "metadata": {},
   "outputs": [
    {
     "data": {
      "text/plain": [
       "dict_keys(['loss', 'accuracy', 'val_loss', 'val_accuracy', 'lr'])"
      ]
     },
     "execution_count": 151,
     "metadata": {},
     "output_type": "execute_result"
    }
   ],
   "source": [
    "history.history.keys()"
   ]
  },
  {
   "cell_type": "code",
   "execution_count": 152,
   "id": "3d3144f5",
   "metadata": {},
   "outputs": [
    {
     "data": {
      "image/png": "[encoded data removed]",
      "text/plain": [
       "<Figure size 432x288 with 1 Axes>"
      ]
     },
     "metadata": {
      "needs_background": "light"
     },
     "output_type": "display_data"
    }
   ],
   "source": [
    "plt.plot(history.history['accuracy'])\n",
    "plt.plot(history.history['val_accuracy'])\n",
    "plt.title('Model accuracy')\n",
    "plt.ylabel('Accuracy')\n",
    "plt.xlabel('Epoch')\n",
    "plt.legend(['Train', 'Val'], loc='upper left')\n",
    "plt.show()"
   ]
  },
  {
   "cell_type": "code",
   "execution_count": 153,
   "id": "36e9da9e",
   "metadata": {},
   "outputs": [
    {
     "data": {
      "image/png": "[encoded data removed]",
      "text/plain": [
       "<Figure size 432x288 with 1 Axes>"
      ]
     },
     "metadata": {
      "needs_background": "light"
     },
     "output_type": "display_data"
    }
   ],
   "source": [
    "plt.plot(history.history['loss'])\n",
    "plt.plot(history.history['val_loss'])\n",
    "plt.title('Model Loss')\n",
    "plt.ylabel('Loss')\n",
    "plt.xlabel('Epoch')\n",
    "plt.legend(['Train', 'Val'], loc='upper left')\n",
    "plt.show()"
   ]
  },
  {
   "cell_type": "markdown",
   "id": "2c26ade5",
   "metadata": {},
   "source": [
    "# Predictions for testing data"
   ]
  },
  {
   "cell_type": "code",
   "execution_count": 154,
   "id": "03c709cd",
   "metadata": {},
   "outputs": [
    {
     "name": "stdout",
     "output_type": "stream",
     "text": [
      "(19601, 28, 28, 1)\n"
     ]
    }
   ],
   "source": [
    "pred = model.predict(test_X[:135])\n",
    "print(test_X.shape)"
   ]
  },
  {
   "cell_type": "code",
   "execution_count": 155,
   "id": "d7593eaf",
   "metadata": {},
   "outputs": [
    {
     "data": {
      "image/png": "[encoded data removed]",
      "text/plain": [
       "<Figure size 576x648 with 9 Axes>"
      ]
     },
     "metadata": {
      "needs_background": "light"
     },
     "output_type": "display_data"
    }
   ],
   "source": [
    "fig, axes = plt.subplots(3,3, figsize=(8,9))\n",
    "axes = axes.flatten()\n",
    "\n",
    "for i,ax in enumerate(axes):\n",
    "    img = np.reshape(test_X[i], (28,28))\n",
    "    ax.imshow(img, cmap=\"Greys\")\n",
    "    pred = symdict[np.argmax(testr_y[i])]\n",
    "    ax.set_title(\"Prediction: \"+pred)\n",
    "    ax.grid()"
   ]
  },
  {
   "cell_type": "markdown",
   "id": "93c70929",
   "metadata": {},
   "source": [
    "# Predictions for provided image"
   ]
  },
  {
   "cell_type": "code",
   "execution_count": 159,
   "id": "e52c5948",
   "metadata": {},
   "outputs": [
    {
     "name": "stdout",
     "output_type": "stream",
     "text": [
      "Image\n"
     ]
    },
    {
     "data": {
      "image/png": "[encoded data removed]",
      "text/plain": [
       "<Figure size 432x288 with 1 Axes>"
      ]
     },
     "metadata": {
      "needs_background": "light"
     },
     "output_type": "display_data"
    },
    {
     "name": "stdout",
     "output_type": "stream",
     "text": [
      "Contoured Image\n"
     ]
    },
    {
     "data": {
      "image/png": "[encoded data removed]",
      "text/plain": [
       "<Figure size 432x288 with 1 Axes>"
      ]
     },
     "metadata": {
      "needs_background": "light"
     },
     "output_type": "display_data"
    }
   ],
   "source": [
    "image = cv2.imread('name.png')\n",
    "gray = cv2.cvtColor(image.copy(), cv2.COLOR_BGR2GRAY)\n",
    "ret, thresh = cv2.threshold(gray.copy(), 127, 255, cv2.THRESH_BINARY_INV)\n",
    "\n",
    "contours, _ = cv2.findContours(thresh.copy(), cv2.RETR_EXTERNAL, cv2.CHAIN_APPROX_SIMPLE)\n",
    "print(\"Image\")\n",
    "plt.imshow(thresh, cmap=\"gray\")\n",
    "plt.show()\n",
    "preprocessed_symb = []\n",
    "for c in contours:\n",
    "    x,y,w,h = cv2.boundingRect(c)\n",
    "    \n",
    "    # Creating a rectangle around the character in the original image (for displaying the charaters fetched via contours)\n",
    "    cv2.rectangle(image, (x,y), (x+w, y+h), color=(0, 255, 0), thickness=1)\n",
    "    \n",
    "    # Cropping out the char from the image corresponding to the current contours in the for loop\n",
    "    symb = thresh[y:y+h, x:x+w]\n",
    "    \n",
    "    # Resizing that digit to (18, 18)\n",
    "    resized_symb = cv2.resize(symb, (16,16))\n",
    "    \n",
    "    # Padding the digit with 5 pixels of black color (zeros) in each side to finally produce the image of (28, 28)\n",
    "    padded_symb = np.pad(resized_symb, ((6,6),(6,6)), \"constant\", constant_values=0)\n",
    "    \n",
    "    # Adding the preprocessed digit to the list of preprocessed digits\n",
    "    preprocessed_symb.append(padded_symb)\n",
    "    \n",
    "print(\"Contoured Image\")\n",
    "plt.imshow(image, cmap=\"gray\")\n",
    "plt.show()\n",
    "# print(preprocessed_symb)    \n",
    "inp = np.array(preprocessed_symb)"
   ]
  },
  {
   "cell_type": "code",
   "execution_count": 160,
   "id": "ca34d167",
   "metadata": {},
   "outputs": [
    {
     "name": "stdout",
     "output_type": "stream",
     "text": [
      "Prediction: \n",
      "tXBA"
     ]
    }
   ],
   "source": [
    "img_pred = []\n",
    "print(\"Prediction: \")\n",
    "# def my_function(x):\n",
    "#     return x[::-1]\n",
    "for symb in inp:\n",
    "    img_pred = symdict[np.argmax(model.predict(symb.reshape(1, 28, 28, 1)))]\n",
    "#     img_pred = my_function(img_pred)\n",
    "    print(img_pred, end = '')\n",
    "    "
   ]
  },
  {
   "cell_type": "code",
   "execution_count": 161,
   "id": "a1fa0b15",
   "metadata": {},
   "outputs": [
    {
     "data": {
      "image/png": "[encoded data removed]",
      "text/plain": [
       "<Figure size 432x288 with 1 Axes>"
      ]
     },
     "metadata": {
      "needs_background": "light"
     },
     "output_type": "display_data"
    },
    {
     "name": "stdout",
     "output_type": "stream",
     "text": [
      "Prediction:  t\n"
     ]
    },
    {
     "data": {
      "image/png": "[encoded data removed]",
      "text/plain": [
       "<Figure size 432x288 with 1 Axes>"
      ]
     },
     "metadata": {
      "needs_background": "light"
     },
     "output_type": "display_data"
    },
    {
     "name": "stdout",
     "output_type": "stream",
     "text": [
      "Prediction:  X\n"
     ]
    },
    {
     "data": {
      "image/png": "[encoded data removed]",
      "text/plain": [
       "<Figure size 432x288 with 1 Axes>"
      ]
     },
     "metadata": {
      "needs_background": "light"
     },
     "output_type": "display_data"
    },
    {
     "name": "stdout",
     "output_type": "stream",
     "text": [
      "Prediction:  B\n"
     ]
    },
    {
     "data": {
      "image/png": "[encoded data removed]",
      "text/plain": [
       "<Figure size 432x288 with 1 Axes>"
      ]
     },
     "metadata": {
      "needs_background": "light"
     },
     "output_type": "display_data"
    },
    {
     "name": "stdout",
     "output_type": "stream",
     "text": [
      "Prediction:  A\n"
     ]
    }
   ],
   "source": [
    "img_pred = []\n",
    "for symb in inp:\n",
    "    img_pred = symdict[np.argmax(model.predict(symb.reshape(1, 28, 28, 1)))]\n",
    "    plt.imshow(symb.reshape(28, 28), cmap=\"gray\")\n",
    "    plt.show()\n",
    "    print(\"Prediction: \", img_pred)"
   ]
  },
  {
   "cell_type": "code",
   "execution_count": null,
   "id": "b495836a",
   "metadata": {},
   "outputs": [],
   "source": []
  }
 ],
 "metadata": {
  "kernelspec": {
   "display_name": "Python 3 (ipykernel)",
   "language": "python",
   "name": "python3"
  },
  "language_info": {
   "codemirror_mode": {
    "name": "ipython",
    "version": 3
   },
   "file_extension": ".py",
   "mimetype": "text/x-python",
   "name": "python",
   "nbconvert_exporter": "python",
   "pygments_lexer": "ipython3",
   "version": "3.9.7"
  }
 },
 "nbformat": 4,
 "nbformat_minor": 5
}
