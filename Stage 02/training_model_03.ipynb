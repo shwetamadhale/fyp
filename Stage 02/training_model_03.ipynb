{
 "cells": [
  {
   "cell_type": "code",
   "execution_count": 29,
   "id": "14b47713",
   "metadata": {},
   "outputs": [],
   "source": [
    "import matplotlib.pyplot as plt\n",
    "import cv2\n",
    "import numpy as np\n",
    "import tensorflow as tf\n",
    "import keras\n",
    "from keras.models import Sequential\n",
    "from keras.layers import Dense, Flatten, Conv2D, MaxPool2D, Dropout, Activation\n",
    "from tensorflow.keras.optimizers import SGD, Adam\n",
    "from keras.callbacks import ReduceLROnPlateau, EarlyStopping\n",
    "from keras.utils.np_utils import to_categorical\n",
    "import pandas as pd\n",
    "import numpy as np\n",
    "from sklearn.model_selection import train_test_split\n",
    "from sklearn.utils import shuffle"
   ]
  },
  {
   "cell_type": "code",
   "execution_count": 3,
   "id": "515a87eb",
   "metadata": {},
   "outputs": [
    {
     "name": "stdout",
     "output_type": "stream",
     "text": [
      "     0      1      2      3      4      5      6      7      8      9  ...  \\\n",
      "0  0.0    0.0    0.0    0.0    0.0    0.0    0.0  168.0  255.0  255.0  ...   \n",
      "1  0.0    0.0  209.0  255.0  255.0  255.0  255.0  255.0  255.0  255.0  ...   \n",
      "2  0.0  122.0  255.0  255.0  255.0  255.0  255.0  255.0  255.0  255.0  ...   \n",
      "3  0.0    0.0    0.0    0.0    0.0    0.0    0.0    0.0   65.0  255.0  ...   \n",
      "4  0.0    0.0    0.0    0.0    0.0    0.0    0.0    0.0  110.0  137.0  ...   \n",
      "5  0.0    0.0    0.0    0.0    0.0    0.0    0.0    0.0    0.0    0.0  ...   \n",
      "6  0.0    0.0    0.0    0.0    0.0    0.0    0.0    0.0    0.0    0.0  ...   \n",
      "7  0.0    0.0    0.0    0.0    0.0    0.0    0.0    0.0    0.0    0.0  ...   \n",
      "8  0.0    0.0    0.0    0.0    0.0    0.0    0.0    0.0    0.0    0.0  ...   \n",
      "9  0.0    0.0    0.0    0.0    0.0    0.0    0.0    0.0    0.0    0.0  ...   \n",
      "\n",
      "   775  776  777  778  779  780  781  782  783  784  \n",
      "0  0.0  0.0  0.0  0.0  0.0  0.0  0.0  0.0  0.0  0.0  \n",
      "1  0.0  0.0  0.0  0.0  0.0  0.0  0.0  0.0  0.0  0.0  \n",
      "2  0.0  0.0  0.0  0.0  0.0  0.0  0.0  0.0  0.0  0.0  \n",
      "3  0.0  0.0  0.0  0.0  0.0  0.0  0.0  0.0  0.0  0.0  \n",
      "4  0.0  0.0  0.0  0.0  0.0  0.0  0.0  0.0  0.0  0.0  \n",
      "5  0.0  0.0  0.0  0.0  0.0  0.0  0.0  0.0  0.0  0.0  \n",
      "6  0.0  0.0  0.0  0.0  0.0  0.0  0.0  0.0  0.0  0.0  \n",
      "7  0.0  0.0  0.0  0.0  0.0  0.0  0.0  0.0  0.0  0.0  \n",
      "8  0.0  0.0  0.0  0.0  0.0  0.0  0.0  0.0  0.0  0.0  \n",
      "9  0.0  0.0  0.0  0.0  0.0  0.0  0.0  0.0  0.0  0.0  \n",
      "\n",
      "[10 rows x 785 columns]\n"
     ]
    }
   ],
   "source": [
    "data = pd.read_csv(r\"dataset.csv\").astype('float32')\n",
    "\n",
    "print(data.head(10))"
   ]
  },
  {
   "cell_type": "code",
   "execution_count": 17,
   "id": "3b3d6326",
   "metadata": {},
   "outputs": [],
   "source": [
    "X = data.drop('0',axis = 1)\n",
    "y = data['784']"
   ]
  },
  {
   "cell_type": "code",
   "execution_count": 18,
   "id": "997626e1",
   "metadata": {},
   "outputs": [
    {
     "name": "stdout",
     "output_type": "stream",
     "text": [
      "Train data shape:  (109560, 28, 28)\n",
      "Test data shape:  (27390, 28, 28)\n"
     ]
    }
   ],
   "source": [
    "train_x, test_x, train_y, test_y = train_test_split(X, y, test_size = 0.2)\n",
    "\n",
    "train_x = np.reshape(train_x.values, (train_x.shape[0], 28,28))\n",
    "test_x = np.reshape(test_x.values, (test_x.shape[0], 28,28))\n",
    "\n",
    "print(\"Train data shape: \", train_x.shape)\n",
    "print(\"Test data shape: \", test_x.shape)"
   ]
  },
  {
   "cell_type": "code",
   "execution_count": 19,
   "id": "75b2964b",
   "metadata": {},
   "outputs": [
    {
     "name": "stdout",
     "output_type": "stream",
     "text": [
      "[[[255. 255. 255. ... 255. 255. 255.]\n",
      "  [255. 255. 255. ... 255. 255. 255.]\n",
      "  [255. 255. 255. ... 255. 255. 255.]\n",
      "  ...\n",
      "  [255. 255. 255. ... 255. 255. 255.]\n",
      "  [255. 255. 255. ... 255. 255. 255.]\n",
      "  [255. 255. 255. ... 255. 255.  40.]]\n",
      "\n",
      " [[  0.   0.   0. ...   0.   0.   0.]\n",
      "  [  0.   0.   0. ...   0.   0.   0.]\n",
      "  [  0.   0.   0. ...   0.   0.   0.]\n",
      "  ...\n",
      "  [  0.   0.   0. ...   0.   0.   0.]\n",
      "  [  0.   0.   0. ...   0.   0.   0.]\n",
      "  [  0.   0.   0. ...   0.   0.  11.]]\n",
      "\n",
      " [[255. 255. 255. ... 255. 255. 255.]\n",
      "  [255. 255. 255. ... 255. 255. 255.]\n",
      "  [255. 255. 255. ... 255. 255. 255.]\n",
      "  ...\n",
      "  [255. 255. 255. ... 255. 255. 255.]\n",
      "  [255. 255. 255. ... 255. 255. 255.]\n",
      "  [255. 255. 255. ... 255. 255.  71.]]\n",
      "\n",
      " ...\n",
      "\n",
      " [[194. 178. 178. ...   0.   0.  23.]\n",
      "  [  5.   0.   0. ...   0.   0.   0.]\n",
      "  [  0.   0.   0. ...   0.   0.   0.]\n",
      "  ...\n",
      "  [  0.   0.   0. ...   0.   0.   0.]\n",
      "  [  0.   0.   0. ...   0.   0.   0.]\n",
      "  [  0.   0.   0. ...   0.   0.  15.]]\n",
      "\n",
      " [[255. 255. 255. ... 255. 255. 255.]\n",
      "  [255. 255. 255. ... 255. 255. 255.]\n",
      "  [255. 255. 255. ... 255. 255. 255.]\n",
      "  ...\n",
      "  [255. 255. 255. ... 255. 255. 255.]\n",
      "  [255. 255. 255. ... 255. 255. 255.]\n",
      "  [255. 255. 255. ... 255. 255.  24.]]\n",
      "\n",
      " [[  0.   0.   0. ...  68.  68.   0.]\n",
      "  [  0.   0.   0. ...  50.  50.   0.]\n",
      "  [  0.   0.   0. ...   0.   0.   0.]\n",
      "  ...\n",
      "  [  0.   0. 255. ...   0.   0.   0.]\n",
      "  [  0.   0.   0. ...   0.   0.   0.]\n",
      "  [  0.   0.   0. ...   0.   0.  96.]]]\n"
     ]
    }
   ],
   "source": [
    "print(train_x)"
   ]
  },
  {
   "cell_type": "code",
   "execution_count": 20,
   "id": "efe52ba8",
   "metadata": {},
   "outputs": [
    {
     "data": {
      "image/png": "[encoded data removed]",
      "text/plain": [
       "<Figure size 432x288 with 1 Axes>"
      ]
     },
     "metadata": {
      "needs_background": "light"
     },
     "output_type": "display_data"
    },
    {
     "data": {
      "text/plain": [
       "<matplotlib.image.AxesImage at 0x1b3007f1b20>"
      ]
     },
     "execution_count": 20,
     "metadata": {},
     "output_type": "execute_result"
    },
    {
     "data": {
      "image/png": "[encoded data removed]",
      "text/plain": [
       "<Figure size 432x288 with 1 Axes>"
      ]
     },
     "metadata": {
      "needs_background": "light"
     },
     "output_type": "display_data"
    }
   ],
   "source": [
    "import matplotlib.pyplot as plt\n",
    "\n",
    "plt.imshow(train_x[0])\n",
    "plt.show()\n",
    "plt.imshow(train_x[0], cmap = plt.cm.binary)"
   ]
  },
  {
   "cell_type": "code",
   "execution_count": 21,
   "id": "c0670a65",
   "metadata": {},
   "outputs": [
    {
     "data": {
      "text/plain": [
       "<matplotlib.image.AxesImage at 0x1b300853f10>"
      ]
     },
     "execution_count": 21,
     "metadata": {},
     "output_type": "execute_result"
    },
    {
     "data": {
      "image/png": "[encoded data removed]",
      "text/plain": [
       "<Figure size 432x288 with 1 Axes>"
      ]
     },
     "metadata": {
      "needs_background": "light"
     },
     "output_type": "display_data"
    }
   ],
   "source": [
    "train_x = tf.keras.utils.normalize(train_x, axis = 1)\n",
    "test_x = tf.keras.utils.normalize(test_x, axis = 1)\n",
    "plt.imshow(train_x[0], cmap = plt.cm.binary)"
   ]
  },
  {
   "cell_type": "code",
   "execution_count": 22,
   "id": "dc358d4b",
   "metadata": {},
   "outputs": [
    {
     "name": "stdout",
     "output_type": "stream",
     "text": [
      "56194      40.0\n",
      "6031       11.0\n",
      "75836      71.0\n",
      "104375    103.0\n",
      "86662      84.0\n",
      "          ...  \n",
      "30039      18.0\n",
      "94565      93.0\n",
      "19671      15.0\n",
      "37180      24.0\n",
      "97589      96.0\n",
      "Name: 784, Length: 109560, dtype: float32\n"
     ]
    }
   ],
   "source": [
    "print(train_y)"
   ]
  },
  {
   "cell_type": "code",
   "execution_count": 26,
   "id": "28e9a84e",
   "metadata": {},
   "outputs": [
    {
     "name": "stdout",
     "output_type": "stream",
     "text": [
      "24.0\n"
     ]
    }
   ],
   "source": [
    "print(train_y[36827])"
   ]
  },
  {
   "cell_type": "code",
   "execution_count": 27,
   "id": "483b7802",
   "metadata": {},
   "outputs": [],
   "source": [
    "##Image resizing"
   ]
  },
  {
   "cell_type": "code",
   "execution_count": 28,
   "id": "cb5522a7",
   "metadata": {},
   "outputs": [
    {
     "name": "stdout",
     "output_type": "stream",
     "text": [
      "Training samples dimensions:  (109560, 28, 28, 1)\n",
      "Testing samples dimensions:  (27390, 28, 28, 1)\n"
     ]
    }
   ],
   "source": [
    "IMG_SIZE = 28\n",
    "trainr_x = np.array(train_x).reshape(-1, IMG_SIZE, IMG_SIZE, 1)\n",
    "testr_x = np.array(test_x).reshape(-1, IMG_SIZE, IMG_SIZE, 1)\n",
    "print(\"Training samples dimensions: \", trainr_x.shape)\n",
    "print(\"Testing samples dimensions: \", testr_x.shape)\n"
   ]
  },
  {
   "cell_type": "markdown",
   "id": "f18fa186",
   "metadata": {},
   "source": [
    "## Creating neural net"
   ]
  },
  {
   "cell_type": "code",
   "execution_count": 33,
   "id": "f4e04fa8",
   "metadata": {},
   "outputs": [],
   "source": [
    "model = Sequential()\n",
    "\n",
    "#First COnvolutional Layer (109560, 28, 28, 1), 28-3+1=26x26\n",
    "model.add(Conv2D(64,(3,3), input_shape = trainr_x.shape[1:],  activation = \"relu\"))\n",
    "model.add(MaxPool2D(pool_size=(2,2)))\n",
    "\n",
    "#Second COnvolutional Layer 26-3+1 = 24x24\n",
    "model.add(Conv2D(64,(3,3),  activation = \"relu\"))\n",
    "model.add(MaxPool2D(pool_size=(2,2)))\n",
    "\n",
    "\n",
    "#Third COnvolutional Layer 24-3+1 = 22x22\n",
    "model.add(Conv2D(64,(3,3), activation = \"relu\"))\n",
    "model.add(MaxPool2D(pool_size=(2,2)))\n",
    "\n",
    "\n",
    "#Fully connected layer 1\n",
    "model.add(Flatten())\n",
    "model.add(Dense(512))\n",
    "model.add(Activation(\"relu\"))\n",
    "\n",
    "#Fully connected layer 2\n",
    "model.add(Flatten())\n",
    "model.add(Dense(256))\n",
    "model.add(Activation(\"relu\"))\n",
    "\n",
    "#Last Fully connected layer\n",
    "model.add(Flatten())\n",
    "model.add(Dense(135))\n",
    "model.add(Activation(\"relu\"))"
   ]
  },
  {
   "cell_type": "code",
   "execution_count": 34,
   "id": "d8e5b7ae",
   "metadata": {},
   "outputs": [
    {
     "name": "stdout",
     "output_type": "stream",
     "text": [
      "Model: \"sequential_3\"\n",
      "_________________________________________________________________\n",
      " Layer (type)                Output Shape              Param #   \n",
      "=================================================================\n",
      " conv2d_5 (Conv2D)           (None, 26, 26, 64)        640       \n",
      "                                                                 \n",
      " max_pooling2d_3 (MaxPooling  (None, 13, 13, 64)       0         \n",
      " 2D)                                                             \n",
      "                                                                 \n",
      " conv2d_6 (Conv2D)           (None, 11, 11, 64)        36928     \n",
      "                                                                 \n",
      " max_pooling2d_4 (MaxPooling  (None, 5, 5, 64)         0         \n",
      " 2D)                                                             \n",
      "                                                                 \n",
      " conv2d_7 (Conv2D)           (None, 3, 3, 64)          36928     \n",
      "                                                                 \n",
      " max_pooling2d_5 (MaxPooling  (None, 1, 1, 64)         0         \n",
      " 2D)                                                             \n",
      "                                                                 \n",
      " flatten_2 (Flatten)         (None, 64)                0         \n",
      "                                                                 \n",
      " dense_1 (Dense)             (None, 512)               33280     \n",
      "                                                                 \n",
      " activation_1 (Activation)   (None, 512)               0         \n",
      "                                                                 \n",
      " flatten_3 (Flatten)         (None, 512)               0         \n",
      "                                                                 \n",
      " dense_2 (Dense)             (None, 256)               131328    \n",
      "                                                                 \n",
      " activation_2 (Activation)   (None, 256)               0         \n",
      "                                                                 \n",
      " flatten_4 (Flatten)         (None, 256)               0         \n",
      "                                                                 \n",
      " dense_3 (Dense)             (None, 135)               34695     \n",
      "                                                                 \n",
      " activation_3 (Activation)   (None, 135)               0         \n",
      "                                                                 \n",
      "=================================================================\n",
      "Total params: 273,799\n",
      "Trainable params: 273,799\n",
      "Non-trainable params: 0\n",
      "_________________________________________________________________\n"
     ]
    }
   ],
   "source": [
    "model.summary()"
   ]
  },
  {
   "cell_type": "code",
   "execution_count": 35,
   "id": "00201c58",
   "metadata": {},
   "outputs": [
    {
     "name": "stdout",
     "output_type": "stream",
     "text": [
      "Total training samples:  109560\n"
     ]
    }
   ],
   "source": [
    "print(\"Total training samples: \", len(trainr_x))"
   ]
  },
  {
   "cell_type": "code",
   "execution_count": 36,
   "id": "ee4b4c8f",
   "metadata": {},
   "outputs": [],
   "source": [
    "model.compile(loss = \"sparse_categorical_crossentropy\", optimizer = \"adam\", metrics = ['accuracy'])"
   ]
  },
  {
   "cell_type": "code",
   "execution_count": 68,
   "id": "78712f66",
   "metadata": {},
   "outputs": [
    {
     "name": "stdout",
     "output_type": "stream",
     "text": [
      "Epoch 1/20\n",
      "2935/2935 [==============================] - 98s 33ms/step - loss: 4.9053 - accuracy: 0.0043 - val_loss: 4.9053 - val_accuracy: 0.0049\n",
      "Epoch 2/20\n",
      "2935/2935 [==============================] - 93s 32ms/step - loss: 4.9053 - accuracy: 0.0043 - val_loss: 4.9053 - val_accuracy: 0.0049\n",
      "Epoch 3/20\n",
      "2935/2935 [==============================] - 80s 27ms/step - loss: 4.9053 - accuracy: 0.0043 - val_loss: 4.9053 - val_accuracy: 0.0049\n",
      "Epoch 4/20\n",
      "2935/2935 [==============================] - 93s 32ms/step - loss: 4.9053 - accuracy: 0.0043 - val_loss: 4.9053 - val_accuracy: 0.0049\n",
      "Epoch 5/20\n",
      "2935/2935 [==============================] - 77s 26ms/step - loss: 4.9053 - accuracy: 0.0043 - val_loss: 4.9053 - val_accuracy: 0.0049\n",
      "Epoch 6/20\n",
      "2935/2935 [==============================] - 78s 27ms/step - loss: 4.9053 - accuracy: 0.0043 - val_loss: 4.9053 - val_accuracy: 0.0049\n",
      "Epoch 7/20\n",
      "2935/2935 [==============================] - 77s 26ms/step - loss: 4.9053 - accuracy: 0.0043 - val_loss: 4.9053 - val_accuracy: 0.0049\n",
      "Epoch 8/20\n",
      "2935/2935 [==============================] - 107s 36ms/step - loss: 4.9053 - accuracy: 0.0043 - val_loss: 4.9053 - val_accuracy: 0.0049\n",
      "Epoch 9/20\n",
      "2935/2935 [==============================] - 79s 27ms/step - loss: 4.9053 - accuracy: 0.0043 - val_loss: 4.9053 - val_accuracy: 0.0049\n",
      "Epoch 10/20\n",
      "2935/2935 [==============================] - 83s 28ms/step - loss: 4.9053 - accuracy: 0.0043 - val_loss: 4.9053 - val_accuracy: 0.0049\n",
      "Epoch 11/20\n",
      "2935/2935 [==============================] - 84s 29ms/step - loss: 4.9053 - accuracy: 0.0043 - val_loss: 4.9053 - val_accuracy: 0.0049\n",
      "Epoch 12/20\n",
      "2935/2935 [==============================] - 76s 26ms/step - loss: 4.9053 - accuracy: 0.0043 - val_loss: 4.9053 - val_accuracy: 0.0049\n",
      "Epoch 13/20\n",
      "2935/2935 [==============================] - 80s 27ms/step - loss: 4.9053 - accuracy: 0.0043 - val_loss: 4.9053 - val_accuracy: 0.0049\n",
      "Epoch 14/20\n",
      "2935/2935 [==============================] - 77s 26ms/step - loss: 4.9053 - accuracy: 0.0043 - val_loss: 4.9053 - val_accuracy: 0.0049\n",
      "Epoch 15/20\n",
      "2935/2935 [==============================] - 78s 27ms/step - loss: 4.9053 - accuracy: 0.0043 - val_loss: 4.9053 - val_accuracy: 0.0049\n",
      "Epoch 16/20\n",
      "2935/2935 [==============================] - 78s 27ms/step - loss: 4.9053 - accuracy: 0.0043 - val_loss: 4.9053 - val_accuracy: 0.0049\n",
      "Epoch 17/20\n",
      "2935/2935 [==============================] - 80s 27ms/step - loss: 4.9053 - accuracy: 0.0043 - val_loss: 4.9053 - val_accuracy: 0.0049\n",
      "Epoch 18/20\n",
      "2935/2935 [==============================] - 84s 29ms/step - loss: 4.9053 - accuracy: 0.0043 - val_loss: 4.9053 - val_accuracy: 0.0049\n",
      "Epoch 19/20\n",
      "2935/2935 [==============================] - 84s 29ms/step - loss: 4.9053 - accuracy: 0.0043 - val_loss: 4.9053 - val_accuracy: 0.0049\n",
      "Epoch 20/20\n",
      "2935/2935 [==============================] - 84s 28ms/step - loss: 4.9053 - accuracy: 0.0043 - val_loss: 4.9053 - val_accuracy: 0.0049\n"
     ]
    },
    {
     "data": {
      "text/plain": [
       "<keras.callbacks.History at 0x1b301eadfd0>"
      ]
     },
     "execution_count": 68,
     "metadata": {},
     "output_type": "execute_result"
    }
   ],
   "source": [
    "model.fit(trainr_x, train_y, epochs = 20, validation_split = 0.14285)"
   ]
  },
  {
   "cell_type": "code",
   "execution_count": 69,
   "id": "804a072d",
   "metadata": {},
   "outputs": [
    {
     "name": "stdout",
     "output_type": "stream",
     "text": [
      "856/856 [==============================] - 6s 7ms/step - loss: 4.9053 - accuracy: 0.0040\n",
      "Test loss:  4.905313491821289\n",
      "Validation accuracy:  0.00401606410741806\n"
     ]
    }
   ],
   "source": [
    "##Evaluating on testing data \n",
    "test_loss, test_acc = model.evaluate(testr_x, test_y)\n",
    "print(\"Test loss: \", test_loss)\n",
    "print(\"Validation accuracy: \", test_acc)"
   ]
  },
  {
   "cell_type": "code",
   "execution_count": 70,
   "id": "d5b08bf4",
   "metadata": {},
   "outputs": [],
   "source": [
    "##predictions\n",
    "predictions = model.predict([testr_x])\n"
   ]
  },
  {
   "cell_type": "code",
   "execution_count": 71,
   "id": "f2554d7a",
   "metadata": {},
   "outputs": [
    {
     "name": "stdout",
     "output_type": "stream",
     "text": [
      "[[0. 0. 0. ... 0. 0. 0.]\n",
      " [0. 0. 0. ... 0. 0. 0.]\n",
      " [0. 0. 0. ... 0. 0. 0.]\n",
      " ...\n",
      " [0. 0. 0. ... 0. 0. 0.]\n",
      " [0. 0. 0. ... 0. 0. 0.]\n",
      " [0. 0. 0. ... 0. 0. 0.]]\n"
     ]
    }
   ],
   "source": [
    "print(predictions)"
   ]
  },
  {
   "cell_type": "code",
   "execution_count": 72,
   "id": "5ec75a4f",
   "metadata": {},
   "outputs": [
    {
     "name": "stdout",
     "output_type": "stream",
     "text": [
      "0\n"
     ]
    }
   ],
   "source": [
    "print(np.argmax(predictions[0]))"
   ]
  },
  {
   "cell_type": "code",
   "execution_count": 73,
   "id": "7a3e6640",
   "metadata": {},
   "outputs": [
    {
     "data": {
      "text/plain": [
       "<matplotlib.image.AxesImage at 0x1b302227f70>"
      ]
     },
     "execution_count": 73,
     "metadata": {},
     "output_type": "execute_result"
    },
    {
     "data": {
      "image/png": "[encoded data removed]",
      "text/plain": [
       "<Figure size 432x288 with 1 Axes>"
      ]
     },
     "metadata": {
      "needs_background": "light"
     },
     "output_type": "display_data"
    }
   ],
   "source": [
    "plt.imshow(test_x[0])"
   ]
  },
  {
   "cell_type": "code",
   "execution_count": 74,
   "id": "ddfa7b5d",
   "metadata": {},
   "outputs": [
    {
     "name": "stdout",
     "output_type": "stream",
     "text": [
      "0\n"
     ]
    }
   ],
   "source": [
    "print(np.argmax(predictions[128]))"
   ]
  },
  {
   "cell_type": "code",
   "execution_count": 75,
   "id": "8cd396c1",
   "metadata": {},
   "outputs": [],
   "source": [
    "img = cv2.imread('2.png')"
   ]
  },
  {
   "cell_type": "code",
   "execution_count": 76,
   "id": "b180df7c",
   "metadata": {},
   "outputs": [
    {
     "data": {
      "text/plain": [
       "<matplotlib.image.AxesImage at 0x1b3021e0dc0>"
      ]
     },
     "execution_count": 76,
     "metadata": {},
     "output_type": "execute_result"
    },
    {
     "data": {
      "image/png": "[encoded data removed]",
      "text/plain": [
       "<Figure size 432x288 with 1 Axes>"
      ]
     },
     "metadata": {
      "needs_background": "light"
     },
     "output_type": "display_data"
    }
   ],
   "source": [
    "plt.imshow(img)"
   ]
  },
  {
   "cell_type": "code",
   "execution_count": 77,
   "id": "da065e62",
   "metadata": {},
   "outputs": [
    {
     "data": {
      "text/plain": [
       "(1296, 2304, 3)"
      ]
     },
     "execution_count": 77,
     "metadata": {},
     "output_type": "execute_result"
    }
   ],
   "source": [
    "img.shape"
   ]
  },
  {
   "cell_type": "code",
   "execution_count": 78,
   "id": "176a67ed",
   "metadata": {},
   "outputs": [],
   "source": [
    "gray = cv2.cvtColor(img, cv2.COLOR_BGR2GRAY)"
   ]
  },
  {
   "cell_type": "code",
   "execution_count": 79,
   "id": "846dcdd6",
   "metadata": {},
   "outputs": [
    {
     "data": {
      "text/plain": [
       "(1296, 2304)"
      ]
     },
     "execution_count": 79,
     "metadata": {},
     "output_type": "execute_result"
    }
   ],
   "source": [
    "gray.shape"
   ]
  },
  {
   "cell_type": "code",
   "execution_count": 80,
   "id": "e6773f02",
   "metadata": {},
   "outputs": [],
   "source": [
    "resized = cv2.resize(gray, (28,28), interpolation = cv2.INTER_AREA)"
   ]
  },
  {
   "cell_type": "code",
   "execution_count": 81,
   "id": "f2fdef95",
   "metadata": {},
   "outputs": [
    {
     "data": {
      "text/plain": [
       "(28, 28)"
      ]
     },
     "execution_count": 81,
     "metadata": {},
     "output_type": "execute_result"
    }
   ],
   "source": [
    "resized.shape"
   ]
  },
  {
   "cell_type": "code",
   "execution_count": 82,
   "id": "cdb6ba52",
   "metadata": {},
   "outputs": [],
   "source": [
    "newimg = tf.keras.utils.normalize(resized, axis =1)"
   ]
  },
  {
   "cell_type": "code",
   "execution_count": 83,
   "id": "999ab864",
   "metadata": {},
   "outputs": [],
   "source": [
    "newimg = np.array(newimg).reshape(-1, IMG_SIZE, IMG_SIZE, 1)"
   ]
  },
  {
   "cell_type": "code",
   "execution_count": 84,
   "id": "97c0c76f",
   "metadata": {},
   "outputs": [
    {
     "data": {
      "text/plain": [
       "(1, 28, 28, 1)"
      ]
     },
     "execution_count": 84,
     "metadata": {},
     "output_type": "execute_result"
    }
   ],
   "source": [
    "newimg.shape"
   ]
  },
  {
   "cell_type": "code",
   "execution_count": 85,
   "id": "c5626ebd",
   "metadata": {},
   "outputs": [],
   "source": [
    "predictions = model.predict(newimg)"
   ]
  },
  {
   "cell_type": "code",
   "execution_count": 86,
   "id": "a7caf839",
   "metadata": {},
   "outputs": [
    {
     "name": "stdout",
     "output_type": "stream",
     "text": [
      "0\n"
     ]
    }
   ],
   "source": [
    "print(np.argmax(predictions))"
   ]
  },
  {
   "cell_type": "code",
   "execution_count": null,
   "id": "5d18207d",
   "metadata": {},
   "outputs": [],
   "source": []
  },
  {
   "cell_type": "code",
   "execution_count": null,
   "id": "89fabadf",
   "metadata": {},
   "outputs": [],
   "source": []
  },
  {
   "cell_type": "code",
   "execution_count": null,
   "id": "56760ac7",
   "metadata": {},
   "outputs": [],
   "source": []
  },
  {
   "cell_type": "code",
   "execution_count": null,
   "id": "d7edcb6e",
   "metadata": {},
   "outputs": [],
   "source": []
  },
  {
   "cell_type": "code",
   "execution_count": null,
   "id": "ca3dc382",
   "metadata": {},
   "outputs": [],
   "source": []
  },
  {
   "cell_type": "code",
   "execution_count": null,
   "id": "5daba820",
   "metadata": {},
   "outputs": [],
   "source": []
  },
  {
   "cell_type": "code",
   "execution_count": null,
   "id": "f89ecde8",
   "metadata": {},
   "outputs": [],
   "source": []
  },
  {
   "cell_type": "code",
   "execution_count": null,
   "id": "94b10563",
   "metadata": {},
   "outputs": [],
   "source": []
  },
  {
   "cell_type": "code",
   "execution_count": null,
   "id": "5ae21f36",
   "metadata": {},
   "outputs": [],
   "source": []
  },
  {
   "cell_type": "code",
   "execution_count": null,
   "id": "193e41d3",
   "metadata": {},
   "outputs": [],
   "source": []
  },
  {
   "cell_type": "code",
   "execution_count": null,
   "id": "5e409f20",
   "metadata": {},
   "outputs": [],
   "source": []
  },
  {
   "cell_type": "code",
   "execution_count": null,
   "id": "99cee9c5",
   "metadata": {},
   "outputs": [],
   "source": []
  },
  {
   "cell_type": "code",
   "execution_count": null,
   "id": "ae2d4265",
   "metadata": {},
   "outputs": [],
   "source": []
  },
  {
   "cell_type": "code",
   "execution_count": null,
   "id": "78369f32",
   "metadata": {},
   "outputs": [],
   "source": []
  }
 ],
 "metadata": {
  "kernelspec": {
   "display_name": "Python 3 (ipykernel)",
   "language": "python",
   "name": "python3"
  },
  "language_info": {
   "codemirror_mode": {
    "name": "ipython",
    "version": 3
   },
   "file_extension": ".py",
   "mimetype": "text/x-python",
   "name": "python",
   "nbconvert_exporter": "python",
   "pygments_lexer": "ipython3",
   "version": "3.9.7"
  }
 },
 "nbformat": 4,
 "nbformat_minor": 5
}
