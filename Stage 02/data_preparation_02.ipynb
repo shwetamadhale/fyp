{
 "cells": [
  {
   "cell_type": "markdown",
   "id": "274343a9",
   "metadata": {},
   "source": [
    "# Libraries\n"
   ]
  },
  {
   "cell_type": "code",
   "execution_count": 6,
   "id": "cf58ca0f",
   "metadata": {},
   "outputs": [
    {
     "name": "stdout",
     "output_type": "stream",
     "text": [
      "Requirement already satisfied: opencv-python in c:\\programdata\\anaconda3\\lib\\site-packages (4.5.5.64)\n",
      "Requirement already satisfied: numpy>=1.19.3 in c:\\programdata\\anaconda3\\lib\\site-packages (from opencv-python) (1.20.3)\n",
      "Note: you may need to restart the kernel to use updated packages.\n"
     ]
    }
   ],
   "source": [
    "pip install opencv-python"
   ]
  },
  {
   "cell_type": "code",
   "execution_count": 7,
   "id": "3dd4d9b8",
   "metadata": {},
   "outputs": [],
   "source": [
    "import numpy as np\n",
    "import pandas as pd\n",
    "import matplotlib.pyplot as ply\n",
    "import cv2\n",
    "import os\n",
    "from os import listdir\n",
    "from os.path import isfile,join\n",
    "from PIL import Image"
   ]
  },
  {
   "cell_type": "markdown",
   "id": "aac13ff5",
   "metadata": {},
   "source": [
    "## Function for loading images"
   ]
  },
  {
   "cell_type": "code",
   "execution_count": 8,
   "id": "ca6d8244",
   "metadata": {},
   "outputs": [],
   "source": [
    "def load_images_from_folder(folder):\n",
    "    train_data = []\n",
    "    for filename in os.listdir(folder):              #get list of all folders\n",
    "        img = cv2.imread(os.path.join(folder, filename), cv2.IMREAD_GRAYSCALE)\n",
    "        img = cv2.bitwise_not(img)\n",
    "        if img is not None:\n",
    "            _, thresh = cv2.threshold(img, 127, 255, cv2.THRESH_BINARY) #remove background and convert image to binary\n",
    "            ctrs,_ = cv2.findContours(thresh, cv2.RETR_EXTERNAL, cv2.CHAIN_APPROX_NONE) #contours and parent pt; return all boundary points\n",
    "            cnt = sorted(ctrs, key = lambda ctr:cv2.boundingRect(ctr)[0]) #bounding box/rect\n",
    "            #for max dimension of rect/block\n",
    "            w = int(28)\n",
    "            h = int(28)\n",
    "            maxi = 0\n",
    "            for c in cnt:\n",
    "                x, y, w, h = cv2.boundingRect(c)\n",
    "                maxi = max(w*h, maxi)\n",
    "                if maxi == w*h:\n",
    "                    x_max = x\n",
    "                    y_max = y\n",
    "                    w_max = w\n",
    "                    h_max = h\n",
    "            #cropping accf to block\n",
    "            im_crop = thresh[y_max: y_max + h + 10, x_max: x_max + w_max + 10]\n",
    "            \n",
    "            #reszing image\n",
    "            im_resize = cv2.resize(im_crop, (28,28))\n",
    "            im_resize = np.reshape(im_resize, [784,1])\n",
    "            \n",
    "            #append to training data\n",
    "            train_data.append(im_resize)\n",
    "        \n",
    "    return train_data"
   ]
  },
  {
   "cell_type": "code",
   "execution_count": 9,
   "id": "c9249248",
   "metadata": {},
   "outputs": [],
   "source": [
    "data = []\n"
   ]
  },
  {
   "cell_type": "markdown",
   "id": "14742111",
   "metadata": {},
   "source": [
    "# Loading individual symbols"
   ]
  },
  {
   "cell_type": "markdown",
   "id": "1117b3b1",
   "metadata": {},
   "source": [
    "## Digits"
   ]
  },
  {
   "cell_type": "code",
   "execution_count": 10,
   "id": "7c8bce21",
   "metadata": {},
   "outputs": [
    {
     "name": "stdout",
     "output_type": "stream",
     "text": [
      "595\n"
     ]
    }
   ],
   "source": [
    "# 0\n",
    "data = load_images_from_folder(\"C:/Users/madha/Documents/BE Project/Dataset/0_Digits/0\")\n",
    "len(data)\n",
    "for i in range(0, len(data)):\n",
    "    data[i] = np.append(data[i],[\"0\"])\n",
    "print(len(data))"
   ]
  },
  {
   "cell_type": "code",
   "execution_count": 11,
   "id": "7025d500",
   "metadata": {},
   "outputs": [
    {
     "name": "stdout",
     "output_type": "stream",
     "text": [
      "1157\n"
     ]
    }
   ],
   "source": [
    "# 1\n",
    "data0 = load_images_from_folder(\"C:/Users/madha/Documents/BE Project/Dataset/0_Digits/1\")\n",
    "len(data)\n",
    "for i in range(0, len(data0)):\n",
    "    data0[i] = np.append(data0[i],[\"1\"])\n",
    "data = np.concatenate((data, data0))\n",
    "print(len(data))"
   ]
  },
  {
   "cell_type": "code",
   "execution_count": 12,
   "id": "201ef7d4",
   "metadata": {},
   "outputs": [
    {
     "name": "stdout",
     "output_type": "stream",
     "text": [
      "1590\n"
     ]
    }
   ],
   "source": [
    "# 2\n",
    "data1 = load_images_from_folder(\"C:/Users/madha/Documents/BE Project/Dataset/0_Digits/2\")\n",
    "len(data)\n",
    "for i in range(0, len(data1)):\n",
    "    data1[i] = np.append(data1[i],[\"2\"])\n",
    "data = np.concatenate((data, data1))\n",
    "print(len(data))"
   ]
  },
  {
   "cell_type": "code",
   "execution_count": 13,
   "id": "fa7a16b3",
   "metadata": {},
   "outputs": [
    {
     "name": "stdout",
     "output_type": "stream",
     "text": [
      "2131\n"
     ]
    }
   ],
   "source": [
    "# 3\n",
    "data2 = load_images_from_folder(\"C:/Users/madha/Documents/BE Project/Dataset/0_Digits/3\")\n",
    "len(data)\n",
    "for i in range(0, len(data2)):\n",
    "    data2[i] = np.append(data2[i],[\"3\"])\n",
    "data = np.concatenate((data, data2))\n",
    "print(len(data))"
   ]
  },
  {
   "cell_type": "code",
   "execution_count": 14,
   "id": "79231505",
   "metadata": {},
   "outputs": [
    {
     "name": "stdout",
     "output_type": "stream",
     "text": [
      "2657\n"
     ]
    }
   ],
   "source": [
    "# 4\n",
    "data3 = load_images_from_folder(\"C:/Users/madha/Documents/BE Project/Dataset/0_Digits/4\")\n",
    "len(data)\n",
    "for i in range(0, len(data3)):\n",
    "    data3[i] = np.append(data3[i],[\"4\"])\n",
    "data = np.concatenate((data, data3))\n",
    "print(len(data))"
   ]
  },
  {
   "cell_type": "code",
   "execution_count": 15,
   "id": "c19b90af",
   "metadata": {},
   "outputs": [
    {
     "name": "stdout",
     "output_type": "stream",
     "text": [
      "3090\n"
     ]
    }
   ],
   "source": [
    "# 5\n",
    "data4 = load_images_from_folder(\"C:/Users/madha/Documents/BE Project/Dataset/0_Digits/5\")\n",
    "len(data)\n",
    "for i in range(0, len(data4)):\n",
    "    data4[i] = np.append(data4[i],[\"5\"])\n",
    "data = np.concatenate((data, data4))\n",
    "print(len(data))"
   ]
  },
  {
   "cell_type": "code",
   "execution_count": 16,
   "id": "2ae8dc53",
   "metadata": {},
   "outputs": [
    {
     "name": "stdout",
     "output_type": "stream",
     "text": [
      "3671\n"
     ]
    }
   ],
   "source": [
    "# 6\n",
    "data5 = load_images_from_folder(\"C:/Users/madha/Documents/BE Project/Dataset/0_Digits/6\")\n",
    "len(data)\n",
    "for i in range(0, len(data5)):\n",
    "    data5[i] = np.append(data5[i],[\"6\"])\n",
    "data = np.concatenate((data, data5))\n",
    "print(len(data))"
   ]
  },
  {
   "cell_type": "code",
   "execution_count": 17,
   "id": "e7a28c59",
   "metadata": {},
   "outputs": [
    {
     "name": "stdout",
     "output_type": "stream",
     "text": [
      "4204\n"
     ]
    }
   ],
   "source": [
    "# 7\n",
    "data6 = load_images_from_folder(\"C:/Users/madha/Documents/BE Project/Dataset/0_Digits/7\")\n",
    "len(data)\n",
    "for i in range(0, len(data6)):\n",
    "    data6[i] = np.append(data6[i],[\"7\"])\n",
    "data = np.concatenate((data, data6))\n",
    "print(len(data))"
   ]
  },
  {
   "cell_type": "code",
   "execution_count": 18,
   "id": "ab695aa4",
   "metadata": {},
   "outputs": [
    {
     "name": "stdout",
     "output_type": "stream",
     "text": [
      "4758\n"
     ]
    }
   ],
   "source": [
    "# 8\n",
    "data7 = load_images_from_folder(\"C:/Users/madha/Documents/BE Project/Dataset/0_Digits/8\")\n",
    "len(data)\n",
    "for i in range(0, len(data7)):\n",
    "    data7[i] = np.append(data7[i],[\"8\"])\n",
    "data = np.concatenate((data, data7))\n",
    "print(len(data))"
   ]
  },
  {
   "cell_type": "code",
   "execution_count": 19,
   "id": "caea7f78",
   "metadata": {},
   "outputs": [
    {
     "name": "stdout",
     "output_type": "stream",
     "text": [
      "5304\n"
     ]
    }
   ],
   "source": [
    "# 9\n",
    "data8 = load_images_from_folder(\"C:/Users/madha/Documents/BE Project/Dataset/0_Digits/9\")\n",
    "len(data)\n",
    "for i in range(0, len(data8)):\n",
    "    data8[i] = np.append(data8[i],[\"9\"])\n",
    "data = np.concatenate((data, data8))\n",
    "print(len(data))"
   ]
  },
  {
   "cell_type": "markdown",
   "id": "e9c68dc3",
   "metadata": {},
   "source": [
    "### Math Operators"
   ]
  },
  {
   "cell_type": "code",
   "execution_count": 20,
   "id": "221bb18c",
   "metadata": {},
   "outputs": [
    {
     "name": "stdout",
     "output_type": "stream",
     "text": [
      "5900\n"
     ]
    }
   ],
   "source": [
    "# + ≅ 10\n",
    "data9 = load_images_from_folder(\"C:/Users/madha/Documents/BE Project/Dataset/10_Math_Operators/10_addition\")\n",
    "len(data)\n",
    "for i in range(0, len(data9)):\n",
    "    data9[i] = np.append(data9[i],[\"10\"])\n",
    "data = np.concatenate((data, data9))\n",
    "print(len(data))"
   ]
  },
  {
   "cell_type": "code",
   "execution_count": 21,
   "id": "22486c9e",
   "metadata": {},
   "outputs": [
    {
     "name": "stdout",
     "output_type": "stream",
     "text": [
      "6555\n"
     ]
    }
   ],
   "source": [
    "# - ≅ 11\n",
    "data10 = load_images_from_folder(\"C:/Users/madha/Documents/BE Project/Dataset/10_Math_Operators/11_subtraction\")\n",
    "len(data)\n",
    "for i in range(0, len(data10)):\n",
    "    data10[i] = np.append(data10[i],[\"11\"])\n",
    "data = np.concatenate((data, data10))\n",
    "print(len(data))"
   ]
  },
  {
   "cell_type": "code",
   "execution_count": 22,
   "id": "59aa26a4",
   "metadata": {},
   "outputs": [
    {
     "name": "stdout",
     "output_type": "stream",
     "text": [
      "7132\n"
     ]
    }
   ],
   "source": [
    "# x ≅ 12\n",
    "data11 = load_images_from_folder(\"C:/Users/madha/Documents/BE Project/Dataset/10_Math_Operators/12_multiplication\")\n",
    "len(data)\n",
    "for i in range(0, len(data11)):\n",
    "    data11[i] = np.append(data11[i],[\"12\"])\n",
    "data = np.concatenate((data, data11))\n",
    "print(len(data))"
   ]
  },
  {
   "cell_type": "code",
   "execution_count": 23,
   "id": "939d29f0",
   "metadata": {},
   "outputs": [
    {
     "name": "stdout",
     "output_type": "stream",
     "text": [
      "7750\n"
     ]
    }
   ],
   "source": [
    "# ÷ ≅ 13\n",
    "data12 = load_images_from_folder(\"C:/Users/madha/Documents/BE Project/Dataset/10_Math_Operators/13_division\")\n",
    "len(data)\n",
    "for i in range(0, len(data12)):\n",
    "    data12[i] = np.append(data12[i],[\"13\"])\n",
    "data = np.concatenate((data, data12))\n",
    "print(len(data))"
   ]
  },
  {
   "cell_type": "markdown",
   "id": "4629a8b0",
   "metadata": {},
   "source": [
    "### Parentheses "
   ]
  },
  {
   "cell_type": "code",
   "execution_count": 24,
   "id": "b689a486",
   "metadata": {},
   "outputs": [
    {
     "name": "stdout",
     "output_type": "stream",
     "text": [
      "22390\n"
     ]
    }
   ],
   "source": [
    "# ( ≅ 14\n",
    "data13 = load_images_from_folder(\"C:/Users/madha/Documents/BE Project/Dataset/14_Parentheses/14_(\")\n",
    "len(data)\n",
    "for i in range(0, len(data13)):\n",
    "    data13[i] = np.append(data13[i],[\"14\"])\n",
    "data = np.concatenate((data, data13))\n",
    "print(len(data))"
   ]
  },
  {
   "cell_type": "code",
   "execution_count": 25,
   "id": "31f05df2",
   "metadata": {},
   "outputs": [
    {
     "name": "stdout",
     "output_type": "stream",
     "text": [
      "37104\n"
     ]
    }
   ],
   "source": [
    "# ) ≅ 15\n",
    "data14 = load_images_from_folder(\"C:/Users/madha/Documents/BE Project/Dataset/14_Parentheses/15_)\")\n",
    "len(data)\n",
    "for i in range(0, len(data14)):\n",
    "    data14[i] = np.append(data14[i],[\"15\"])\n",
    "data = np.concatenate((data, data14))\n",
    "print(len(data))"
   ]
  },
  {
   "cell_type": "code",
   "execution_count": 26,
   "id": "f58f32fd",
   "metadata": {},
   "outputs": [
    {
     "name": "stdout",
     "output_type": "stream",
     "text": [
      "37993\n"
     ]
    }
   ],
   "source": [
    "# [ ≅ 16\n",
    "data15 = load_images_from_folder(\"C:/Users/madha/Documents/BE Project/Dataset/14_Parentheses/16_[\")\n",
    "len(data)\n",
    "for i in range(0, len(data15)):\n",
    "    data15[i] = np.append(data15[i],[\"16\"])\n",
    "data = np.concatenate((data, data15))\n",
    "print(len(data))"
   ]
  },
  {
   "cell_type": "code",
   "execution_count": 27,
   "id": "42e3bf7d",
   "metadata": {},
   "outputs": [
    {
     "name": "stdout",
     "output_type": "stream",
     "text": [
      "38877\n"
     ]
    }
   ],
   "source": [
    "# ] ≅ 17\n",
    "data16 = load_images_from_folder(\"C:/Users/madha/Documents/BE Project/Dataset/14_Parentheses/17_]\")\n",
    "len(data)\n",
    "for i in range(0, len(data16)):\n",
    "    data16[i] = np.append(data16[i],[\"17\"])\n",
    "data = np.concatenate((data, data16))\n",
    "print(len(data))"
   ]
  },
  {
   "cell_type": "code",
   "execution_count": 28,
   "id": "b4730b1c",
   "metadata": {},
   "outputs": [
    {
     "name": "stdout",
     "output_type": "stream",
     "text": [
      "39326\n"
     ]
    }
   ],
   "source": [
    "# { ≅ 18\n",
    "data17 = load_images_from_folder(\"C:/Users/madha/Documents/BE Project/Dataset/14_Parentheses/18_{\")\n",
    "len(data)\n",
    "for i in range(0, len(data17)):\n",
    "    data17[i] = np.append(data17[i],[\"18\"])\n",
    "data = np.concatenate((data, data17))\n",
    "print(len(data))"
   ]
  },
  {
   "cell_type": "code",
   "execution_count": 29,
   "id": "30c176d6",
   "metadata": {},
   "outputs": [
    {
     "name": "stdout",
     "output_type": "stream",
     "text": [
      "39780\n"
     ]
    }
   ],
   "source": [
    "# } ≅ 19\n",
    "data18 = load_images_from_folder(\"C:/Users/madha/Documents/BE Project/Dataset/14_Parentheses/19_}\")\n",
    "len(data)\n",
    "for i in range(0, len(data18)):\n",
    "    data18[i] = np.append(data18[i],[\"19\"])\n",
    "data = np.concatenate((data, data18))\n",
    "print(len(data))"
   ]
  },
  {
   "cell_type": "markdown",
   "id": "4712623d",
   "metadata": {},
   "source": [
    "### Lowercase Alphabets "
   ]
  },
  {
   "cell_type": "code",
   "execution_count": 30,
   "id": "9c0a9d2a",
   "metadata": {},
   "outputs": [
    {
     "name": "stdout",
     "output_type": "stream",
     "text": [
      "41999\n"
     ]
    }
   ],
   "source": [
    "# a ≅ 20\n",
    "data19 = load_images_from_folder(\"C:/Users/madha/Documents/BE Project/Dataset/20_Alphabets_Lower/20_a\")\n",
    "len(data)\n",
    "for i in range(0, len(data19)):\n",
    "    data19[i] = np.append(data19[i],[\"20\"])\n",
    "data = np.concatenate((data, data19))\n",
    "print(len(data))"
   ]
  },
  {
   "cell_type": "code",
   "execution_count": 31,
   "id": "f1b2111f",
   "metadata": {},
   "outputs": [
    {
     "name": "stdout",
     "output_type": "stream",
     "text": [
      "42623\n"
     ]
    }
   ],
   "source": [
    "# b ≅ 21\n",
    "data20 = load_images_from_folder(\"C:/Users/madha/Documents/BE Project/Dataset/20_Alphabets_Lower/21_b\")\n",
    "len(data)\n",
    "for i in range(0, len(data20)):\n",
    "    data20[i] = np.append(data20[i],[\"21\"])\n",
    "data = np.concatenate((data, data20))\n",
    "print(len(data))"
   ]
  },
  {
   "cell_type": "code",
   "execution_count": 32,
   "id": "c3a53ea6",
   "metadata": {},
   "outputs": [
    {
     "name": "stdout",
     "output_type": "stream",
     "text": [
      "43503\n"
     ]
    }
   ],
   "source": [
    "# c ≅ 22\n",
    "data21 = load_images_from_folder(\"C:/Users/madha/Documents/BE Project/Dataset/20_Alphabets_Lower/22_c\")\n",
    "len(data)\n",
    "for i in range(0, len(data21)):\n",
    "    data21[i] = np.append(data21[i],[\"22\"])\n",
    "data = np.concatenate((data, data21))\n",
    "print(len(data))"
   ]
  },
  {
   "cell_type": "code",
   "execution_count": 33,
   "id": "33f9716d",
   "metadata": {},
   "outputs": [
    {
     "name": "stdout",
     "output_type": "stream",
     "text": [
      "44577\n"
     ]
    }
   ],
   "source": [
    "# d ≅ 23\n",
    "data22 = load_images_from_folder(\"C:/Users/madha/Documents/BE Project/Dataset/20_Alphabets_Lower/23_d\")\n",
    "len(data)\n",
    "for i in range(0, len(data22)):\n",
    "    data22[i] = np.append(data22[i],[\"23\"])\n",
    "data = np.concatenate((data, data22))\n",
    "print(len(data))"
   ]
  },
  {
   "cell_type": "code",
   "execution_count": 34,
   "id": "b12be32f",
   "metadata": {},
   "outputs": [
    {
     "name": "stdout",
     "output_type": "stream",
     "text": [
      "47539\n"
     ]
    }
   ],
   "source": [
    "# e ≅ 24\n",
    "data23 = load_images_from_folder(\"C:/Users/madha/Documents/BE Project/Dataset/20_Alphabets_Lower/24_e\")\n",
    "len(data)\n",
    "for i in range(0, len(data23)):\n",
    "    data23[i] = np.append(data23[i],[\"24\"])\n",
    "data = np.concatenate((data, data23))\n",
    "print(len(data))"
   ]
  },
  {
   "cell_type": "code",
   "execution_count": 35,
   "id": "1518b8d2",
   "metadata": {},
   "outputs": [
    {
     "name": "stdout",
     "output_type": "stream",
     "text": [
      "48147\n"
     ]
    }
   ],
   "source": [
    "# f ≅ 25\n",
    "data24 = load_images_from_folder(\"C:/Users/madha/Documents/BE Project/Dataset/20_Alphabets_Lower/25_f\")\n",
    "len(data)\n",
    "for i in range(0, len(data24)):\n",
    "    data24[i] = np.append(data24[i],[\"25\"])\n",
    "data = np.concatenate((data, data24))\n",
    "print(len(data))"
   ]
  },
  {
   "cell_type": "code",
   "execution_count": 36,
   "id": "912c42a0",
   "metadata": {},
   "outputs": [
    {
     "name": "stdout",
     "output_type": "stream",
     "text": [
      "48907\n"
     ]
    }
   ],
   "source": [
    "# g ≅ 26\n",
    "data25 = load_images_from_folder(\"C:/Users/madha/Documents/BE Project/Dataset/20_Alphabets_Lower/26_g\")\n",
    "len(data)\n",
    "for i in range(0, len(data25)):\n",
    "    data25[i] = np.append(data25[i],[\"26\"])\n",
    "data = np.concatenate((data, data25))\n",
    "print(len(data))"
   ]
  },
  {
   "cell_type": "code",
   "execution_count": 37,
   "id": "4ddb8ad2",
   "metadata": {},
   "outputs": [
    {
     "name": "stdout",
     "output_type": "stream",
     "text": [
      "49897\n"
     ]
    }
   ],
   "source": [
    "# h ≅ 27\n",
    "data26 = load_images_from_folder(\"C:/Users/madha/Documents/BE Project/Dataset/20_Alphabets_Lower/27_h\")\n",
    "len(data)\n",
    "for i in range(0, len(data26)):\n",
    "    data26[i] = np.append(data26[i],[\"27\"])\n",
    "data = np.concatenate((data, data26))\n",
    "print(len(data))"
   ]
  },
  {
   "cell_type": "code",
   "execution_count": 38,
   "id": "594c1be5",
   "metadata": {},
   "outputs": [
    {
     "name": "stdout",
     "output_type": "stream",
     "text": [
      "51932\n"
     ]
    }
   ],
   "source": [
    "# i ≅ 28\n",
    "data27 = load_images_from_folder(\"C:/Users/madha/Documents/BE Project/Dataset/20_Alphabets_Lower/28_i\")\n",
    "len(data)\n",
    "for i in range(0, len(data27)):\n",
    "    data27[i] = np.append(data27[i],[\"28\"])\n",
    "data = np.concatenate((data, data27))\n",
    "print(len(data))"
   ]
  },
  {
   "cell_type": "code",
   "execution_count": 39,
   "id": "99ee2b32",
   "metadata": {},
   "outputs": [
    {
     "name": "stdout",
     "output_type": "stream",
     "text": [
      "52359\n"
     ]
    }
   ],
   "source": [
    "# j ≅ 29\n",
    "data28 = load_images_from_folder(\"C:/Users/madha/Documents/BE Project/Dataset/20_Alphabets_Lower/29_j\")\n",
    "len(data)\n",
    "for i in range(0, len(data28)):\n",
    "    data28[i] = np.append(data28[i],[\"29\"])\n",
    "data = np.concatenate((data, data28))\n",
    "print(len(data))"
   ]
  },
  {
   "cell_type": "code",
   "execution_count": 40,
   "id": "99e72378",
   "metadata": {},
   "outputs": [
    {
     "name": "stdout",
     "output_type": "stream",
     "text": [
      "52916\n"
     ]
    }
   ],
   "source": [
    "# k ≅ 30\n",
    "data29 = load_images_from_folder(\"C:/Users/madha/Documents/BE Project/Dataset/20_Alphabets_Lower/30_k\")\n",
    "len(data)\n",
    "for i in range(0, len(data29)):\n",
    "    data29[i] = np.append(data29[i],[\"30\"])\n",
    "data = np.concatenate((data, data29))\n",
    "print(len(data))"
   ]
  },
  {
   "cell_type": "code",
   "execution_count": 41,
   "id": "85c57ad0",
   "metadata": {},
   "outputs": [
    {
     "name": "stdout",
     "output_type": "stream",
     "text": [
      "54331\n"
     ]
    }
   ],
   "source": [
    "# l ≅ 31\n",
    "data30 = load_images_from_folder(\"C:/Users/madha/Documents/BE Project/Dataset/20_Alphabets_Lower/31_l\")\n",
    "len(data)\n",
    "for i in range(0, len(data30)):\n",
    "    data30[i] = np.append(data30[i],[\"31\"])\n",
    "data = np.concatenate((data, data30))\n",
    "print(len(data))"
   ]
  },
  {
   "cell_type": "code",
   "execution_count": 42,
   "id": "c891759f",
   "metadata": {},
   "outputs": [
    {
     "name": "stdout",
     "output_type": "stream",
     "text": [
      "55210\n"
     ]
    }
   ],
   "source": [
    "# m ≅ 32\n",
    "data31 = load_images_from_folder(\"C:/Users/madha/Documents/BE Project/Dataset/20_Alphabets_Lower/32_m\")\n",
    "len(data)\n",
    "for i in range(0, len(data31)):\n",
    "    data31[i] = np.append(data31[i],[\"32\"])\n",
    "data = np.concatenate((data, data31))\n",
    "print(len(data))"
   ]
  },
  {
   "cell_type": "code",
   "execution_count": 43,
   "id": "b560918c",
   "metadata": {},
   "outputs": [
    {
     "name": "stdout",
     "output_type": "stream",
     "text": [
      "57116\n"
     ]
    }
   ],
   "source": [
    "# n ≅ 33\n",
    "data32 = load_images_from_folder(\"C:/Users/madha/Documents/BE Project/Dataset/20_Alphabets_Lower/33_n\")\n",
    "len(data)\n",
    "for i in range(0, len(data32)):\n",
    "    data32[i] = np.append(data32[i],[\"33\"])\n",
    "data = np.concatenate((data, data32))\n",
    "print(len(data))"
   ]
  },
  {
   "cell_type": "code",
   "execution_count": 44,
   "id": "299e3d79",
   "metadata": {},
   "outputs": [
    {
     "name": "stdout",
     "output_type": "stream",
     "text": [
      "59164\n"
     ]
    }
   ],
   "source": [
    "# o ≅ 34\n",
    "data33 = load_images_from_folder(\"C:/Users/madha/Documents/BE Project/Dataset/20_Alphabets_Lower/34_o\")\n",
    "len(data)\n",
    "for i in range(0, len(data33)):\n",
    "    data33[i] = np.append(data33[i],[\"34\"])\n",
    "data = np.concatenate((data, data33))\n",
    "print(len(data))"
   ]
  },
  {
   "cell_type": "code",
   "execution_count": 45,
   "id": "061f5f31",
   "metadata": {},
   "outputs": [
    {
     "name": "stdout",
     "output_type": "stream",
     "text": [
      "59950\n"
     ]
    }
   ],
   "source": [
    "# p ≅ 35\n",
    "data34 = load_images_from_folder(\"C:/Users/madha/Documents/BE Project/Dataset/20_Alphabets_Lower/35_p\")\n",
    "len(data)\n",
    "for i in range(0, len(data34)):\n",
    "    data34[i] = np.append(data34[i],[\"35\"])\n",
    "data = np.concatenate((data, data34))\n",
    "print(len(data))"
   ]
  },
  {
   "cell_type": "code",
   "execution_count": 46,
   "id": "b55d874e",
   "metadata": {},
   "outputs": [
    {
     "name": "stdout",
     "output_type": "stream",
     "text": [
      "60377\n"
     ]
    }
   ],
   "source": [
    "# q ≅ 36\n",
    "data35 = load_images_from_folder(\"C:/Users/madha/Documents/BE Project/Dataset/20_Alphabets_Lower/36_q\")\n",
    "len(data)\n",
    "for i in range(0, len(data35)):\n",
    "    data35[i] = np.append(data35[i],[\"36\"])\n",
    "data = np.concatenate((data, data35))\n",
    "print(len(data))"
   ]
  },
  {
   "cell_type": "code",
   "execution_count": 47,
   "id": "28ce5927",
   "metadata": {},
   "outputs": [
    {
     "name": "stdout",
     "output_type": "stream",
     "text": [
      "62085\n"
     ]
    }
   ],
   "source": [
    "# r ≅ 37\n",
    "data36 = load_images_from_folder(\"C:/Users/madha/Documents/BE Project/Dataset/20_Alphabets_Lower/37_r\")\n",
    "len(data)\n",
    "for i in range(0, len(data36)):\n",
    "    data36[i] = np.append(data36[i],[\"37\"])\n",
    "data = np.concatenate((data, data36))\n",
    "print(len(data))"
   ]
  },
  {
   "cell_type": "code",
   "execution_count": 48,
   "id": "6c71ce48",
   "metadata": {},
   "outputs": [
    {
     "name": "stdout",
     "output_type": "stream",
     "text": [
      "63642\n"
     ]
    }
   ],
   "source": [
    "# s ≅ 38\n",
    "data37 = load_images_from_folder(\"C:/Users/madha/Documents/BE Project/Dataset/20_Alphabets_Lower/38_s\")\n",
    "len(data)\n",
    "for i in range(0, len(data37)):\n",
    "    data37[i] = np.append(data37[i],[\"38\"])\n",
    "data = np.concatenate((data, data37))\n",
    "print(len(data))"
   ]
  },
  {
   "cell_type": "code",
   "execution_count": 49,
   "id": "69b0db6e",
   "metadata": {},
   "outputs": [
    {
     "name": "stdout",
     "output_type": "stream",
     "text": [
      "65423\n"
     ]
    }
   ],
   "source": [
    "# t ≅ 39\n",
    "data38 = load_images_from_folder(\"C:/Users/madha/Documents/BE Project/Dataset/20_Alphabets_Lower/39_t\")\n",
    "len(data)\n",
    "for i in range(0, len(data38)):\n",
    "    data38[i] = np.append(data38[i],[\"39\"])\n",
    "data = np.concatenate((data, data38))\n",
    "print(len(data))"
   ]
  },
  {
   "cell_type": "code",
   "execution_count": 50,
   "id": "6e5f94d5",
   "metadata": {},
   "outputs": [
    {
     "name": "stdout",
     "output_type": "stream",
     "text": [
      "66742\n"
     ]
    }
   ],
   "source": [
    "# u ≅ 40\n",
    "data39 = load_images_from_folder(\"C:/Users/madha/Documents/BE Project/Dataset/20_Alphabets_Lower/40_u\")\n",
    "len(data)\n",
    "for i in range(0, len(data39)):\n",
    "    data39[i] = np.append(data39[i],[\"40\"])\n",
    "data = np.concatenate((data, data39))\n",
    "print(len(data))"
   ]
  },
  {
   "cell_type": "code",
   "execution_count": 51,
   "id": "05b5a9b3",
   "metadata": {},
   "outputs": [
    {
     "name": "stdout",
     "output_type": "stream",
     "text": [
      "67297\n"
     ]
    }
   ],
   "source": [
    "# v ≅ 41\n",
    "data40 = load_images_from_folder(\"C:/Users/madha/Documents/BE Project/Dataset/20_Alphabets_Lower/41_v\")\n",
    "len(data)\n",
    "for i in range(0, len(data40)):\n",
    "    data40[i] = np.append(data40[i],[\"41\"])\n",
    "data = np.concatenate((data, data40))\n",
    "print(len(data))"
   ]
  },
  {
   "cell_type": "code",
   "execution_count": 52,
   "id": "02a13751",
   "metadata": {},
   "outputs": [
    {
     "name": "stdout",
     "output_type": "stream",
     "text": [
      "67977\n"
     ]
    }
   ],
   "source": [
    "# w ≅ 42\n",
    "data41 = load_images_from_folder(\"C:/Users/madha/Documents/BE Project/Dataset/20_Alphabets_Lower/42_w\")\n",
    "len(data)\n",
    "for i in range(0, len(data41)):\n",
    "    data41[i] = np.append(data41[i],[\"42\"])\n",
    "data = np.concatenate((data, data41))\n",
    "print(len(data))"
   ]
  },
  {
   "cell_type": "code",
   "execution_count": 53,
   "id": "6197ce91",
   "metadata": {},
   "outputs": [
    {
     "name": "stdout",
     "output_type": "stream",
     "text": [
      "68440\n"
     ]
    }
   ],
   "source": [
    "# x ≅ 43\n",
    "data42 = load_images_from_folder(\"C:/Users/madha/Documents/BE Project/Dataset/20_Alphabets_Lower/43_x\")\n",
    "len(data)\n",
    "for i in range(0, len(data42)):\n",
    "    data42[i] = np.append(data42[i],[\"43\"])\n",
    "data = np.concatenate((data, data42))\n",
    "print(len(data))"
   ]
  },
  {
   "cell_type": "code",
   "execution_count": 54,
   "id": "6b406914",
   "metadata": {},
   "outputs": [
    {
     "name": "stdout",
     "output_type": "stream",
     "text": [
      "69120\n"
     ]
    }
   ],
   "source": [
    "# y ≅ 44\n",
    "data43 = load_images_from_folder(\"C:/Users/madha/Documents/BE Project/Dataset/20_Alphabets_Lower/44_y\")\n",
    "len(data)\n",
    "for i in range(0, len(data43)):\n",
    "    data43[i] = np.append(data43[i],[\"44\"])\n",
    "data = np.concatenate((data, data43))\n",
    "print(len(data))"
   ]
  },
  {
   "cell_type": "code",
   "execution_count": 55,
   "id": "44e88835",
   "metadata": {},
   "outputs": [
    {
     "name": "stdout",
     "output_type": "stream",
     "text": [
      "69625\n"
     ]
    }
   ],
   "source": [
    "# z ≅ 45\n",
    "data44 = load_images_from_folder(\"C:/Users/madha/Documents/BE Project/Dataset/20_Alphabets_Lower/45_z\")\n",
    "len(data)\n",
    "for i in range(0, len(data44)):\n",
    "    data44[i] = np.append(data44[i],[\"45\"])\n",
    "data = np.concatenate((data, data44))\n",
    "print(len(data))"
   ]
  },
  {
   "cell_type": "markdown",
   "id": "d9f24793",
   "metadata": {},
   "source": [
    "### Uppercase Alphabets "
   ]
  },
  {
   "cell_type": "code",
   "execution_count": 56,
   "id": "06469240",
   "metadata": {},
   "outputs": [
    {
     "name": "stdout",
     "output_type": "stream",
     "text": [
      "70548\n"
     ]
    }
   ],
   "source": [
    "# A ≅ 46\n",
    "data45 = load_images_from_folder(\"C:/Users/madha/Documents/BE Project/Dataset/46_Alphabets_Upper/46_A\")\n",
    "len(data)\n",
    "for i in range(0, len(data45)):\n",
    "    data45[i] = np.append(data45[i],[\"46\"])\n",
    "data = np.concatenate((data, data45))\n",
    "print(len(data))"
   ]
  },
  {
   "cell_type": "code",
   "execution_count": 57,
   "id": "b67455c4",
   "metadata": {},
   "outputs": [
    {
     "name": "stdout",
     "output_type": "stream",
     "text": [
      "71053\n"
     ]
    }
   ],
   "source": [
    "# B ≅ 47\n",
    "data46 = load_images_from_folder(\"C:/Users/madha/Documents/BE Project/Dataset/46_Alphabets_Upper/47_B\")\n",
    "len(data)\n",
    "for i in range(0, len(data46)):\n",
    "    data46[i] = np.append(data46[i],[\"47\"])\n",
    "data = np.concatenate((data, data46))\n",
    "print(len(data))"
   ]
  },
  {
   "cell_type": "code",
   "execution_count": 58,
   "id": "f4d2b958",
   "metadata": {},
   "outputs": [
    {
     "name": "stdout",
     "output_type": "stream",
     "text": [
      "71697\n"
     ]
    }
   ],
   "source": [
    "# C ≅ 48\n",
    "data47 = load_images_from_folder(\"C:/Users/madha/Documents/BE Project/Dataset/46_Alphabets_Upper/48_C\")\n",
    "len(data)\n",
    "for i in range(0, len(data47)):\n",
    "    data47[i] = np.append(data47[i],[\"48\"])\n",
    "data = np.concatenate((data, data47))\n",
    "print(len(data))"
   ]
  },
  {
   "cell_type": "code",
   "execution_count": 59,
   "id": "820a0a06",
   "metadata": {},
   "outputs": [
    {
     "name": "stdout",
     "output_type": "stream",
     "text": [
      "72250\n"
     ]
    }
   ],
   "source": [
    "# D ≅ 49\n",
    "data48 = load_images_from_folder(\"C:/Users/madha/Documents/BE Project/Dataset/46_Alphabets_Upper/49_D\")\n",
    "len(data)\n",
    "for i in range(0, len(data48)):\n",
    "    data48[i] = np.append(data48[i],[\"49\"])\n",
    "data = np.concatenate((data, data48))\n",
    "print(len(data))"
   ]
  },
  {
   "cell_type": "code",
   "execution_count": 60,
   "id": "f3c84c5a",
   "metadata": {},
   "outputs": [
    {
     "name": "stdout",
     "output_type": "stream",
     "text": [
      "73430\n"
     ]
    }
   ],
   "source": [
    "# E ≅ 50\n",
    "data49 = load_images_from_folder(\"C:/Users/madha/Documents/BE Project/Dataset/46_Alphabets_Upper/50_E\")\n",
    "len(data)\n",
    "for i in range(0, len(data49)):\n",
    "    data49[i] = np.append(data49[i],[\"50\"])\n",
    "data = np.concatenate((data, data49))\n",
    "print(len(data))"
   ]
  },
  {
   "cell_type": "code",
   "execution_count": 61,
   "id": "8ea21589",
   "metadata": {},
   "outputs": [
    {
     "name": "stdout",
     "output_type": "stream",
     "text": [
      "73916\n"
     ]
    }
   ],
   "source": [
    "# F ≅ 51\n",
    "data50 = load_images_from_folder(\"C:/Users/madha/Documents/BE Project/Dataset/46_Alphabets_Upper/51_F\")\n",
    "len(data)\n",
    "for i in range(0, len(data50)):\n",
    "    data50[i] = np.append(data50[i],[\"51\"])\n",
    "data = np.concatenate((data, data50))\n",
    "print(len(data))"
   ]
  },
  {
   "cell_type": "code",
   "execution_count": 62,
   "id": "ce27ec87",
   "metadata": {},
   "outputs": [
    {
     "name": "stdout",
     "output_type": "stream",
     "text": [
      "74369\n"
     ]
    }
   ],
   "source": [
    "# G ≅ 52\n",
    "data51 = load_images_from_folder(\"C:/Users/madha/Documents/BE Project/Dataset/46_Alphabets_Upper/52_G\")\n",
    "len(data)\n",
    "for i in range(0, len(data51)):\n",
    "    data51[i] = np.append(data51[i],[\"52\"])\n",
    "data = np.concatenate((data, data51))\n",
    "print(len(data))"
   ]
  },
  {
   "cell_type": "code",
   "execution_count": 63,
   "id": "5325caf9",
   "metadata": {},
   "outputs": [
    {
     "name": "stdout",
     "output_type": "stream",
     "text": [
      "74926\n"
     ]
    }
   ],
   "source": [
    "# H ≅ 53\n",
    "data52 = load_images_from_folder(\"C:/Users/madha/Documents/BE Project/Dataset/46_Alphabets_Upper/53_H\")\n",
    "len(data)\n",
    "for i in range(0, len(data52)):\n",
    "    data52[i] = np.append(data52[i],[\"53\"])\n",
    "data = np.concatenate((data, data52))\n",
    "print(len(data))"
   ]
  },
  {
   "cell_type": "code",
   "execution_count": 64,
   "id": "f7861aa5",
   "metadata": {},
   "outputs": [
    {
     "name": "stdout",
     "output_type": "stream",
     "text": [
      "75824\n"
     ]
    }
   ],
   "source": [
    "# I ≅ 54\n",
    "data53 = load_images_from_folder(\"C:/Users/madha/Documents/BE Project/Dataset/46_Alphabets_Upper/54_I\")\n",
    "len(data)\n",
    "for i in range(0, len(data53)):\n",
    "    data53[i] = np.append(data53[i],[\"54\"])\n",
    "data = np.concatenate((data, data53))\n",
    "print(len(data))"
   ]
  },
  {
   "cell_type": "code",
   "execution_count": 65,
   "id": "08a5a164",
   "metadata": {},
   "outputs": [
    {
     "name": "stdout",
     "output_type": "stream",
     "text": [
      "76300\n"
     ]
    }
   ],
   "source": [
    "# J ≅ 55\n",
    "data54 = load_images_from_folder(\"C:/Users/madha/Documents/BE Project/Dataset/46_Alphabets_Upper/55_J\")\n",
    "len(data)\n",
    "for i in range(0, len(data54)):\n",
    "    data54[i] = np.append(data54[i],[\"55\"])\n",
    "data = np.concatenate((data, data54))\n",
    "print(len(data))"
   ]
  },
  {
   "cell_type": "code",
   "execution_count": 66,
   "id": "3a5da037",
   "metadata": {},
   "outputs": [
    {
     "name": "stdout",
     "output_type": "stream",
     "text": [
      "76808\n"
     ]
    }
   ],
   "source": [
    "# K ≅ 56\n",
    "data55 = load_images_from_folder(\"C:/Users/madha/Documents/BE Project/Dataset/46_Alphabets_Upper/56_K\")\n",
    "len(data)\n",
    "for i in range(0, len(data55)):\n",
    "    data55[i] = np.append(data55[i],[\"56\"])\n",
    "data = np.concatenate((data, data55))\n",
    "print(len(data))"
   ]
  },
  {
   "cell_type": "code",
   "execution_count": 67,
   "id": "0f89eb1f",
   "metadata": {},
   "outputs": [
    {
     "name": "stdout",
     "output_type": "stream",
     "text": [
      "77511\n"
     ]
    }
   ],
   "source": [
    "# L ≅ 57\n",
    "data56 = load_images_from_folder(\"C:/Users/madha/Documents/BE Project/Dataset/46_Alphabets_Upper/57_L\")\n",
    "len(data)\n",
    "for i in range(0, len(data56)):\n",
    "    data56[i] = np.append(data56[i],[\"57\"])\n",
    "data = np.concatenate((data, data56))\n",
    "print(len(data))"
   ]
  },
  {
   "cell_type": "code",
   "execution_count": 68,
   "id": "fbd7b353",
   "metadata": {},
   "outputs": [
    {
     "name": "stdout",
     "output_type": "stream",
     "text": [
      "78007\n"
     ]
    }
   ],
   "source": [
    "# M ≅ 58\n",
    "data57 = load_images_from_folder(\"C:/Users/madha/Documents/BE Project/Dataset/46_Alphabets_Upper/58_M\")\n",
    "len(data)\n",
    "for i in range(0, len(data57)):\n",
    "    data57[i] = np.append(data57[i],[\"58\"])\n",
    "data = np.concatenate((data, data57))\n",
    "print(len(data))"
   ]
  },
  {
   "cell_type": "code",
   "execution_count": 69,
   "id": "4a0757ca",
   "metadata": {},
   "outputs": [
    {
     "name": "stdout",
     "output_type": "stream",
     "text": [
      "78696\n"
     ]
    }
   ],
   "source": [
    "# N ≅ 59\n",
    "data58 = load_images_from_folder(\"C:/Users/madha/Documents/BE Project/Dataset/46_Alphabets_Upper/59_N\")\n",
    "len(data)\n",
    "for i in range(0, len(data58)):\n",
    "    data58[i] = np.append(data58[i],[\"59\"])\n",
    "data = np.concatenate((data, data58))\n",
    "print(len(data))"
   ]
  },
  {
   "cell_type": "code",
   "execution_count": 70,
   "id": "acee4787",
   "metadata": {},
   "outputs": [
    {
     "name": "stdout",
     "output_type": "stream",
     "text": [
      "79822\n"
     ]
    }
   ],
   "source": [
    "# O ≅ 60\n",
    "data59 = load_images_from_folder(\"C:/Users/madha/Documents/BE Project/Dataset/46_Alphabets_Upper/60_O\")\n",
    "len(data)\n",
    "for i in range(0, len(data59)):\n",
    "    data59[i] = np.append(data59[i],[\"60\"])\n",
    "data = np.concatenate((data, data59))\n",
    "print(len(data))"
   ]
  },
  {
   "cell_type": "code",
   "execution_count": 71,
   "id": "700bc82f",
   "metadata": {},
   "outputs": [
    {
     "name": "stdout",
     "output_type": "stream",
     "text": [
      "80436\n"
     ]
    }
   ],
   "source": [
    "# P ≅ 61\n",
    "data60 = load_images_from_folder(\"C:/Users/madha/Documents/BE Project/Dataset/46_Alphabets_Upper/61_P\")\n",
    "len(data)\n",
    "for i in range(0, len(data60)):\n",
    "    data60[i] = np.append(data60[i],[\"61\"])\n",
    "data = np.concatenate((data, data60))\n",
    "print(len(data))"
   ]
  },
  {
   "cell_type": "code",
   "execution_count": 72,
   "id": "b43ab465",
   "metadata": {},
   "outputs": [
    {
     "name": "stdout",
     "output_type": "stream",
     "text": [
      "80849\n"
     ]
    }
   ],
   "source": [
    "# Q ≅ 62\n",
    "data61 = load_images_from_folder(\"C:/Users/madha/Documents/BE Project/Dataset/46_Alphabets_Upper/62_Q\")\n",
    "len(data)\n",
    "for i in range(0, len(data61)):\n",
    "    data61[i] = np.append(data61[i],[\"62\"])\n",
    "data = np.concatenate((data, data61))\n",
    "print(len(data))"
   ]
  },
  {
   "cell_type": "code",
   "execution_count": 73,
   "id": "f50da94c",
   "metadata": {},
   "outputs": [
    {
     "name": "stdout",
     "output_type": "stream",
     "text": [
      "81665\n"
     ]
    }
   ],
   "source": [
    "# R ≅ 63\n",
    "data62 = load_images_from_folder(\"C:/Users/madha/Documents/BE Project/Dataset/46_Alphabets_Upper/63_R\")\n",
    "len(data)\n",
    "for i in range(0, len(data62)):\n",
    "    data62[i] = np.append(data62[i],[\"63\"])\n",
    "data = np.concatenate((data, data62))\n",
    "print(len(data))"
   ]
  },
  {
   "cell_type": "code",
   "execution_count": 74,
   "id": "c5251a15",
   "metadata": {},
   "outputs": [
    {
     "name": "stdout",
     "output_type": "stream",
     "text": [
      "82464\n"
     ]
    }
   ],
   "source": [
    "# S ≅ 64\n",
    "data63 = load_images_from_folder(\"C:/Users/madha/Documents/BE Project/Dataset/46_Alphabets_Upper/64_S\")\n",
    "len(data)\n",
    "for i in range(0, len(data63)):\n",
    "    data63[i] = np.append(data63[i],[\"64\"])\n",
    "data = np.concatenate((data, data63))\n",
    "print(len(data))"
   ]
  },
  {
   "cell_type": "code",
   "execution_count": 75,
   "id": "2f73c036",
   "metadata": {},
   "outputs": [
    {
     "name": "stdout",
     "output_type": "stream",
     "text": [
      "83202\n"
     ]
    }
   ],
   "source": [
    "# T ≅ 65\n",
    "data64 = load_images_from_folder(\"C:/Users/madha/Documents/BE Project/Dataset/46_Alphabets_Upper/65_T\")\n",
    "len(data)\n",
    "for i in range(0, len(data64)):\n",
    "    data64[i] = np.append(data64[i],[\"65\"])\n",
    "data = np.concatenate((data, data64))\n",
    "print(len(data))"
   ]
  },
  {
   "cell_type": "code",
   "execution_count": 76,
   "id": "358930a2",
   "metadata": {},
   "outputs": [
    {
     "name": "stdout",
     "output_type": "stream",
     "text": [
      "83663\n"
     ]
    }
   ],
   "source": [
    "# U ≅ 66\n",
    "data65 = load_images_from_folder(\"C:/Users/madha/Documents/BE Project/Dataset/46_Alphabets_Upper/66_U\")\n",
    "len(data)\n",
    "for i in range(0, len(data65)):\n",
    "    data65[i] = np.append(data65[i],[\"66\"])\n",
    "data = np.concatenate((data, data65))\n",
    "print(len(data))"
   ]
  },
  {
   "cell_type": "code",
   "execution_count": 77,
   "id": "dee91321",
   "metadata": {},
   "outputs": [
    {
     "name": "stdout",
     "output_type": "stream",
     "text": [
      "84070\n"
     ]
    }
   ],
   "source": [
    "# V ≅ 67\n",
    "data66 = load_images_from_folder(\"C:/Users/madha/Documents/BE Project/Dataset/46_Alphabets_Upper/67_V\")\n",
    "len(data)\n",
    "for i in range(0, len(data66)):\n",
    "    data66[i] = np.append(data66[i],[\"67\"])\n",
    "data = np.concatenate((data, data66))\n",
    "print(len(data))"
   ]
  },
  {
   "cell_type": "code",
   "execution_count": 78,
   "id": "7223a010",
   "metadata": {},
   "outputs": [
    {
     "name": "stdout",
     "output_type": "stream",
     "text": [
      "84598\n"
     ]
    }
   ],
   "source": [
    "# W ≅ 68\n",
    "data67 = load_images_from_folder(\"C:/Users/madha/Documents/BE Project/Dataset/46_Alphabets_Upper/68_W\")\n",
    "len(data)\n",
    "for i in range(0, len(data67)):\n",
    "    data67[i] = np.append(data67[i],[\"68\"])\n",
    "data = np.concatenate((data, data67))\n",
    "print(len(data))"
   ]
  },
  {
   "cell_type": "code",
   "execution_count": 79,
   "id": "32f5c473",
   "metadata": {},
   "outputs": [
    {
     "name": "stdout",
     "output_type": "stream",
     "text": [
      "84966\n"
     ]
    }
   ],
   "source": [
    "# X ≅ 69\n",
    "data68 = load_images_from_folder(\"C:/Users/madha/Documents/BE Project/Dataset/46_Alphabets_Upper/69_X\")\n",
    "len(data)\n",
    "for i in range(0, len(data68)):\n",
    "    data68[i] = np.append(data68[i],[\"69\"])\n",
    "data = np.concatenate((data, data68))\n",
    "print(len(data))"
   ]
  },
  {
   "cell_type": "code",
   "execution_count": 80,
   "id": "2148c7f6",
   "metadata": {},
   "outputs": [
    {
     "name": "stdout",
     "output_type": "stream",
     "text": [
      "85423\n"
     ]
    }
   ],
   "source": [
    "# Y ≅ 70\n",
    "data69 = load_images_from_folder(\"C:/Users/madha/Documents/BE Project/Dataset/46_Alphabets_Upper/70_Y\")\n",
    "len(data)\n",
    "for i in range(0, len(data69)):\n",
    "    data69[i] = np.append(data69[i],[\"71\"])\n",
    "data = np.concatenate((data, data69))\n",
    "print(len(data))"
   ]
  },
  {
   "cell_type": "code",
   "execution_count": 81,
   "id": "6a6ae19a",
   "metadata": {},
   "outputs": [
    {
     "name": "stdout",
     "output_type": "stream",
     "text": [
      "85882\n"
     ]
    }
   ],
   "source": [
    "# Z ≅ 71\n",
    "data70 = load_images_from_folder(\"C:/Users/madha/Documents/BE Project/Dataset/46_Alphabets_Upper/71_Z\")\n",
    "len(data)\n",
    "for i in range(0, len(data70)):\n",
    "    data70[i] = np.append(data70[i],[\"71\"])\n",
    "data = np.concatenate((data, data70))\n",
    "print(len(data))"
   ]
  },
  {
   "cell_type": "markdown",
   "id": "60f2bb4d",
   "metadata": {},
   "source": [
    "## Equality "
   ]
  },
  {
   "cell_type": "code",
   "execution_count": 82,
   "id": "d41cc149",
   "metadata": {},
   "outputs": [
    {
     "name": "stdout",
     "output_type": "stream",
     "text": [
      "99240\n"
     ]
    }
   ],
   "source": [
    "# = ≅ 72\n",
    "data71 = load_images_from_folder(\"C:/Users/madha/Documents/BE Project/Dataset/72_Equality/72_equal\")\n",
    "len(data)\n",
    "for i in range(0, len(data71)):\n",
    "    data71[i] = np.append(data71[i],[\"72\"])\n",
    "data = np.concatenate((data, data71))\n",
    "print(len(data))"
   ]
  },
  {
   "cell_type": "code",
   "execution_count": 83,
   "id": "95edd6dd",
   "metadata": {},
   "outputs": [
    {
     "name": "stdout",
     "output_type": "stream",
     "text": [
      "99534\n"
     ]
    }
   ],
   "source": [
    "# ≠ ≅ 73\n",
    "data72 = load_images_from_folder(\"C:/Users/madha/Documents/BE Project/Dataset/72_Equality/73_not_equal\")\n",
    "len(data)\n",
    "for i in range(0, len(data72)):\n",
    "    data72[i] = np.append(data72[i],[\"73\"])\n",
    "data = np.concatenate((data, data72))\n",
    "print(len(data))"
   ]
  },
  {
   "cell_type": "code",
   "execution_count": 84,
   "id": "4c6e741e",
   "metadata": {},
   "outputs": [
    {
     "name": "stdout",
     "output_type": "stream",
     "text": [
      "99954\n"
     ]
    }
   ],
   "source": [
    "# > ≅ 74\n",
    "data73 = load_images_from_folder(\"C:/Users/madha/Documents/BE Project/Dataset/72_Equality/74_greater_than\")\n",
    "len(data)\n",
    "for i in range(0, len(data73)):\n",
    "    data73[i] = np.append(data73[i],[\"74\"])\n",
    "data = np.concatenate((data, data73))\n",
    "print(len(data))"
   ]
  },
  {
   "cell_type": "code",
   "execution_count": 85,
   "id": "7d7fa7ba",
   "metadata": {},
   "outputs": [
    {
     "name": "stdout",
     "output_type": "stream",
     "text": [
      "100599\n"
     ]
    }
   ],
   "source": [
    "# < ≅ 75\n",
    "data74 = load_images_from_folder(\"C:/Users/madha/Documents/BE Project/Dataset/72_Equality/75_less_than\")\n",
    "len(data)\n",
    "for i in range(0, len(data74)):\n",
    "    data74[i] = np.append(data74[i],[\"75\"])\n",
    "data = np.concatenate((data, data74))\n",
    "print(len(data))"
   ]
  },
  {
   "cell_type": "code",
   "execution_count": 86,
   "id": "52e6fce5",
   "metadata": {},
   "outputs": [
    {
     "name": "stdout",
     "output_type": "stream",
     "text": [
      "101032\n"
     ]
    }
   ],
   "source": [
    "# ≥ ≅ 76\n",
    "data75 = load_images_from_folder(\"C:/Users/madha/Documents/BE Project/Dataset/72_Equality/76_greater_equal\")\n",
    "len(data)\n",
    "for i in range(0, len(data75)):\n",
    "    data75[i] = np.append(data75[i],[\"76\"])\n",
    "data = np.concatenate((data, data1))\n",
    "print(len(data))"
   ]
  },
  {
   "cell_type": "code",
   "execution_count": 87,
   "id": "d1ef42fb",
   "metadata": {},
   "outputs": [
    {
     "name": "stdout",
     "output_type": "stream",
     "text": [
      "102005\n"
     ]
    }
   ],
   "source": [
    "# ≤ ≅ 77\n",
    "data76 = load_images_from_folder(\"C:/Users/madha/Documents/BE Project/Dataset/72_Equality/77_less_equal\")\n",
    "len(data)\n",
    "for i in range(0, len(data76)):\n",
    "    data76[i] = np.append(data76[i],[\"77\"])\n",
    "data = np.concatenate((data, data76))\n",
    "print(len(data))"
   ]
  },
  {
   "cell_type": "markdown",
   "id": "da2900be",
   "metadata": {},
   "source": [
    "## Miscellaneous "
   ]
  },
  {
   "cell_type": "code",
   "execution_count": 88,
   "id": "82db86ed",
   "metadata": {},
   "outputs": [
    {
     "name": "stdout",
     "output_type": "stream",
     "text": [
      "102109\n"
     ]
    }
   ],
   "source": [
    "# & ≅ 78\n",
    "data77 = load_images_from_folder(\"C:/Users/madha/Documents/BE Project/Dataset/78_Miscellaneous/78_ampersand\")\n",
    "len(data)\n",
    "for i in range(0, len(data77)):\n",
    "    data77[i] = np.append(data77[i],[\"78\"])\n",
    "data = np.concatenate((data, data77))\n",
    "print(len(data))"
   ]
  },
  {
   "cell_type": "code",
   "execution_count": 89,
   "id": "f3fd3f1c",
   "metadata": {},
   "outputs": [
    {
     "name": "stdout",
     "output_type": "stream",
     "text": [
      "102427\n"
     ]
    }
   ],
   "source": [
    "# ' ≅ 79\n",
    "data78 = load_images_from_folder(\"C:/Users/madha/Documents/BE Project/Dataset/78_Miscellaneous/79_apostrophe\")\n",
    "len(data)\n",
    "for i in range(0, len(data78)):\n",
    "    data78[i] = np.append(data78[i],[\"79\"])\n",
    "data = np.concatenate((data, data78))\n",
    "print(len(data))"
   ]
  },
  {
   "cell_type": "code",
   "execution_count": 90,
   "id": "4d7a65b1",
   "metadata": {},
   "outputs": [
    {
     "name": "stdout",
     "output_type": "stream",
     "text": [
      "102714\n"
     ]
    }
   ],
   "source": [
    "# : ≅ 80\n",
    "data79 = load_images_from_folder(\"C:/Users/madha/Documents/BE Project/Dataset/78_Miscellaneous/80_colon\")\n",
    "len(data)\n",
    "for i in range(0, len(data79)):\n",
    "    data79[i] = np.append(data79[i],[\"80\"])\n",
    "data = np.concatenate((data, data79))\n",
    "print(len(data))"
   ]
  },
  {
   "cell_type": "code",
   "execution_count": 91,
   "id": "8069d7c9",
   "metadata": {},
   "outputs": [
    {
     "name": "stdout",
     "output_type": "stream",
     "text": [
      "103034\n"
     ]
    }
   ],
   "source": [
    "# , ≅ 81\n",
    "data80 = load_images_from_folder(\"C:/Users/madha/Documents/BE Project/Dataset/78_Miscellaneous/81_comma\")\n",
    "len(data)\n",
    "for i in range(0, len(data80)):\n",
    "    data80[i] = np.append(data80[i],[\"81\"])\n",
    "data = np.concatenate((data, data80))\n",
    "print(len(data))"
   ]
  },
  {
   "cell_type": "code",
   "execution_count": 92,
   "id": "68bb1e57",
   "metadata": {},
   "outputs": [
    {
     "name": "stdout",
     "output_type": "stream",
     "text": [
      "103520\n"
     ]
    }
   ],
   "source": [
    "# . ≅ 82\n",
    "data81 = load_images_from_folder(\"C:/Users/madha/Documents/BE Project/Dataset/78_Miscellaneous/82_decimal\")\n",
    "len(data)\n",
    "for i in range(0, len(data81)):\n",
    "    data81[i] = np.append(data81[i],[\"82\"])\n",
    "data = np.concatenate((data, data81))\n",
    "print(len(data))"
   ]
  },
  {
   "cell_type": "code",
   "execution_count": 93,
   "id": "9cf08606",
   "metadata": {},
   "outputs": [
    {
     "name": "stdout",
     "output_type": "stream",
     "text": [
      "103712\n"
     ]
    }
   ],
   "source": [
    "# $ ≅ 83\n",
    "data82 = load_images_from_folder(\"C:/Users/madha/Documents/BE Project/Dataset/78_Miscellaneous/83_dollar\")\n",
    "len(data)\n",
    "for i in range(0, len(data82)):\n",
    "    data82[i] = np.append(data82[i],[\"83\"])\n",
    "data = np.concatenate((data, data82))\n",
    "print(len(data))"
   ]
  },
  {
   "cell_type": "code",
   "execution_count": 94,
   "id": "129d47c1",
   "metadata": {},
   "outputs": [
    {
     "name": "stdout",
     "output_type": "stream",
     "text": [
      "105012\n"
     ]
    }
   ],
   "source": [
    "# ! ≅ 84\n",
    "data83 = load_images_from_folder(\"C:/Users/madha/Documents/BE Project/Dataset/78_Miscellaneous/84_exclamation\")\n",
    "len(data)\n",
    "for i in range(0, len(data83)):\n",
    "    data83[i] = np.append(data83[i],[\"84\"])\n",
    "data = np.concatenate((data, data83))\n",
    "print(len(data))"
   ]
  },
  {
   "cell_type": "code",
   "execution_count": 95,
   "id": "70411514",
   "metadata": {},
   "outputs": [
    {
     "name": "stdout",
     "output_type": "stream",
     "text": [
      "105033\n"
     ]
    }
   ],
   "source": [
    "# ∃ ≅ 85\n",
    "data84 = load_images_from_folder(\"C:/Users/madha/Documents/BE Project/Dataset/78_Miscellaneous/85_exists\")\n",
    "len(data)\n",
    "for i in range(0, len(data84)):\n",
    "    data84[i] = np.append(data84[i],[\"85\"])\n",
    "data = np.concatenate((data, data84))\n",
    "print(len(data))"
   ]
  },
  {
   "cell_type": "code",
   "execution_count": 96,
   "id": "a5380934",
   "metadata": {},
   "outputs": [
    {
     "name": "stdout",
     "output_type": "stream",
     "text": [
      "105116\n"
     ]
    }
   ],
   "source": [
    "# @ ≅ 86\n",
    "data85 = load_images_from_folder(\"C:/Users/madha/Documents/BE Project/Dataset/78_Miscellaneous/86_at\")\n",
    "len(data)\n",
    "for i in range(0, len(data85)):\n",
    "    data85[i] = np.append(data85[i],[\"86\"])\n",
    "data = np.concatenate((data, data85))\n",
    "print(len(data))"
   ]
  },
  {
   "cell_type": "code",
   "execution_count": 97,
   "id": "b7ba5cf6",
   "metadata": {},
   "outputs": [
    {
     "name": "stdout",
     "output_type": "stream",
     "text": [
      "105161\n"
     ]
    }
   ],
   "source": [
    "# ∀ ≅ 87\n",
    "data86 = load_images_from_folder(\"C:/Users/madha/Documents/BE Project/Dataset/78_Miscellaneous/87_forall\")\n",
    "len(data)\n",
    "for i in range(0, len(data86)):\n",
    "    data86[i] = np.append(data86[i],[\"87\"])\n",
    "data = np.concatenate((data, data86))\n",
    "print(len(data))"
   ]
  },
  {
   "cell_type": "code",
   "execution_count": 98,
   "id": "133fbccf",
   "metadata": {},
   "outputs": [
    {
     "name": "stdout",
     "output_type": "stream",
     "text": [
      "105313\n"
     ]
    }
   ],
   "source": [
    "# # ≅ 88\n",
    "data87 = load_images_from_folder(\"C:/Users/madha/Documents/BE Project/Dataset/78_Miscellaneous/88_hashtag\")\n",
    "len(data)\n",
    "for i in range(0, len(data87)):\n",
    "    data87[i] = np.append(data87[i],[\"88\"])\n",
    "data = np.concatenate((data, data87))\n",
    "print(len(data))"
   ]
  },
  {
   "cell_type": "code",
   "execution_count": 99,
   "id": "35756a97",
   "metadata": {},
   "outputs": [
    {
     "name": "stdout",
     "output_type": "stream",
     "text": [
      "105360\n"
     ]
    }
   ],
   "source": [
    "# in ≅ 89\n",
    "data88 = load_images_from_folder(\"C:/Users/madha/Documents/BE Project/Dataset/78_Miscellaneous/89_in\")\n",
    "len(data)\n",
    "for i in range(0, len(data88)):\n",
    "    data88[i] = np.append(data88[i],[\"89\"])\n",
    "data = np.concatenate((data, data88))\n",
    "print(len(data))"
   ]
  },
  {
   "cell_type": "code",
   "execution_count": 100,
   "id": "f43dfbed",
   "metadata": {},
   "outputs": [
    {
     "name": "stdout",
     "output_type": "stream",
     "text": [
      "107143\n"
     ]
    }
   ],
   "source": [
    "# ∞ ≅ 90\n",
    "data89 = load_images_from_folder(\"C:/Users/madha/Documents/BE Project/Dataset/78_Miscellaneous/90_infinity\")\n",
    "len(data)\n",
    "for i in range(0, len(data89)):\n",
    "    data89[i] = np.append(data89[i],[\"90\"])\n",
    "data = np.concatenate((data, data89))\n",
    "print(len(data))"
   ]
  },
  {
   "cell_type": "code",
   "execution_count": 101,
   "id": "0f3ecc69",
   "metadata": {},
   "outputs": [
    {
     "name": "stdout",
     "output_type": "stream",
     "text": [
      "109885\n"
     ]
    }
   ],
   "source": [
    "# ∫ ≅ 91\n",
    "data90 = load_images_from_folder(\"C:/Users/madha/Documents/BE Project/Dataset/78_Miscellaneous/91_integration\")\n",
    "len(data)\n",
    "for i in range(0, len(data90)):\n",
    "    data90[i] = np.append(data90[i],[\"91\"])\n",
    "data = np.concatenate((data, data90))\n",
    "print(len(data))"
   ]
  },
  {
   "cell_type": "code",
   "execution_count": 102,
   "id": "09de9295",
   "metadata": {},
   "outputs": [
    {
     "name": "stdout",
     "output_type": "stream",
     "text": [
      "111560\n"
     ]
    }
   ],
   "source": [
    "# limits ≅ 92\n",
    "data91 = load_images_from_folder(\"C:/Users/madha/Documents/BE Project/Dataset/78_Miscellaneous/92_limits\")\n",
    "len(data)\n",
    "for i in range(0, len(data91)):\n",
    "    data91[i] = np.append(data91[i],[\"92\"])\n",
    "data = np.concatenate((data, data91))\n",
    "print(len(data))"
   ]
  },
  {
   "cell_type": "code",
   "execution_count": 103,
   "id": "cd576549",
   "metadata": {},
   "outputs": [
    {
     "name": "stdout",
     "output_type": "stream",
     "text": [
      "113561\n"
     ]
    }
   ],
   "source": [
    "# log ≅ 93\n",
    "data92 = load_images_from_folder(\"C:/Users/madha/Documents/BE Project/Dataset/78_Miscellaneous/93_log\")\n",
    "len(data)\n",
    "for i in range(0, len(data92)):\n",
    "    data92[i] = np.append(data92[i],[\"93\"])\n",
    "data = np.concatenate((data, data92))\n",
    "print(len(data))"
   ]
  },
  {
   "cell_type": "code",
   "execution_count": 104,
   "id": "83adab1a",
   "metadata": {},
   "outputs": [
    {
     "name": "stdout",
     "output_type": "stream",
     "text": [
      "113751\n"
     ]
    }
   ],
   "source": [
    "# % ≅ 94\n",
    "data93 = load_images_from_folder(\"C:/Users/madha/Documents/BE Project/Dataset/78_Miscellaneous/94_percent\")\n",
    "len(data)\n",
    "for i in range(0, len(data93)):\n",
    "    data93[i] = np.append(data93[i],[\"94\"])\n",
    "data = np.concatenate((data, data93))\n",
    "print(len(data))"
   ]
  },
  {
   "cell_type": "code",
   "execution_count": 105,
   "id": "ea16ee51",
   "metadata": {},
   "outputs": [
    {
     "name": "stdout",
     "output_type": "stream",
     "text": [
      "114553\n"
     ]
    }
   ],
   "source": [
    "# ± ≅ 95\n",
    "data94 = load_images_from_folder(\"C:/Users/madha/Documents/BE Project/Dataset/78_Miscellaneous/95_plus_minus\")\n",
    "len(data)\n",
    "for i in range(0, len(data94)):\n",
    "    data94[i] = np.append(data94[i],[\"95\"])\n",
    "data = np.concatenate((data, data94))\n",
    "print(len(data))"
   ]
  },
  {
   "cell_type": "code",
   "execution_count": 106,
   "id": "02d0046b",
   "metadata": {},
   "outputs": [
    {
     "name": "stdout",
     "output_type": "stream",
     "text": [
      "116885\n"
     ]
    }
   ],
   "source": [
    "# π ≅ 96\n",
    "data95 = load_images_from_folder(\"C:/Users/madha/Documents/BE Project/Dataset/78_Miscellaneous/96_pi\")\n",
    "len(data)\n",
    "for i in range(0, len(data95)):\n",
    "    data95[i] = np.append(data95[i],[\"96\"])\n",
    "data = np.concatenate((data, data95))\n",
    "print(len(data))"
   ]
  },
  {
   "cell_type": "code",
   "execution_count": 107,
   "id": "ea44de59",
   "metadata": {},
   "outputs": [
    {
     "name": "stdout",
     "output_type": "stream",
     "text": [
      "117214\n"
     ]
    }
   ],
   "source": [
    "# prime≅ 97\n",
    "data96 = load_images_from_folder(\"C:/Users/madha/Documents/BE Project/Dataset/78_Miscellaneous/97_prime\")\n",
    "len(data)\n",
    "for i in range(0, len(data96)):\n",
    "    data96[i] = np.append(data96[i],[\"97\"])\n",
    "data = np.concatenate((data, data96))\n",
    "print(len(data))"
   ]
  },
  {
   "cell_type": "code",
   "execution_count": 108,
   "id": "ac3419d8",
   "metadata": {},
   "outputs": [
    {
     "name": "stdout",
     "output_type": "stream",
     "text": [
      "117408\n"
     ]
    }
   ],
   "source": [
    "# ^ ≅ 98\n",
    "data97 = load_images_from_folder(\"C:/Users/madha/Documents/BE Project/Dataset/78_Miscellaneous/98_question_mark\")\n",
    "len(data)\n",
    "for i in range(0, len(data97)):\n",
    "    data97[i] = np.append(data97[i],[\"98\"])\n",
    "data = np.concatenate((data, data97))\n",
    "print(len(data))"
   ]
  },
  {
   "cell_type": "code",
   "execution_count": 109,
   "id": "1f340949",
   "metadata": {},
   "outputs": [
    {
     "name": "stdout",
     "output_type": "stream",
     "text": [
      "117675\n"
     ]
    }
   ],
   "source": [
    "# → ≅ 99\n",
    "data98 = load_images_from_folder(\"C:/Users/madha/Documents/BE Project/Dataset/78_Miscellaneous/99_quotation marks\")\n",
    "len(data)\n",
    "for i in range(0, len(data98)):\n",
    "    data98[i] = np.append(data98[i],[\"99\"])\n",
    "data = np.concatenate((data, data98))\n",
    "print(len(data))"
   ]
  },
  {
   "cell_type": "code",
   "execution_count": 110,
   "id": "90a62498",
   "metadata": {},
   "outputs": [
    {
     "name": "stdout",
     "output_type": "stream",
     "text": [
      "117763\n"
     ]
    }
   ],
   "source": [
    "# / ≅ 100\n",
    "data99 = load_images_from_folder(\"C:/Users/madha/Documents/BE Project/Dataset/78_Miscellaneous/100_raise to\")\n",
    "len(data)\n",
    "for i in range(0, len(data99)):\n",
    "    data99[i] = np.append(data99[i],[\"100\"])\n",
    "data = np.concatenate((data, data99))\n",
    "print(len(data))"
   ]
  },
  {
   "cell_type": "code",
   "execution_count": 111,
   "id": "3545ec7e",
   "metadata": {},
   "outputs": [
    {
     "name": "stdout",
     "output_type": "stream",
     "text": [
      "119466\n"
     ]
    }
   ],
   "source": [
    "# √ ≅ 101\n",
    "data100 = load_images_from_folder(\"C:/Users/madha/Documents/BE Project/Dataset/78_Miscellaneous/101_rightarrow\")\n",
    "len(data)\n",
    "for i in range(0, len(data100)):\n",
    "    data100[i] = np.append(data100[i],[\"101\"])\n",
    "data = np.concatenate((data, data100))\n",
    "print(len(data))"
   ]
  },
  {
   "cell_type": "code",
   "execution_count": 112,
   "id": "cf9607d6",
   "metadata": {},
   "outputs": [
    {
     "name": "stdout",
     "output_type": "stream",
     "text": [
      "119725\n"
     ]
    }
   ],
   "source": [
    "# * ≅ 102\n",
    "data101 = load_images_from_folder(\"C:/Users/madha/Documents/BE Project/Dataset/78_Miscellaneous/102_slash\")\n",
    "len(data)\n",
    "for i in range(0, len(data101)):\n",
    "    data101[i] = np.append(data101[i],[\"102\"])\n",
    "data = np.concatenate((data, data101))\n",
    "print(len(data))"
   ]
  },
  {
   "cell_type": "code",
   "execution_count": 113,
   "id": "2cb68976",
   "metadata": {},
   "outputs": [
    {
     "name": "stdout",
     "output_type": "stream",
     "text": [
      "128633\n"
     ]
    }
   ],
   "source": [
    "# ∑ ≅ 103\n",
    "data102 = load_images_from_folder(\"C:/Users/madha/Documents/BE Project/Dataset/78_Miscellaneous/103_square_root\")\n",
    "len(data)\n",
    "for i in range(0, len(data102)):\n",
    "    data102[i] = np.append(data102[i],[\"103\"])\n",
    "data = np.concatenate((data, data102))\n",
    "print(len(data))"
   ]
  },
  {
   "cell_type": "code",
   "execution_count": 114,
   "id": "79e01000",
   "metadata": {},
   "outputs": [
    {
     "name": "stdout",
     "output_type": "stream",
     "text": [
      "128761\n"
     ]
    }
   ],
   "source": [
    "# ~ ≅ 104\n",
    "data103 = load_images_from_folder(\"C:/Users/madha/Documents/BE Project/Dataset/78_Miscellaneous/104_asterick\")\n",
    "len(data)\n",
    "for i in range(0, len(data103)):\n",
    "    data103[i] = np.append(data103[i],[\"104\"])\n",
    "data = np.concatenate((data, data103))\n",
    "print(len(data))"
   ]
  },
  {
   "cell_type": "code",
   "execution_count": 115,
   "id": "7d5ecfe8",
   "metadata": {},
   "outputs": [
    {
     "name": "stdout",
     "output_type": "stream",
     "text": [
      "131450\n"
     ]
    }
   ],
   "source": [
    "# _ ≅ 105\n",
    "data104 = load_images_from_folder(\"C:/Users/madha/Documents/BE Project/Dataset/78_Miscellaneous/105_sum\")\n",
    "len(data)\n",
    "for i in range(0, len(data104)):\n",
    "    data104[i] = np.append(data104[i],[\"105\"])\n",
    "data = np.concatenate((data, data104))\n",
    "print(len(data))"
   ]
  },
  {
   "cell_type": "code",
   "execution_count": 116,
   "id": "1d4a7fc0",
   "metadata": {},
   "outputs": [
    {
     "name": "stdout",
     "output_type": "stream",
     "text": [
      "131509\n"
     ]
    }
   ],
   "source": [
    "# _ ≅ 106\n",
    "data105 = load_images_from_folder(\"C:/Users/madha/Documents/BE Project/Dataset/78_Miscellaneous/106_tilde\")\n",
    "len(data)\n",
    "for i in range(0, len(data105)):\n",
    "    data105[i] = np.append(data105[i],[\"106\"])\n",
    "data = np.concatenate((data, data105))\n",
    "print(len(data))"
   ]
  },
  {
   "cell_type": "code",
   "execution_count": 117,
   "id": "0d42542f",
   "metadata": {},
   "outputs": [
    {
     "name": "stdout",
     "output_type": "stream",
     "text": [
      "131589\n"
     ]
    }
   ],
   "source": [
    "# _ ≅ 107\n",
    "data106 = load_images_from_folder(\"C:/Users/madha/Documents/BE Project/Dataset/78_Miscellaneous/107_underscore\")\n",
    "len(data)\n",
    "for i in range(0, len(data106)):\n",
    "    data106[i] = np.append(data106[i],[\"107\"])\n",
    "data = np.concatenate((data, data106))\n",
    "print(len(data))"
   ]
  },
  {
   "cell_type": "markdown",
   "id": "7f8eaef9",
   "metadata": {},
   "source": [
    "## Trigonometry "
   ]
  },
  {
   "cell_type": "code",
   "execution_count": 118,
   "id": "5e764dce",
   "metadata": {},
   "outputs": [
    {
     "name": "stdout",
     "output_type": "stream",
     "text": [
      "135882\n"
     ]
    }
   ],
   "source": [
    "# √ ≅ 108\n",
    "data107 = load_images_from_folder(\"C:/Users/madha/Documents/BE Project/Dataset/108_Trigonometry/108_sin\")\n",
    "len(data)\n",
    "for i in range(0, len(data107)):\n",
    "    data107[i] = np.append(data107[i],[\"108\"])\n",
    "data = np.concatenate((data, data107))\n",
    "print(len(data))"
   ]
  },
  {
   "cell_type": "code",
   "execution_count": 119,
   "id": "b3340166",
   "metadata": {},
   "outputs": [
    {
     "name": "stdout",
     "output_type": "stream",
     "text": [
      "138868\n"
     ]
    }
   ],
   "source": [
    "# √ ≅ 109\n",
    "data108 = load_images_from_folder(\"C:/Users/madha/Documents/BE Project/Dataset/108_Trigonometry/109_cos\")\n",
    "len(data)\n",
    "for i in range(0, len(data108)):\n",
    "    data108[i] = np.append(data108[i],[\"109\"])\n",
    "data = np.concatenate((data, data108))\n",
    "print(len(data))"
   ]
  },
  {
   "cell_type": "code",
   "execution_count": 120,
   "id": "6a8f99fc",
   "metadata": {},
   "outputs": [
    {
     "name": "stdout",
     "output_type": "stream",
     "text": [
      "141318\n"
     ]
    }
   ],
   "source": [
    "# √ ≅ 110\n",
    "data109 = load_images_from_folder(\"C:/Users/madha/Documents/BE Project/Dataset/108_Trigonometry/110_tan\")\n",
    "len(data)\n",
    "for i in range(0, len(data109)):\n",
    "    data109[i] = np.append(data109[i],[\"110\"])\n",
    "data = np.concatenate((data, data109))\n",
    "print(len(data))"
   ]
  },
  {
   "cell_type": "markdown",
   "id": "7936bcb4",
   "metadata": {},
   "source": [
    "## Greek Alphabets"
   ]
  },
  {
   "cell_type": "code",
   "execution_count": 121,
   "id": "a8b084b6",
   "metadata": {},
   "outputs": [
    {
     "name": "stdout",
     "output_type": "stream",
     "text": [
      "141332\n"
     ]
    }
   ],
   "source": [
    "# √ ≅ 111\n",
    "data110 = load_images_from_folder(\"C:/Users/madha/Documents/BE Project/Dataset/111_Greek/111_alpha\")\n",
    "len(data)\n",
    "for i in range(0, len(data110)):\n",
    "    data110[i] = np.append(data110[i],[\"111\"])\n",
    "data = np.concatenate((data, data110))\n",
    "print(len(data))"
   ]
  },
  {
   "cell_type": "code",
   "execution_count": 122,
   "id": "4534849a",
   "metadata": {},
   "outputs": [
    {
     "name": "stdout",
     "output_type": "stream",
     "text": [
      "141346\n"
     ]
    }
   ],
   "source": [
    "# √ ≅ 112\n",
    "data111 = load_images_from_folder(\"C:/Users/madha/Documents/BE Project/Dataset/111_Greek/112_beta\")\n",
    "len(data)\n",
    "for i in range(0, len(data111)):\n",
    "    data111[i] = np.append(data111[i],[\"112\"])\n",
    "data = np.concatenate((data, data111))\n",
    "print(len(data))"
   ]
  },
  {
   "cell_type": "code",
   "execution_count": 123,
   "id": "f542555d",
   "metadata": {},
   "outputs": [
    {
     "name": "stdout",
     "output_type": "stream",
     "text": [
      "141360\n"
     ]
    }
   ],
   "source": [
    "# √ ≅ 113\n",
    "data112 = load_images_from_folder(\"C:/Users/madha/Documents/BE Project/Dataset/111_Greek/113_gamma\")\n",
    "len(data)\n",
    "for i in range(0, len(data112)):\n",
    "    data112[i] = np.append(data112[i],[\"113\"])\n",
    "data = np.concatenate((data, data112))\n",
    "print(len(data))"
   ]
  },
  {
   "cell_type": "code",
   "execution_count": 124,
   "id": "a10e0df5",
   "metadata": {},
   "outputs": [
    {
     "name": "stdout",
     "output_type": "stream",
     "text": [
      "143200\n"
     ]
    }
   ],
   "source": [
    "# √ ≅ 114\n",
    "data113 = load_images_from_folder(\"C:/Users/madha/Documents/BE Project/Dataset/111_Greek/114_delta\")\n",
    "len(data)\n",
    "for i in range(0, len(data113)):\n",
    "    data113[i] = np.append(data113[i],[\"114\"])\n",
    "data = np.concatenate((data, data113))\n",
    "print(len(data))"
   ]
  },
  {
   "cell_type": "code",
   "execution_count": 126,
   "id": "e1ccfd13",
   "metadata": {},
   "outputs": [
    {
     "name": "stdout",
     "output_type": "stream",
     "text": [
      "143214\n"
     ]
    }
   ],
   "source": [
    "# √ ≅ 115\n",
    "data114 = load_images_from_folder(\"C:/Users/madha/Documents/BE Project/Dataset/111_Greek/115_epsilon\")\n",
    "len(data)\n",
    "for i in range(0, len(data114)):\n",
    "    data114[i] = np.append(data114[i],[\"115\"])\n",
    "data = np.concatenate((data, data114))\n",
    "print(len(data))"
   ]
  },
  {
   "cell_type": "code",
   "execution_count": 128,
   "id": "c4caef79",
   "metadata": {},
   "outputs": [
    {
     "name": "stdout",
     "output_type": "stream",
     "text": [
      "143224\n"
     ]
    }
   ],
   "source": [
    "# √ ≅ 116\n",
    "data115 = load_images_from_folder(\"C:/Users/madha/Documents/BE Project/Dataset/111_Greek/116_zeta\")\n",
    "len(data)\n",
    "for i in range(0, len(data115)):\n",
    "    data115[i] = np.append(data115[i],[\"116\"])\n",
    "data = np.concatenate((data, data115))\n",
    "print(len(data))"
   ]
  },
  {
   "cell_type": "code",
   "execution_count": 129,
   "id": "a3b22f60",
   "metadata": {},
   "outputs": [
    {
     "name": "stdout",
     "output_type": "stream",
     "text": [
      "143238\n"
     ]
    }
   ],
   "source": [
    "# √ ≅ 117\n",
    "data116 = load_images_from_folder(\"C:/Users/madha/Documents/BE Project/Dataset/111_Greek/117_eta\")\n",
    "len(data)\n",
    "for i in range(0, len(data116)):\n",
    "    data116[i] = np.append(data116[i],[\"117\"])\n",
    "data = np.concatenate((data, data116))\n",
    "print(len(data))"
   ]
  },
  {
   "cell_type": "code",
   "execution_count": 130,
   "id": "bf15e28d",
   "metadata": {},
   "outputs": [
    {
     "name": "stdout",
     "output_type": "stream",
     "text": [
      "143252\n"
     ]
    }
   ],
   "source": [
    "# √ ≅ 118\n",
    "data117 = load_images_from_folder(\"C:/Users/madha/Documents/BE Project/Dataset/111_Greek/118_theta\")\n",
    "len(data)\n",
    "for i in range(0, len(data117)):\n",
    "    data117[i] = np.append(data117[i],[\"118\"])\n",
    "data = np.concatenate((data, data117))\n",
    "print(len(data))"
   ]
  },
  {
   "cell_type": "code",
   "execution_count": 131,
   "id": "032bfe1b",
   "metadata": {},
   "outputs": [
    {
     "name": "stdout",
     "output_type": "stream",
     "text": [
      "143266\n"
     ]
    }
   ],
   "source": [
    "# √ ≅ 119\n",
    "data118 = load_images_from_folder(\"C:/Users/madha/Documents/BE Project/Dataset/111_Greek/119_lambda\")\n",
    "len(data)\n",
    "for i in range(0, len(data118)):\n",
    "    data118[i] = np.append(data118[i],[\"119\"])\n",
    "data = np.concatenate((data, data118))\n",
    "print(len(data))"
   ]
  },
  {
   "cell_type": "code",
   "execution_count": 132,
   "id": "fb0ef366",
   "metadata": {},
   "outputs": [
    {
     "name": "stdout",
     "output_type": "stream",
     "text": [
      "143280\n"
     ]
    }
   ],
   "source": [
    "# √ ≅ 120\n",
    "data119 = load_images_from_folder(\"C:/Users/madha/Documents/BE Project/Dataset/111_Greek/120_mu\")\n",
    "len(data)\n",
    "for i in range(0, len(data119)):\n",
    "    data119[i] = np.append(data119[i],[\"120\"])\n",
    "data = np.concatenate((data, data119))\n",
    "print(len(data))"
   ]
  },
  {
   "cell_type": "code",
   "execution_count": 133,
   "id": "d21a7bc7",
   "metadata": {},
   "outputs": [
    {
     "name": "stdout",
     "output_type": "stream",
     "text": [
      "143294\n"
     ]
    }
   ],
   "source": [
    "# √ ≅ 121\n",
    "data120 = load_images_from_folder(\"C:/Users/madha/Documents/BE Project/Dataset/111_Greek/121_nu\")\n",
    "len(data)\n",
    "for i in range(0, len(data120)):\n",
    "    data120[i] = np.append(data120[i],[\"121\"])\n",
    "data = np.concatenate((data, data120))\n",
    "print(len(data))"
   ]
  },
  {
   "cell_type": "code",
   "execution_count": 134,
   "id": "757f1e63",
   "metadata": {},
   "outputs": [
    {
     "name": "stdout",
     "output_type": "stream",
     "text": [
      "143308\n"
     ]
    }
   ],
   "source": [
    "# √ ≅ 122\n",
    "data121 = load_images_from_folder(\"C:/Users/madha/Documents/BE Project/Dataset/111_Greek/122_pi\")\n",
    "len(data)\n",
    "for i in range(0, len(data121)):\n",
    "    data121[i] = np.append(data121[i],[\"122\"])\n",
    "data = np.concatenate((data, data121))\n",
    "print(len(data))"
   ]
  },
  {
   "cell_type": "code",
   "execution_count": 135,
   "id": "b91810a7",
   "metadata": {},
   "outputs": [
    {
     "name": "stdout",
     "output_type": "stream",
     "text": [
      "143322\n"
     ]
    }
   ],
   "source": [
    "# √ ≅ 123\n",
    "data122 = load_images_from_folder(\"C:/Users/madha/Documents/BE Project/Dataset/111_Greek/123_rho\")\n",
    "len(data)\n",
    "for i in range(0, len(data122)):\n",
    "    data122[i] = np.append(data122[i],[\"123\"])\n",
    "data = np.concatenate((data, data122))\n",
    "print(len(data))"
   ]
  },
  {
   "cell_type": "code",
   "execution_count": 136,
   "id": "f7c9f48b",
   "metadata": {},
   "outputs": [
    {
     "name": "stdout",
     "output_type": "stream",
     "text": [
      "143336\n"
     ]
    }
   ],
   "source": [
    "# √ ≅ 124\n",
    "data123 = load_images_from_folder(\"C:/Users/madha/Documents/BE Project/Dataset/111_Greek/124_sigma\")\n",
    "len(data)\n",
    "for i in range(0, len(data123)):\n",
    "    data123[i] = np.append(data123[i],[\"124\"])\n",
    "data = np.concatenate((data, data123))\n",
    "print(len(data))"
   ]
  },
  {
   "cell_type": "code",
   "execution_count": 137,
   "id": "394b5c24",
   "metadata": {},
   "outputs": [
    {
     "name": "stdout",
     "output_type": "stream",
     "text": [
      "143350\n"
     ]
    }
   ],
   "source": [
    "# √ ≅ 125\n",
    "data124 = load_images_from_folder(\"C:/Users/madha/Documents/BE Project/Dataset/111_Greek/125_tau\")\n",
    "len(data)\n",
    "for i in range(0, len(data124)):\n",
    "    data124[i] = np.append(data124[i],[\"125\"])\n",
    "data = np.concatenate((data, data124))\n",
    "print(len(data))"
   ]
  },
  {
   "cell_type": "code",
   "execution_count": 138,
   "id": "2969e0ae",
   "metadata": {},
   "outputs": [
    {
     "name": "stdout",
     "output_type": "stream",
     "text": [
      "143364\n"
     ]
    }
   ],
   "source": [
    "# √ ≅ 126\n",
    "data125 = load_images_from_folder(\"C:/Users/madha/Documents/BE Project/Dataset/111_Greek/126_phi\")\n",
    "len(data)\n",
    "for i in range(0, len(data125)):\n",
    "    data125[i] = np.append(data125[i],[\"126\"])\n",
    "data = np.concatenate((data, data125))\n",
    "print(len(data))"
   ]
  },
  {
   "cell_type": "code",
   "execution_count": 139,
   "id": "f69baeef",
   "metadata": {},
   "outputs": [
    {
     "name": "stdout",
     "output_type": "stream",
     "text": [
      "143378\n"
     ]
    }
   ],
   "source": [
    "# √ ≅ 127\n",
    "data126 = load_images_from_folder(\"C:/Users/madha/Documents/BE Project/Dataset/111_Greek/127_psi\")\n",
    "len(data)\n",
    "for i in range(0, len(data126)):\n",
    "    data126[i] = np.append(data126[i],[\"127\"])\n",
    "data = np.concatenate((data, data126))\n",
    "print(len(data))"
   ]
  },
  {
   "cell_type": "code",
   "execution_count": 140,
   "id": "7dd55856",
   "metadata": {},
   "outputs": [
    {
     "name": "stdout",
     "output_type": "stream",
     "text": [
      "143392\n"
     ]
    }
   ],
   "source": [
    "# √ ≅ 128\n",
    "data127 = load_images_from_folder(\"C:/Users/madha/Documents/BE Project/Dataset/111_Greek/128_omega\")\n",
    "len(data)\n",
    "for i in range(0, len(data127)):\n",
    "    data127[i] = np.append(data127[i],[\"128\"])\n",
    "data = np.concatenate((data, data127))\n",
    "print(len(data))"
   ]
  },
  {
   "cell_type": "code",
   "execution_count": 141,
   "id": "6a926ee5",
   "metadata": {},
   "outputs": [
    {
     "name": "stdout",
     "output_type": "stream",
     "text": [
      "143406\n"
     ]
    }
   ],
   "source": [
    "# √ ≅ 129\n",
    "data128 = load_images_from_folder(\"C:/Users/madha/Documents/BE Project/Dataset/111_Greek/129_chi\")\n",
    "len(data)\n",
    "for i in range(0, len(data128)):\n",
    "    data128[i] = np.append(data128[i],[\"129\"])\n",
    "data = np.concatenate((data, data128))\n",
    "print(len(data))"
   ]
  },
  {
   "cell_type": "code",
   "execution_count": 142,
   "id": "67bca045",
   "metadata": {},
   "outputs": [
    {
     "name": "stdout",
     "output_type": "stream",
     "text": [
      "143410\n"
     ]
    }
   ],
   "source": [
    "# √ ≅ 130\n",
    "data129 = load_images_from_folder(\"C:/Users/madha/Documents/BE Project/Dataset/111_Greek/130_iota\")\n",
    "len(data)\n",
    "for i in range(0, len(data129)):\n",
    "    data129[i] = np.append(data129[i],[\"130\"])\n",
    "data = np.concatenate((data, data129))\n",
    "print(len(data))"
   ]
  },
  {
   "cell_type": "code",
   "execution_count": 143,
   "id": "3d323dd2",
   "metadata": {},
   "outputs": [
    {
     "name": "stdout",
     "output_type": "stream",
     "text": [
      "143424\n"
     ]
    }
   ],
   "source": [
    "# √ ≅ 131\n",
    "data130 = load_images_from_folder(\"C:/Users/madha/Documents/BE Project/Dataset/111_Greek/131_kappa\")\n",
    "len(data)\n",
    "for i in range(0, len(data130)):\n",
    "    data130[i] = np.append(data130[i],[\"131\"])\n",
    "data = np.concatenate((data, data130))\n",
    "print(len(data))"
   ]
  },
  {
   "cell_type": "code",
   "execution_count": 144,
   "id": "6d9e7f97",
   "metadata": {},
   "outputs": [
    {
     "name": "stdout",
     "output_type": "stream",
     "text": [
      "143438\n"
     ]
    }
   ],
   "source": [
    "# √ ≅ 132\n",
    "data131 = load_images_from_folder(\"C:/Users/madha/Documents/BE Project/Dataset/111_Greek/132_omicron\")\n",
    "len(data)\n",
    "for i in range(0, len(data131)):\n",
    "    data131[i] = np.append(data131[i],[\"132\"])\n",
    "data = np.concatenate((data, data131))\n",
    "print(len(data))"
   ]
  },
  {
   "cell_type": "code",
   "execution_count": 145,
   "id": "74eb27e0",
   "metadata": {},
   "outputs": [
    {
     "name": "stdout",
     "output_type": "stream",
     "text": [
      "143452\n"
     ]
    }
   ],
   "source": [
    "# √ ≅ 133\n",
    "data132 = load_images_from_folder(\"C:/Users/madha/Documents/BE Project/Dataset/111_Greek/133_upsilon\")\n",
    "len(data)\n",
    "for i in range(0, len(data132)):\n",
    "    data132[i] = np.append(data132[i],[\"133\"])\n",
    "data = np.concatenate((data, data132))\n",
    "print(len(data))"
   ]
  },
  {
   "cell_type": "code",
   "execution_count": 146,
   "id": "9f42a141",
   "metadata": {},
   "outputs": [
    {
     "name": "stdout",
     "output_type": "stream",
     "text": [
      "143470\n"
     ]
    }
   ],
   "source": [
    "# √ ≅ 134\n",
    "data133 = load_images_from_folder(\"C:/Users/madha/Documents/BE Project/Dataset/111_Greek/134_xi\")\n",
    "len(data)\n",
    "for i in range(0, len(data133)):\n",
    "    data133[i] = np.append(data133[i],[\"134\"])\n",
    "data = np.concatenate((data, data133))\n",
    "print(len(data))"
   ]
  },
  {
   "cell_type": "code",
   "execution_count": 148,
   "id": "1bb9af05",
   "metadata": {},
   "outputs": [
    {
     "data": {
      "text/plain": [
       "143470"
      ]
     },
     "execution_count": 148,
     "metadata": {},
     "output_type": "execute_result"
    }
   ],
   "source": [
    "len(data)"
   ]
  },
  {
   "cell_type": "code",
   "execution_count": 147,
   "id": "f51e3e7a",
   "metadata": {},
   "outputs": [],
   "source": [
    "df = pd.DataFrame(data, index = None)\n",
    "df.to_csv('training_set.csv', index = False)"
   ]
  },
  {
   "cell_type": "code",
   "execution_count": null,
   "id": "8bbe43fe",
   "metadata": {},
   "outputs": [],
   "source": []
  },
  {
   "cell_type": "code",
   "execution_count": null,
   "id": "ecd962a8",
   "metadata": {},
   "outputs": [],
   "source": []
  }
 ],
 "metadata": {
  "kernelspec": {
   "display_name": "Python 3 (ipykernel)",
   "language": "python",
   "name": "python3"
  },
  "language_info": {
   "codemirror_mode": {
    "name": "ipython",
    "version": 3
   },
   "file_extension": ".py",
   "mimetype": "text/x-python",
   "name": "python",
   "nbconvert_exporter": "python",
   "pygments_lexer": "ipython3",
   "version": "3.9.7"
  }
 },
 "nbformat": 4,
 "nbformat_minor": 5
}
