{
 "cells": [
  {
   "cell_type": "markdown",
   "id": "e547fd4c",
   "metadata": {},
   "source": [
    "### Libraries"
   ]
  },
  {
   "cell_type": "code",
   "execution_count": 171,
   "id": "d4759a45",
   "metadata": {},
   "outputs": [],
   "source": [
    "import numpy as np\n",
    "import pandas as pd\n",
    "import matplotlib.pyplot as ply\n",
    "import cv2\n",
    "import os\n",
    "from os import listdir\n",
    "from os.path import isfile,join\n",
    "from PIL import Image"
   ]
  },
  {
   "cell_type": "markdown",
   "id": "2b8cec04",
   "metadata": {},
   "source": [
    "### Loading images"
   ]
  },
  {
   "cell_type": "code",
   "execution_count": 172,
   "id": "8440cb70",
   "metadata": {},
   "outputs": [],
   "source": [
    "def load_images_from_folder(folder):\n",
    "    train_data = []\n",
    "    for filename in os.listdir(folder):\n",
    "        img = cv2.imread(os.path.join(folder, filename), cv2.IMREAD_GRAYSCALE)\n",
    "        img = cv2.bitwise_not(img)\n",
    "        if img is not None:\n",
    "            _, thresh = cv2.threshold(img, 127, 255, cv2.THRESH_BINARY) #remove background and convert image to binary\n",
    "            ctrs,_ = cv2.findContours(thresh, cv2.RETR_EXTERNAL, cv2.CHAIN_APPROX_NONE) #contours and parent pt; return all boundary points\n",
    "            cnt = sorted(ctrs, key = lambda ctr:cv2.boundingRect(ctr)[0]) #bounding box/rect\n",
    "            #for max dimension of rect/block\n",
    "            w = int(28)\n",
    "            h = int(28)\n",
    "            maxi = 0\n",
    "            for c in cnt:\n",
    "                x, y, w, h = cv2.boundingRect(c)\n",
    "                maxi = max(w*h, maxi)\n",
    "                if maxi == w*h:\n",
    "                    x_max = x\n",
    "                    y_max = y\n",
    "                    w_max = w\n",
    "                    h_max = h\n",
    "            #cropping accf to block\n",
    "            im_crop = thresh[y_max: y_max + h + 10, x_max: x_max + w_max + 10]\n",
    "            \n",
    "            #reszing image\n",
    "            im_resize = cv2.resize(im_crop, (28,28))\n",
    "            im_resize = np.reshape(im_resize, [784,1])\n",
    "            \n",
    "            #append to training data\n",
    "            train_data.append(im_resize)\n",
    "        \n",
    "    return train_data\n"
   ]
  },
  {
   "cell_type": "markdown",
   "id": "44f64447",
   "metadata": {},
   "source": [
    "## Dataset"
   ]
  },
  {
   "cell_type": "code",
   "execution_count": 173,
   "id": "bdf62d72",
   "metadata": {},
   "outputs": [],
   "source": [
    "data = []"
   ]
  },
  {
   "cell_type": "code",
   "execution_count": 174,
   "id": "c22b5108",
   "metadata": {},
   "outputs": [],
   "source": [
    "#assigning \"-\" = \"10\", \"+\" = \"11\""
   ]
  },
  {
   "cell_type": "code",
   "execution_count": 175,
   "id": "683c10f0",
   "metadata": {},
   "outputs": [
    {
     "name": "stdout",
     "output_type": "stream",
     "text": [
      "655\n"
     ]
    }
   ],
   "source": [
    "# -\n",
    "data = load_images_from_folder(\"C:/Users/madha/Downloads/BE Proj/Dataset/training/sub\")\n",
    "len(data)\n",
    "for i in range(0, len(data)):\n",
    "    data[i] = np.append(data[i],[\"10\"])\n",
    "print(len(data))\n"
   ]
  },
  {
   "cell_type": "code",
   "execution_count": 176,
   "id": "4006e713",
   "metadata": {},
   "outputs": [
    {
     "name": "stdout",
     "output_type": "stream",
     "text": [
      "1251\n"
     ]
    }
   ],
   "source": [
    "# +\n",
    "data0 = load_images_from_folder(\"C:/Users/madha/Downloads/BE Proj/Dataset/training/add\")\n",
    "len(data)\n",
    "for i in range(0, len(data0)):\n",
    "    data0[i] = np.append(data0[i],[\"11\"])\n",
    "data = np.concatenate((data, data0))\n",
    "print(len(data))"
   ]
  },
  {
   "cell_type": "code",
   "execution_count": 177,
   "id": "84371d68",
   "metadata": {},
   "outputs": [
    {
     "name": "stdout",
     "output_type": "stream",
     "text": [
      "1846\n"
     ]
    }
   ],
   "source": [
    "# 0\n",
    "data1 = load_images_from_folder(\"C:/Users/madha/Downloads/BE Proj/Dataset/training/0\")\n",
    "len(data)\n",
    "for i in range(0, len(data1)):\n",
    "    data1[i] = np.append(data1[i],[\"0\"])\n",
    "data = np.concatenate((data, data1))\n",
    "print(len(data))"
   ]
  },
  {
   "cell_type": "code",
   "execution_count": 178,
   "id": "5ac07ebb",
   "metadata": {},
   "outputs": [
    {
     "name": "stdout",
     "output_type": "stream",
     "text": [
      "2408\n"
     ]
    }
   ],
   "source": [
    "# 1\n",
    "data2 = load_images_from_folder(\"C:/Users/madha/Downloads/BE Proj/Dataset/training/1\")\n",
    "len(data)\n",
    "for i in range(0, len(data2)):\n",
    "    data2[i] = np.append(data2[i],[\"1\"])\n",
    "data = np.concatenate((data, data2))\n",
    "print(len(data))"
   ]
  },
  {
   "cell_type": "code",
   "execution_count": 179,
   "id": "5c259d71",
   "metadata": {},
   "outputs": [
    {
     "name": "stdout",
     "output_type": "stream",
     "text": [
      "2841\n"
     ]
    }
   ],
   "source": [
    "# 2\n",
    "data3 = load_images_from_folder(\"C:/Users/madha/Downloads/BE Proj/Dataset/training/2\")\n",
    "len(data)\n",
    "for i in range(0, len(data3)):\n",
    "    data3[i] = np.append(data3[i],[\"2\"])\n",
    "data = np.concatenate((data, data3))\n",
    "print(len(data))\n"
   ]
  },
  {
   "cell_type": "code",
   "execution_count": 180,
   "id": "9a6455e5",
   "metadata": {},
   "outputs": [
    {
     "name": "stdout",
     "output_type": "stream",
     "text": [
      "3382\n"
     ]
    }
   ],
   "source": [
    "# 3\n",
    "data4 = load_images_from_folder(\"C:/Users/madha/Downloads/BE Proj/Dataset/training/3\")\n",
    "len(data)\n",
    "for i in range(0, len(data4)):\n",
    "    data4[i] = np.append(data4[i],[\"3\"])\n",
    "data = np.concatenate((data, data4))\n",
    "print(len(data))"
   ]
  },
  {
   "cell_type": "code",
   "execution_count": 181,
   "id": "9d3b8d1c",
   "metadata": {},
   "outputs": [
    {
     "name": "stdout",
     "output_type": "stream",
     "text": [
      "3908\n"
     ]
    }
   ],
   "source": [
    "# 4\n",
    "data5 = load_images_from_folder(\"C:/Users/madha/Downloads/BE Proj/Dataset/training/4\")\n",
    "len(data)\n",
    "for i in range(0, len(data5)):\n",
    "    data5[i] = np.append(data5[i],[\"4\"])\n",
    "data = np.concatenate((data, data5))\n",
    "print(len(data))"
   ]
  },
  {
   "cell_type": "code",
   "execution_count": 182,
   "id": "4e32c68e",
   "metadata": {},
   "outputs": [
    {
     "name": "stdout",
     "output_type": "stream",
     "text": [
      "4341\n"
     ]
    }
   ],
   "source": [
    "# 5\n",
    "data6 = load_images_from_folder(\"C:/Users/madha/Downloads/BE Proj/Dataset/training/5\")\n",
    "len(data)\n",
    "for i in range(0, len(data6)):\n",
    "    data6[i] = np.append(data6[i],[\"5\"])\n",
    "data = np.concatenate((data, data6))\n",
    "print(len(data))"
   ]
  },
  {
   "cell_type": "code",
   "execution_count": 183,
   "id": "b756e3ba",
   "metadata": {},
   "outputs": [
    {
     "name": "stdout",
     "output_type": "stream",
     "text": [
      "4922\n"
     ]
    }
   ],
   "source": [
    "# 6\n",
    "data7 = load_images_from_folder(\"C:/Users/madha/Downloads/BE Proj/Dataset/training/6\")\n",
    "len(data)\n",
    "for i in range(0, len(data7)):\n",
    "    data7[i] = np.append(data7[i],[\"6\"])\n",
    "data = np.concatenate((data, data7))\n",
    "print(len(data))"
   ]
  },
  {
   "cell_type": "code",
   "execution_count": 184,
   "id": "280474fe",
   "metadata": {},
   "outputs": [
    {
     "name": "stdout",
     "output_type": "stream",
     "text": [
      "5455\n"
     ]
    }
   ],
   "source": [
    "data8 = load_images_from_folder(\"C:/Users/madha/Downloads/BE Proj/Dataset/training/7\")\n",
    "len(data)\n",
    "for i in range(0, len(data8)):\n",
    "    data8[i] = np.append(data8[i],[\"7\"])\n",
    "data = np.concatenate((data, data8))\n",
    "print(len(data))"
   ]
  },
  {
   "cell_type": "code",
   "execution_count": 185,
   "id": "25eb3cd3",
   "metadata": {},
   "outputs": [
    {
     "name": "stdout",
     "output_type": "stream",
     "text": [
      "6009\n"
     ]
    }
   ],
   "source": [
    "# 8\n",
    "data9 = load_images_from_folder(\"C:/Users/madha/Downloads/BE Proj/Dataset/training/8\")\n",
    "len(data)\n",
    "for i in range(0, len(data9)):\n",
    "    data9[i] = np.append(data9[i],[\"8\"])\n",
    "data = np.concatenate((data, data9))\n",
    "print(len(data))"
   ]
  },
  {
   "cell_type": "code",
   "execution_count": 186,
   "id": "cd107ada",
   "metadata": {},
   "outputs": [
    {
     "name": "stdout",
     "output_type": "stream",
     "text": [
      "6555\n"
     ]
    }
   ],
   "source": [
    "# 9\n",
    "data10 = load_images_from_folder(\"C:/Users/madha/Downloads/BE Proj/Dataset/training/9\")\n",
    "len(data)\n",
    "for i in range(0, len(data10)):\n",
    "    data10[i] = np.append(data10[i],[\"9\"])\n",
    "data = np.concatenate((data, data10))\n",
    "print(len(data))"
   ]
  },
  {
   "cell_type": "code",
   "execution_count": 187,
   "id": "8698a9a4",
   "metadata": {},
   "outputs": [
    {
     "name": "stdout",
     "output_type": "stream",
     "text": [
      "7101\n"
     ]
    }
   ],
   "source": [
    "# *\n",
    "data11 = load_images_from_folder(\"C:/Users/madha/Downloads/BE Proj/Dataset/training/9\")\n",
    "len(data)\n",
    "for i in range(0, len(data11)):\n",
    "    data11[i] = np.append(data11[i],[\"12\"])\n",
    "data = np.concatenate((data, data11))\n",
    "print(len(data))"
   ]
  },
  {
   "cell_type": "code",
   "execution_count": 188,
   "id": "baf8e7fd",
   "metadata": {},
   "outputs": [],
   "source": [
    "df = pd.DataFrame(data, index = None)\n",
    "df.to_csv('train_set_final.csv', index = False)"
   ]
  },
  {
   "cell_type": "code",
   "execution_count": null,
   "id": "59135dea",
   "metadata": {},
   "outputs": [],
   "source": []
  }
 ],
 "metadata": {
  "kernelspec": {
   "display_name": "Python 3",
   "language": "python",
   "name": "python3"
  },
  "language_info": {
   "codemirror_mode": {
    "name": "ipython",
    "version": 3
   },
   "file_extension": ".py",
   "mimetype": "text/x-python",
   "name": "python",
   "nbconvert_exporter": "python",
   "pygments_lexer": "ipython3",
   "version": "3.8.8"
  }
 },
 "nbformat": 4,
 "nbformat_minor": 5
}
